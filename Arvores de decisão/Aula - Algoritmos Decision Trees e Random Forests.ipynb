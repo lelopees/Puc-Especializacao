{
 "cells": [
  {
   "cell_type": "code",
   "execution_count": 1,
   "id": "d63c1dc7",
   "metadata": {},
   "outputs": [],
   "source": [
    "# Carregando bibliotecas\n",
    "\n",
    "import pandas as pd\n",
    "from sklearn.tree import DecisionTreeClassifier\n",
    "from sklearn.ensemble import RandomForestClassifier\n",
    "from sklearn.model_selection import train_test_split\n",
    "from sklearn import metrics"
   ]
  },
  {
   "cell_type": "markdown",
   "id": "170aead2",
   "metadata": {},
   "source": [
    "# Árvore de Decisão"
   ]
  },
  {
   "cell_type": "code",
   "execution_count": 2,
   "id": "2ad3ecd8",
   "metadata": {},
   "outputs": [],
   "source": [
    "# Carregando o conjunto de dados\n",
    "dataset = pd.read_csv(\"diabetes.csv\", header = 0)"
   ]
  },
  {
   "cell_type": "code",
   "execution_count": 16,
   "id": "35566ed3",
   "metadata": {},
   "outputs": [
    {
     "data": {
      "text/html": [
       "<div>\n",
       "<style scoped>\n",
       "    .dataframe tbody tr th:only-of-type {\n",
       "        vertical-align: middle;\n",
       "    }\n",
       "\n",
       "    .dataframe tbody tr th {\n",
       "        vertical-align: top;\n",
       "    }\n",
       "\n",
       "    .dataframe thead th {\n",
       "        text-align: right;\n",
       "    }\n",
       "</style>\n",
       "<table border=\"1\" class=\"dataframe\">\n",
       "  <thead>\n",
       "    <tr style=\"text-align: right;\">\n",
       "      <th></th>\n",
       "      <th>Pregnancies</th>\n",
       "      <th>Glucose</th>\n",
       "      <th>BloodPressure</th>\n",
       "      <th>SkinThickness</th>\n",
       "      <th>Insulin</th>\n",
       "      <th>BMI</th>\n",
       "      <th>DiabetesPedigreeFunction</th>\n",
       "      <th>Age</th>\n",
       "      <th>Outcome</th>\n",
       "    </tr>\n",
       "  </thead>\n",
       "  <tbody>\n",
       "    <tr>\n",
       "      <th>0</th>\n",
       "      <td>6</td>\n",
       "      <td>148</td>\n",
       "      <td>72</td>\n",
       "      <td>35</td>\n",
       "      <td>0</td>\n",
       "      <td>33.6</td>\n",
       "      <td>0.627</td>\n",
       "      <td>50</td>\n",
       "      <td>1</td>\n",
       "    </tr>\n",
       "    <tr>\n",
       "      <th>1</th>\n",
       "      <td>1</td>\n",
       "      <td>85</td>\n",
       "      <td>66</td>\n",
       "      <td>29</td>\n",
       "      <td>0</td>\n",
       "      <td>26.6</td>\n",
       "      <td>0.351</td>\n",
       "      <td>31</td>\n",
       "      <td>0</td>\n",
       "    </tr>\n",
       "    <tr>\n",
       "      <th>2</th>\n",
       "      <td>8</td>\n",
       "      <td>183</td>\n",
       "      <td>64</td>\n",
       "      <td>0</td>\n",
       "      <td>0</td>\n",
       "      <td>23.3</td>\n",
       "      <td>0.672</td>\n",
       "      <td>32</td>\n",
       "      <td>1</td>\n",
       "    </tr>\n",
       "    <tr>\n",
       "      <th>3</th>\n",
       "      <td>1</td>\n",
       "      <td>89</td>\n",
       "      <td>66</td>\n",
       "      <td>23</td>\n",
       "      <td>94</td>\n",
       "      <td>28.1</td>\n",
       "      <td>0.167</td>\n",
       "      <td>21</td>\n",
       "      <td>0</td>\n",
       "    </tr>\n",
       "    <tr>\n",
       "      <th>4</th>\n",
       "      <td>0</td>\n",
       "      <td>137</td>\n",
       "      <td>40</td>\n",
       "      <td>35</td>\n",
       "      <td>168</td>\n",
       "      <td>43.1</td>\n",
       "      <td>2.288</td>\n",
       "      <td>33</td>\n",
       "      <td>1</td>\n",
       "    </tr>\n",
       "  </tbody>\n",
       "</table>\n",
       "</div>"
      ],
      "text/plain": [
       "   Pregnancies  Glucose  BloodPressure  SkinThickness  Insulin   BMI  \\\n",
       "0            6      148             72             35        0  33.6   \n",
       "1            1       85             66             29        0  26.6   \n",
       "2            8      183             64              0        0  23.3   \n",
       "3            1       89             66             23       94  28.1   \n",
       "4            0      137             40             35      168  43.1   \n",
       "\n",
       "   DiabetesPedigreeFunction  Age  Outcome  \n",
       "0                     0.627   50        1  \n",
       "1                     0.351   31        0  \n",
       "2                     0.672   32        1  \n",
       "3                     0.167   21        0  \n",
       "4                     2.288   33        1  "
      ]
     },
     "execution_count": 16,
     "metadata": {},
     "output_type": "execute_result"
    }
   ],
   "source": [
    "dataset.head()"
   ]
  },
  {
   "cell_type": "code",
   "execution_count": 4,
   "id": "0beff3b7",
   "metadata": {},
   "outputs": [],
   "source": [
    "# Separando atributos e rótulos\n",
    "\n",
    "col_atributos = ['Pregnancies', 'Glucose', 'BloodPressure', 'SkinThickness', 'Insulin', 'BMI', 'DiabetesPedigreeFunction','Age']\n",
    "\n",
    "X = dataset[col_atributos] # Features\n",
    "\n",
    "y = dataset.Outcome # Target"
   ]
  },
  {
   "cell_type": "code",
   "execution_count": 5,
   "id": "80073412",
   "metadata": {},
   "outputs": [],
   "source": [
    "# Realizando split do dataset em conjuntos de treino e teste\n",
    "\n",
    "X_treino, X_teste, y_treino, y_teste = train_test_split(X, y, test_size = 0.3, random_state = 1)"
   ]
  },
  {
   "cell_type": "code",
   "execution_count": 6,
   "id": "3d099dab",
   "metadata": {},
   "outputs": [],
   "source": [
    "# Criando o objeto do classificador Decision Tree\n",
    "\n",
    "decision_tree_model = DecisionTreeClassifier(random_state = 100)"
   ]
  },
  {
   "cell_type": "code",
   "execution_count": 9,
   "id": "176afd52",
   "metadata": {},
   "outputs": [
    {
     "data": {
      "text/plain": [
       "DecisionTreeClassifier(random_state=100)"
      ]
     },
     "execution_count": 9,
     "metadata": {},
     "output_type": "execute_result"
    }
   ],
   "source": [
    "# Treinando o classificador Decision Tree\n",
    "\n",
    "decision_tree_model.fit(X_treino, y_treino)"
   ]
  },
  {
   "cell_type": "code",
   "execution_count": 10,
   "id": "8d4af07f",
   "metadata": {},
   "outputs": [],
   "source": [
    "# Realizando predição no conjunto de teste\n",
    "\n",
    "y_pred_decision_tree = decision_tree_model.predict(X_teste)"
   ]
  },
  {
   "cell_type": "code",
   "execution_count": 11,
   "id": "5f52c96a",
   "metadata": {},
   "outputs": [
    {
     "name": "stdout",
     "output_type": "stream",
     "text": [
      "Acurácia: 0.7056277056277056\n"
     ]
    }
   ],
   "source": [
    "# Calculando a acurácia do modelo Decision Tree\n",
    "\n",
    "print(\"Acurácia:\", metrics.accuracy_score(y_teste, y_pred_decision_tree))"
   ]
  },
  {
   "cell_type": "code",
   "execution_count": 12,
   "id": "0fc2bfe6",
   "metadata": {},
   "outputs": [
    {
     "data": {
      "text/plain": [
       "array([1], dtype=int64)"
      ]
     },
     "execution_count": 12,
     "metadata": {},
     "output_type": "execute_result"
    }
   ],
   "source": [
    "# Realizando predição para uma nova instância \n",
    "\n",
    "decision_tree_model.predict([[1, 170, 65, 0, 0, 27, 0.7, 30]])"
   ]
  },
  {
   "cell_type": "code",
   "execution_count": 13,
   "id": "b0f9aa7e",
   "metadata": {},
   "outputs": [
    {
     "data": {
      "text/plain": [
       "array([0.04600078, 0.27622004, 0.15638797, 0.06655554, 0.03329325,\n",
       "       0.1890839 , 0.11182262, 0.1206359 ])"
      ]
     },
     "execution_count": 13,
     "metadata": {},
     "output_type": "execute_result"
    }
   ],
   "source": [
    "# Recuperando a importância dos atributos definida pelo modelo\n",
    "#Nesse caso a glicose é o nivel raiz, depois o indice corporal\n",
    "\n",
    "decision_tree_model.feature_importances_"
   ]
  },
  {
   "cell_type": "code",
   "execution_count": 14,
   "id": "013655f1",
   "metadata": {},
   "outputs": [
    {
     "data": {
      "text/plain": [
       "16"
      ]
     },
     "execution_count": 14,
     "metadata": {},
     "output_type": "execute_result"
    }
   ],
   "source": [
    "# Recuperando a profundidade da árvore (niveis de nós foi construido)\n",
    "\n",
    "decision_tree_model.get_depth()"
   ]
  },
  {
   "cell_type": "code",
   "execution_count": 18,
   "id": "4a40b93a",
   "metadata": {},
   "outputs": [
    {
     "data": {
      "text/plain": [
       "97"
      ]
     },
     "execution_count": 18,
     "metadata": {},
     "output_type": "execute_result"
    }
   ],
   "source": [
    "# Recuperando a quantidade de folhas da árvore \n",
    "\n",
    "decision_tree_model.get_n_leaves()"
   ]
  },
  {
   "cell_type": "markdown",
   "id": "1b7f45d5",
   "metadata": {},
   "source": [
    "# Random Forest"
   ]
  },
  {
   "cell_type": "code",
   "execution_count": 19,
   "id": "fb33a08e",
   "metadata": {},
   "outputs": [],
   "source": [
    "# Carregando o conjunto de dados\n",
    "\n",
    "dataset = pd.read_csv(\"diabetes.csv\", header = 0)"
   ]
  },
  {
   "cell_type": "code",
   "execution_count": 20,
   "id": "e7816e95",
   "metadata": {},
   "outputs": [
    {
     "data": {
      "text/html": [
       "<div>\n",
       "<style scoped>\n",
       "    .dataframe tbody tr th:only-of-type {\n",
       "        vertical-align: middle;\n",
       "    }\n",
       "\n",
       "    .dataframe tbody tr th {\n",
       "        vertical-align: top;\n",
       "    }\n",
       "\n",
       "    .dataframe thead th {\n",
       "        text-align: right;\n",
       "    }\n",
       "</style>\n",
       "<table border=\"1\" class=\"dataframe\">\n",
       "  <thead>\n",
       "    <tr style=\"text-align: right;\">\n",
       "      <th></th>\n",
       "      <th>Pregnancies</th>\n",
       "      <th>Glucose</th>\n",
       "      <th>BloodPressure</th>\n",
       "      <th>SkinThickness</th>\n",
       "      <th>Insulin</th>\n",
       "      <th>BMI</th>\n",
       "      <th>DiabetesPedigreeFunction</th>\n",
       "      <th>Age</th>\n",
       "      <th>Outcome</th>\n",
       "    </tr>\n",
       "  </thead>\n",
       "  <tbody>\n",
       "    <tr>\n",
       "      <th>0</th>\n",
       "      <td>6</td>\n",
       "      <td>148</td>\n",
       "      <td>72</td>\n",
       "      <td>35</td>\n",
       "      <td>0</td>\n",
       "      <td>33.6</td>\n",
       "      <td>0.627</td>\n",
       "      <td>50</td>\n",
       "      <td>1</td>\n",
       "    </tr>\n",
       "    <tr>\n",
       "      <th>1</th>\n",
       "      <td>1</td>\n",
       "      <td>85</td>\n",
       "      <td>66</td>\n",
       "      <td>29</td>\n",
       "      <td>0</td>\n",
       "      <td>26.6</td>\n",
       "      <td>0.351</td>\n",
       "      <td>31</td>\n",
       "      <td>0</td>\n",
       "    </tr>\n",
       "    <tr>\n",
       "      <th>2</th>\n",
       "      <td>8</td>\n",
       "      <td>183</td>\n",
       "      <td>64</td>\n",
       "      <td>0</td>\n",
       "      <td>0</td>\n",
       "      <td>23.3</td>\n",
       "      <td>0.672</td>\n",
       "      <td>32</td>\n",
       "      <td>1</td>\n",
       "    </tr>\n",
       "    <tr>\n",
       "      <th>3</th>\n",
       "      <td>1</td>\n",
       "      <td>89</td>\n",
       "      <td>66</td>\n",
       "      <td>23</td>\n",
       "      <td>94</td>\n",
       "      <td>28.1</td>\n",
       "      <td>0.167</td>\n",
       "      <td>21</td>\n",
       "      <td>0</td>\n",
       "    </tr>\n",
       "    <tr>\n",
       "      <th>4</th>\n",
       "      <td>0</td>\n",
       "      <td>137</td>\n",
       "      <td>40</td>\n",
       "      <td>35</td>\n",
       "      <td>168</td>\n",
       "      <td>43.1</td>\n",
       "      <td>2.288</td>\n",
       "      <td>33</td>\n",
       "      <td>1</td>\n",
       "    </tr>\n",
       "  </tbody>\n",
       "</table>\n",
       "</div>"
      ],
      "text/plain": [
       "   Pregnancies  Glucose  BloodPressure  SkinThickness  Insulin   BMI  \\\n",
       "0            6      148             72             35        0  33.6   \n",
       "1            1       85             66             29        0  26.6   \n",
       "2            8      183             64              0        0  23.3   \n",
       "3            1       89             66             23       94  28.1   \n",
       "4            0      137             40             35      168  43.1   \n",
       "\n",
       "   DiabetesPedigreeFunction  Age  Outcome  \n",
       "0                     0.627   50        1  \n",
       "1                     0.351   31        0  \n",
       "2                     0.672   32        1  \n",
       "3                     0.167   21        0  \n",
       "4                     2.288   33        1  "
      ]
     },
     "execution_count": 20,
     "metadata": {},
     "output_type": "execute_result"
    }
   ],
   "source": [
    "dataset.head()"
   ]
  },
  {
   "cell_type": "code",
   "execution_count": 21,
   "id": "a48aa37c",
   "metadata": {},
   "outputs": [],
   "source": [
    "# Separando atributos e rótulos\n",
    "\n",
    "col_atributos = ['Pregnancies', 'Glucose', 'BloodPressure', 'SkinThickness', 'Insulin', 'BMI', 'DiabetesPedigreeFunction','Age']\n",
    "\n",
    "X = dataset[col_atributos] # Features\n",
    "\n",
    "y = dataset.Outcome # Target"
   ]
  },
  {
   "cell_type": "code",
   "execution_count": 22,
   "id": "442a89e6",
   "metadata": {},
   "outputs": [],
   "source": [
    "# Realizando split do dataset em conjuntos de treino e teste\n",
    "\n",
    "X_treino, X_teste, y_treino, y_teste = train_test_split(X, y, test_size = 0.3, random_state = 1)"
   ]
  },
  {
   "cell_type": "code",
   "execution_count": 23,
   "id": "935938d7",
   "metadata": {},
   "outputs": [],
   "source": [
    "# Criando o objeto do classificador Random Forest\n",
    "\n",
    "random_forest_model = RandomForestClassifier(random_state = 100)"
   ]
  },
  {
   "cell_type": "code",
   "execution_count": 24,
   "id": "524afb2b",
   "metadata": {},
   "outputs": [
    {
     "data": {
      "text/plain": [
       "RandomForestClassifier(random_state=100)"
      ]
     },
     "execution_count": 24,
     "metadata": {},
     "output_type": "execute_result"
    }
   ],
   "source": [
    "# Treinando o classificador Random Forest\n",
    "\n",
    "random_forest_model.fit(X_treino, y_treino)"
   ]
  },
  {
   "cell_type": "code",
   "execution_count": 25,
   "id": "efe5805b",
   "metadata": {},
   "outputs": [],
   "source": [
    "# Realizando predição no conjunto de teste\n",
    "\n",
    "y_pred_random_forest = random_forest_model.predict(X_teste)"
   ]
  },
  {
   "cell_type": "code",
   "execution_count": 26,
   "id": "bb31cfa6",
   "metadata": {},
   "outputs": [
    {
     "name": "stdout",
     "output_type": "stream",
     "text": [
      "Acurácia: 0.8051948051948052\n"
     ]
    }
   ],
   "source": [
    "# Calculando a acurácia do modelo Random Forest\n",
    "\n",
    "print(\"Acurácia:\",metrics.accuracy_score(y_teste, y_pred_random_forest))"
   ]
  },
  {
   "cell_type": "code",
   "execution_count": 27,
   "id": "26c881dd",
   "metadata": {},
   "outputs": [
    {
     "data": {
      "text/plain": [
       "array([0], dtype=int64)"
      ]
     },
     "execution_count": 27,
     "metadata": {},
     "output_type": "execute_result"
    }
   ],
   "source": [
    "# Realizando predição para uma nova instância \n",
    "\n",
    "random_forest_model.predict([[1, 170, 65, 0, 0, 27, 0.7, 30]])"
   ]
  },
  {
   "cell_type": "code",
   "execution_count": 28,
   "id": "3fa85dd2",
   "metadata": {},
   "outputs": [
    {
     "data": {
      "text/plain": [
       "array([0.08989042, 0.23545445, 0.09702054, 0.06976451, 0.07072857,\n",
       "       0.17521567, 0.13192852, 0.12999731])"
      ]
     },
     "execution_count": 28,
     "metadata": {},
     "output_type": "execute_result"
    }
   ],
   "source": [
    "# Recuperando a importância dos atributos definida pelo modelo\n",
    "\n",
    "random_forest_model.feature_importances_"
   ]
  },
  {
   "cell_type": "code",
   "execution_count": 29,
   "id": "3b7f3834",
   "metadata": {},
   "outputs": [
    {
     "data": {
      "text/plain": [
       "100"
      ]
     },
     "execution_count": 29,
     "metadata": {},
     "output_type": "execute_result"
    }
   ],
   "source": [
    "# Recuperando a quantidade de árvores de decisão utilizadas pelo modelo\n",
    "\n",
    "len(random_forest_model.estimators_)"
   ]
  },
  {
   "cell_type": "code",
   "execution_count": 30,
   "id": "d37df5e8",
   "metadata": {},
   "outputs": [
    {
     "data": {
      "text/plain": [
       "[DecisionTreeClassifier(max_features='auto', random_state=186422792),\n",
       " DecisionTreeClassifier(max_features='auto', random_state=735107864),\n",
       " DecisionTreeClassifier(max_features='auto', random_state=1195587395),\n",
       " DecisionTreeClassifier(max_features='auto', random_state=1769725799),\n",
       " DecisionTreeClassifier(max_features='auto', random_state=1823289175),\n",
       " DecisionTreeClassifier(max_features='auto', random_state=113311823),\n",
       " DecisionTreeClassifier(max_features='auto', random_state=1480802224),\n",
       " DecisionTreeClassifier(max_features='auto', random_state=638252938),\n",
       " DecisionTreeClassifier(max_features='auto', random_state=20267358),\n",
       " DecisionTreeClassifier(max_features='auto', random_state=673068980),\n",
       " DecisionTreeClassifier(max_features='auto', random_state=522135394),\n",
       " DecisionTreeClassifier(max_features='auto', random_state=800870453),\n",
       " DecisionTreeClassifier(max_features='auto', random_state=733361730),\n",
       " DecisionTreeClassifier(max_features='auto', random_state=902405858),\n",
       " DecisionTreeClassifier(max_features='auto', random_state=1399526926),\n",
       " DecisionTreeClassifier(max_features='auto', random_state=1944503074),\n",
       " DecisionTreeClassifier(max_features='auto', random_state=587150321),\n",
       " DecisionTreeClassifier(max_features='auto', random_state=1589750512),\n",
       " DecisionTreeClassifier(max_features='auto', random_state=322523416),\n",
       " DecisionTreeClassifier(max_features='auto', random_state=273507983),\n",
       " DecisionTreeClassifier(max_features='auto', random_state=1680714980),\n",
       " DecisionTreeClassifier(max_features='auto', random_state=533915499),\n",
       " DecisionTreeClassifier(max_features='auto', random_state=898516284),\n",
       " DecisionTreeClassifier(max_features='auto', random_state=100277818),\n",
       " DecisionTreeClassifier(max_features='auto', random_state=795978640),\n",
       " DecisionTreeClassifier(max_features='auto', random_state=267560443),\n",
       " DecisionTreeClassifier(max_features='auto', random_state=465475209),\n",
       " DecisionTreeClassifier(max_features='auto', random_state=24984669),\n",
       " DecisionTreeClassifier(max_features='auto', random_state=943593558),\n",
       " DecisionTreeClassifier(max_features='auto', random_state=1320372610),\n",
       " DecisionTreeClassifier(max_features='auto', random_state=2055673499),\n",
       " DecisionTreeClassifier(max_features='auto', random_state=1933526892),\n",
       " DecisionTreeClassifier(max_features='auto', random_state=1338668932),\n",
       " DecisionTreeClassifier(max_features='auto', random_state=543975839),\n",
       " DecisionTreeClassifier(max_features='auto', random_state=738481025),\n",
       " DecisionTreeClassifier(max_features='auto', random_state=339250317),\n",
       " DecisionTreeClassifier(max_features='auto', random_state=1358174965),\n",
       " DecisionTreeClassifier(max_features='auto', random_state=1337251539),\n",
       " DecisionTreeClassifier(max_features='auto', random_state=1177137764),\n",
       " DecisionTreeClassifier(max_features='auto', random_state=568583172),\n",
       " DecisionTreeClassifier(max_features='auto', random_state=1854155355),\n",
       " DecisionTreeClassifier(max_features='auto', random_state=856240059),\n",
       " DecisionTreeClassifier(max_features='auto', random_state=1889913667),\n",
       " DecisionTreeClassifier(max_features='auto', random_state=609734791),\n",
       " DecisionTreeClassifier(max_features='auto', random_state=1364293681),\n",
       " DecisionTreeClassifier(max_features='auto', random_state=1803988399),\n",
       " DecisionTreeClassifier(max_features='auto', random_state=1443589825),\n",
       " DecisionTreeClassifier(max_features='auto', random_state=1283664189),\n",
       " DecisionTreeClassifier(max_features='auto', random_state=753382158),\n",
       " DecisionTreeClassifier(max_features='auto', random_state=295259831),\n",
       " DecisionTreeClassifier(max_features='auto', random_state=1601301447),\n",
       " DecisionTreeClassifier(max_features='auto', random_state=767185659),\n",
       " DecisionTreeClassifier(max_features='auto', random_state=24431952),\n",
       " DecisionTreeClassifier(max_features='auto', random_state=139902978),\n",
       " DecisionTreeClassifier(max_features='auto', random_state=1084162937),\n",
       " DecisionTreeClassifier(max_features='auto', random_state=630035049),\n",
       " DecisionTreeClassifier(max_features='auto', random_state=1269860830),\n",
       " DecisionTreeClassifier(max_features='auto', random_state=610166163),\n",
       " DecisionTreeClassifier(max_features='auto', random_state=65519586),\n",
       " DecisionTreeClassifier(max_features='auto', random_state=349562943),\n",
       " DecisionTreeClassifier(max_features='auto', random_state=424529077),\n",
       " DecisionTreeClassifier(max_features='auto', random_state=2058105115),\n",
       " DecisionTreeClassifier(max_features='auto', random_state=445837112),\n",
       " DecisionTreeClassifier(max_features='auto', random_state=1659657454),\n",
       " DecisionTreeClassifier(max_features='auto', random_state=451605873),\n",
       " DecisionTreeClassifier(max_features='auto', random_state=1891782558),\n",
       " DecisionTreeClassifier(max_features='auto', random_state=1640434608),\n",
       " DecisionTreeClassifier(max_features='auto', random_state=1738419503),\n",
       " DecisionTreeClassifier(max_features='auto', random_state=156663463),\n",
       " DecisionTreeClassifier(max_features='auto', random_state=1899466605),\n",
       " DecisionTreeClassifier(max_features='auto', random_state=1676804902),\n",
       " DecisionTreeClassifier(max_features='auto', random_state=129378476),\n",
       " DecisionTreeClassifier(max_features='auto', random_state=2065539346),\n",
       " DecisionTreeClassifier(max_features='auto', random_state=1185433792),\n",
       " DecisionTreeClassifier(max_features='auto', random_state=257448888),\n",
       " DecisionTreeClassifier(max_features='auto', random_state=218864546),\n",
       " DecisionTreeClassifier(max_features='auto', random_state=1677382069),\n",
       " DecisionTreeClassifier(max_features='auto', random_state=1636697802),\n",
       " DecisionTreeClassifier(max_features='auto', random_state=330289425),\n",
       " DecisionTreeClassifier(max_features='auto', random_state=125695560),\n",
       " DecisionTreeClassifier(max_features='auto', random_state=1041442317),\n",
       " DecisionTreeClassifier(max_features='auto', random_state=1962271338),\n",
       " DecisionTreeClassifier(max_features='auto', random_state=559135774),\n",
       " DecisionTreeClassifier(max_features='auto', random_state=755146769),\n",
       " DecisionTreeClassifier(max_features='auto', random_state=351509557),\n",
       " DecisionTreeClassifier(max_features='auto', random_state=508106820),\n",
       " DecisionTreeClassifier(max_features='auto', random_state=87785394),\n",
       " DecisionTreeClassifier(max_features='auto', random_state=1558839784),\n",
       " DecisionTreeClassifier(max_features='auto', random_state=902057307),\n",
       " DecisionTreeClassifier(max_features='auto', random_state=321550811),\n",
       " DecisionTreeClassifier(max_features='auto', random_state=191920083),\n",
       " DecisionTreeClassifier(max_features='auto', random_state=1396271797),\n",
       " DecisionTreeClassifier(max_features='auto', random_state=1155840846),\n",
       " DecisionTreeClassifier(max_features='auto', random_state=1443675136),\n",
       " DecisionTreeClassifier(max_features='auto', random_state=1076727821),\n",
       " DecisionTreeClassifier(max_features='auto', random_state=323818681),\n",
       " DecisionTreeClassifier(max_features='auto', random_state=1227912652),\n",
       " DecisionTreeClassifier(max_features='auto', random_state=48965994),\n",
       " DecisionTreeClassifier(max_features='auto', random_state=1513525379),\n",
       " DecisionTreeClassifier(max_features='auto', random_state=207964742)]"
      ]
     },
     "execution_count": 30,
     "metadata": {},
     "output_type": "execute_result"
    }
   ],
   "source": [
    "# Recuperando as árvores de decisão utilizadas pelo modelo\n",
    "# estimators_ são as arvores\n",
    "random_forest_model.estimators_"
   ]
  },
  {
   "cell_type": "code",
   "execution_count": null,
   "id": "35a30e57",
   "metadata": {},
   "outputs": [],
   "source": []
  }
 ],
 "metadata": {
  "kernelspec": {
   "display_name": "Python 3.6.1 64-bit",
   "language": "python",
   "name": "python3"
  },
  "language_info": {
   "codemirror_mode": {
    "name": "ipython",
    "version": 3
   },
   "file_extension": ".py",
   "mimetype": "text/x-python",
   "name": "python",
   "nbconvert_exporter": "python",
   "pygments_lexer": "ipython3",
   "version": "3.6.1"
  },
  "vscode": {
   "interpreter": {
    "hash": "43ad51f8ae94d49090c6e2510c45231fcf4c53047ab4b6b3dc725370e74fa5b9"
   }
  }
 },
 "nbformat": 4,
 "nbformat_minor": 5
}
