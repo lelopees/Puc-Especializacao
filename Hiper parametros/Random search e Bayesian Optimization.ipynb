{
 "cells": [
  {
   "cell_type": "code",
   "execution_count": 41,
   "id": "e2f33c01",
   "metadata": {},
   "outputs": [],
   "source": [
    "import pandas as pd\n",
    "import numpy as np\n",
    "%matplotlib inline"
   ]
  },
  {
   "cell_type": "code",
   "execution_count": 42,
   "id": "8b8a4e90",
   "metadata": {},
   "outputs": [],
   "source": [
    "data = pd.read_csv('winequality-red.csv')"
   ]
  },
  {
   "cell_type": "code",
   "execution_count": 43,
   "id": "e6ce1aa1",
   "metadata": {},
   "outputs": [
    {
     "data": {
      "text/html": [
       "<div>\n",
       "<style scoped>\n",
       "    .dataframe tbody tr th:only-of-type {\n",
       "        vertical-align: middle;\n",
       "    }\n",
       "\n",
       "    .dataframe tbody tr th {\n",
       "        vertical-align: top;\n",
       "    }\n",
       "\n",
       "    .dataframe thead th {\n",
       "        text-align: right;\n",
       "    }\n",
       "</style>\n",
       "<table border=\"1\" class=\"dataframe\">\n",
       "  <thead>\n",
       "    <tr style=\"text-align: right;\">\n",
       "      <th></th>\n",
       "      <th>fixed acidity</th>\n",
       "      <th>volatile acidity</th>\n",
       "      <th>citric acid</th>\n",
       "      <th>residual sugar</th>\n",
       "      <th>chlorides</th>\n",
       "      <th>free sulfur dioxide</th>\n",
       "      <th>total sulfur dioxide</th>\n",
       "      <th>density</th>\n",
       "      <th>pH</th>\n",
       "      <th>sulphates</th>\n",
       "      <th>alcohol</th>\n",
       "      <th>quality</th>\n",
       "    </tr>\n",
       "  </thead>\n",
       "  <tbody>\n",
       "    <tr>\n",
       "      <th>0</th>\n",
       "      <td>7.4</td>\n",
       "      <td>0.70</td>\n",
       "      <td>0.00</td>\n",
       "      <td>1.9</td>\n",
       "      <td>0.076</td>\n",
       "      <td>11.0</td>\n",
       "      <td>34.0</td>\n",
       "      <td>0.9978</td>\n",
       "      <td>3.51</td>\n",
       "      <td>0.56</td>\n",
       "      <td>9.4</td>\n",
       "      <td>5</td>\n",
       "    </tr>\n",
       "    <tr>\n",
       "      <th>1</th>\n",
       "      <td>7.8</td>\n",
       "      <td>0.88</td>\n",
       "      <td>0.00</td>\n",
       "      <td>2.6</td>\n",
       "      <td>0.098</td>\n",
       "      <td>25.0</td>\n",
       "      <td>67.0</td>\n",
       "      <td>0.9968</td>\n",
       "      <td>3.20</td>\n",
       "      <td>0.68</td>\n",
       "      <td>9.8</td>\n",
       "      <td>5</td>\n",
       "    </tr>\n",
       "    <tr>\n",
       "      <th>2</th>\n",
       "      <td>7.8</td>\n",
       "      <td>0.76</td>\n",
       "      <td>0.04</td>\n",
       "      <td>2.3</td>\n",
       "      <td>0.092</td>\n",
       "      <td>15.0</td>\n",
       "      <td>54.0</td>\n",
       "      <td>0.9970</td>\n",
       "      <td>3.26</td>\n",
       "      <td>0.65</td>\n",
       "      <td>9.8</td>\n",
       "      <td>5</td>\n",
       "    </tr>\n",
       "    <tr>\n",
       "      <th>3</th>\n",
       "      <td>11.2</td>\n",
       "      <td>0.28</td>\n",
       "      <td>0.56</td>\n",
       "      <td>1.9</td>\n",
       "      <td>0.075</td>\n",
       "      <td>17.0</td>\n",
       "      <td>60.0</td>\n",
       "      <td>0.9980</td>\n",
       "      <td>3.16</td>\n",
       "      <td>0.58</td>\n",
       "      <td>9.8</td>\n",
       "      <td>6</td>\n",
       "    </tr>\n",
       "    <tr>\n",
       "      <th>4</th>\n",
       "      <td>7.4</td>\n",
       "      <td>0.70</td>\n",
       "      <td>0.00</td>\n",
       "      <td>1.9</td>\n",
       "      <td>0.076</td>\n",
       "      <td>11.0</td>\n",
       "      <td>34.0</td>\n",
       "      <td>0.9978</td>\n",
       "      <td>3.51</td>\n",
       "      <td>0.56</td>\n",
       "      <td>9.4</td>\n",
       "      <td>5</td>\n",
       "    </tr>\n",
       "  </tbody>\n",
       "</table>\n",
       "</div>"
      ],
      "text/plain": [
       "   fixed acidity  volatile acidity  citric acid  residual sugar  chlorides  \\\n",
       "0            7.4              0.70         0.00             1.9      0.076   \n",
       "1            7.8              0.88         0.00             2.6      0.098   \n",
       "2            7.8              0.76         0.04             2.3      0.092   \n",
       "3           11.2              0.28         0.56             1.9      0.075   \n",
       "4            7.4              0.70         0.00             1.9      0.076   \n",
       "\n",
       "   free sulfur dioxide  total sulfur dioxide  density    pH  sulphates  \\\n",
       "0                 11.0                  34.0   0.9978  3.51       0.56   \n",
       "1                 25.0                  67.0   0.9968  3.20       0.68   \n",
       "2                 15.0                  54.0   0.9970  3.26       0.65   \n",
       "3                 17.0                  60.0   0.9980  3.16       0.58   \n",
       "4                 11.0                  34.0   0.9978  3.51       0.56   \n",
       "\n",
       "   alcohol  quality  \n",
       "0      9.4        5  \n",
       "1      9.8        5  \n",
       "2      9.8        5  \n",
       "3      9.8        6  \n",
       "4      9.4        5  "
      ]
     },
     "execution_count": 43,
     "metadata": {},
     "output_type": "execute_result"
    }
   ],
   "source": [
    "data.head()"
   ]
  },
  {
   "cell_type": "code",
   "execution_count": 44,
   "id": "b09df9cc",
   "metadata": {},
   "outputs": [
    {
     "data": {
      "text/plain": [
       "3     10\n",
       "4     53\n",
       "5    681\n",
       "6    638\n",
       "7    199\n",
       "8     18\n",
       "Name: quality, dtype: int64"
      ]
     },
     "execution_count": 44,
     "metadata": {},
     "output_type": "execute_result"
    }
   ],
   "source": [
    "data['quality'].value_counts().sort_index()"
   ]
  },
  {
   "cell_type": "code",
   "execution_count": 45,
   "id": "112802f1",
   "metadata": {},
   "outputs": [],
   "source": [
    "data['vinho_bom'] = data['quality'].map(lambda x: 0 if x < 7 else 1)"
   ]
  },
  {
   "cell_type": "code",
   "execution_count": 46,
   "id": "07b2a9ec",
   "metadata": {},
   "outputs": [
    {
     "data": {
      "text/plain": [
       "0    1382\n",
       "1     217\n",
       "Name: vinho_bom, dtype: int64"
      ]
     },
     "execution_count": 46,
     "metadata": {},
     "output_type": "execute_result"
    }
   ],
   "source": [
    "data['vinho_bom'].value_counts().sort_index()"
   ]
  },
  {
   "cell_type": "code",
   "execution_count": 47,
   "id": "1097b371",
   "metadata": {},
   "outputs": [],
   "source": [
    "from lightgbm import LGBMClassifier"
   ]
  },
  {
   "cell_type": "code",
   "execution_count": 48,
   "id": "1bcd2d3d",
   "metadata": {},
   "outputs": [],
   "source": [
    "?LGBMClassifier"
   ]
  },
  {
   "cell_type": "code",
   "execution_count": 49,
   "id": "9be72914",
   "metadata": {},
   "outputs": [],
   "source": [
    "from sklearn.model_selection import train_test_split"
   ]
  },
  {
   "cell_type": "code",
   "execution_count": 50,
   "id": "7959ed6d",
   "metadata": {},
   "outputs": [],
   "source": [
    "Xtrain, Xtest, ytrain, ytest = train_test_split(data.iloc[:,:-2], data['vinho_bom'], train_size=0.5)"
   ]
  },
  {
   "cell_type": "code",
   "execution_count": 51,
   "id": "4bdb81ab",
   "metadata": {},
   "outputs": [
    {
     "data": {
      "text/plain": [
       "((799, 11), (800, 11), (799,), (800,))"
      ]
     },
     "execution_count": 51,
     "metadata": {},
     "output_type": "execute_result"
    }
   ],
   "source": [
    "Xtrain.shape, Xtest.shape, ytrain.shape, ytest.shape"
   ]
  },
  {
   "cell_type": "code",
   "execution_count": 52,
   "id": "3f28c628",
   "metadata": {},
   "outputs": [
    {
     "data": {
      "text/html": [
       "<div>\n",
       "<style scoped>\n",
       "    .dataframe tbody tr th:only-of-type {\n",
       "        vertical-align: middle;\n",
       "    }\n",
       "\n",
       "    .dataframe tbody tr th {\n",
       "        vertical-align: top;\n",
       "    }\n",
       "\n",
       "    .dataframe thead th {\n",
       "        text-align: right;\n",
       "    }\n",
       "</style>\n",
       "<table border=\"1\" class=\"dataframe\">\n",
       "  <thead>\n",
       "    <tr style=\"text-align: right;\">\n",
       "      <th></th>\n",
       "      <th>fixed acidity</th>\n",
       "      <th>volatile acidity</th>\n",
       "      <th>citric acid</th>\n",
       "      <th>residual sugar</th>\n",
       "      <th>chlorides</th>\n",
       "      <th>free sulfur dioxide</th>\n",
       "      <th>total sulfur dioxide</th>\n",
       "      <th>density</th>\n",
       "      <th>pH</th>\n",
       "      <th>sulphates</th>\n",
       "      <th>alcohol</th>\n",
       "    </tr>\n",
       "  </thead>\n",
       "  <tbody>\n",
       "    <tr>\n",
       "      <th>970</th>\n",
       "      <td>10.4</td>\n",
       "      <td>0.26</td>\n",
       "      <td>0.48</td>\n",
       "      <td>1.9</td>\n",
       "      <td>0.066</td>\n",
       "      <td>6.0</td>\n",
       "      <td>10.0</td>\n",
       "      <td>0.99724</td>\n",
       "      <td>3.33</td>\n",
       "      <td>0.87</td>\n",
       "      <td>10.9</td>\n",
       "    </tr>\n",
       "    <tr>\n",
       "      <th>842</th>\n",
       "      <td>10.6</td>\n",
       "      <td>0.50</td>\n",
       "      <td>0.45</td>\n",
       "      <td>2.6</td>\n",
       "      <td>0.119</td>\n",
       "      <td>34.0</td>\n",
       "      <td>68.0</td>\n",
       "      <td>0.99708</td>\n",
       "      <td>3.23</td>\n",
       "      <td>0.72</td>\n",
       "      <td>10.9</td>\n",
       "    </tr>\n",
       "    <tr>\n",
       "      <th>720</th>\n",
       "      <td>8.4</td>\n",
       "      <td>0.56</td>\n",
       "      <td>0.04</td>\n",
       "      <td>2.0</td>\n",
       "      <td>0.082</td>\n",
       "      <td>10.0</td>\n",
       "      <td>22.0</td>\n",
       "      <td>0.99760</td>\n",
       "      <td>3.22</td>\n",
       "      <td>0.44</td>\n",
       "      <td>9.6</td>\n",
       "    </tr>\n",
       "    <tr>\n",
       "      <th>524</th>\n",
       "      <td>9.2</td>\n",
       "      <td>0.43</td>\n",
       "      <td>0.49</td>\n",
       "      <td>2.4</td>\n",
       "      <td>0.086</td>\n",
       "      <td>23.0</td>\n",
       "      <td>116.0</td>\n",
       "      <td>0.99760</td>\n",
       "      <td>3.23</td>\n",
       "      <td>0.64</td>\n",
       "      <td>9.5</td>\n",
       "    </tr>\n",
       "    <tr>\n",
       "      <th>1284</th>\n",
       "      <td>7.0</td>\n",
       "      <td>0.42</td>\n",
       "      <td>0.19</td>\n",
       "      <td>2.3</td>\n",
       "      <td>0.071</td>\n",
       "      <td>18.0</td>\n",
       "      <td>36.0</td>\n",
       "      <td>0.99476</td>\n",
       "      <td>3.39</td>\n",
       "      <td>0.56</td>\n",
       "      <td>10.9</td>\n",
       "    </tr>\n",
       "  </tbody>\n",
       "</table>\n",
       "</div>"
      ],
      "text/plain": [
       "      fixed acidity  volatile acidity  citric acid  residual sugar  chlorides  \\\n",
       "970            10.4              0.26         0.48             1.9      0.066   \n",
       "842            10.6              0.50         0.45             2.6      0.119   \n",
       "720             8.4              0.56         0.04             2.0      0.082   \n",
       "524             9.2              0.43         0.49             2.4      0.086   \n",
       "1284            7.0              0.42         0.19             2.3      0.071   \n",
       "\n",
       "      free sulfur dioxide  total sulfur dioxide  density    pH  sulphates  \\\n",
       "970                   6.0                  10.0  0.99724  3.33       0.87   \n",
       "842                  34.0                  68.0  0.99708  3.23       0.72   \n",
       "720                  10.0                  22.0  0.99760  3.22       0.44   \n",
       "524                  23.0                 116.0  0.99760  3.23       0.64   \n",
       "1284                 18.0                  36.0  0.99476  3.39       0.56   \n",
       "\n",
       "      alcohol  \n",
       "970      10.9  \n",
       "842      10.9  \n",
       "720       9.6  \n",
       "524       9.5  \n",
       "1284     10.9  "
      ]
     },
     "execution_count": 52,
     "metadata": {},
     "output_type": "execute_result"
    }
   ],
   "source": [
    "Xtrain.head()"
   ]
  },
  {
   "cell_type": "code",
   "execution_count": 53,
   "id": "6659f522",
   "metadata": {},
   "outputs": [
    {
     "data": {
      "text/plain": [
       "LGBMClassifier(random_state=0)"
      ]
     },
     "execution_count": 53,
     "metadata": {},
     "output_type": "execute_result"
    }
   ],
   "source": [
    "mdl = LGBMClassifier(random_state=0)\n",
    "mdl.fit(Xtrain, ytrain)"
   ]
  },
  {
   "cell_type": "code",
   "execution_count": 54,
   "id": "7c5d61e0",
   "metadata": {},
   "outputs": [],
   "source": [
    "from sklearn.metrics import roc_auc_score\n",
    "p = mdl.predict_proba(Xtest)[:,1]"
   ]
  },
  {
   "cell_type": "code",
   "execution_count": 55,
   "id": "e0718ce4",
   "metadata": {},
   "outputs": [
    {
     "data": {
      "text/plain": [
       "0.9011072001726208"
      ]
     },
     "execution_count": 55,
     "metadata": {},
     "output_type": "execute_result"
    }
   ],
   "source": [
    "roc_auc_score(ytest, p)"
   ]
  },
  {
   "cell_type": "markdown",
   "id": "b2ac38e9",
   "metadata": {},
   "source": [
    "### Random search - busca aleatória"
   ]
  },
  {
   "cell_type": "code",
   "execution_count": 56,
   "id": "d6b576ee",
   "metadata": {},
   "outputs": [],
   "source": [
    "from skopt import dummy_minimize"
   ]
  },
  {
   "cell_type": "code",
   "execution_count": 57,
   "id": "f35503a1",
   "metadata": {},
   "outputs": [
    {
     "name": "stdout",
     "output_type": "stream",
     "text": [
      "Iteration No: 1 started. Evaluating function at random point.\n",
      "\n",
      "parametros: [0.09871192514273254, 74, 10, 0.3372159440002478, 0.23208030173540176]\n",
      "Iteration No: 1 ended. Evaluation done at random point.\n",
      "Time taken: 0.1185\n",
      "Function value obtained: -0.9000\n",
      "Current minimum: -0.9000\n",
      "Iteration No: 2 started. Evaluating function at random point.\n",
      "\n",
      "parametros: [0.001529949829431263, 78, 72, 0.3782826906908954, 0.457090726807603]\n",
      "Iteration No: 2 ended. Evaluation done at random point.\n",
      "Time taken: 0.0498\n",
      "Function value obtained: -0.8690\n",
      "Current minimum: -0.9000\n",
      "Iteration No: 3 started. Evaluating function at random point.\n",
      "\n",
      "parametros: [0.01195730942971637, 128, 19, 0.5483207515942279, 0.49910760440160107]\n",
      "Iteration No: 3 ended. Evaluation done at random point.\n",
      "Time taken: 0.1084\n",
      "Function value obtained: -0.8849\n",
      "Current minimum: -0.9000\n",
      "Iteration No: 4 started. Evaluating function at random point.\n",
      "\n",
      "parametros: [0.0028784217488024557, 16, 51, 0.9182639233502714, 0.5114843271882895]\n",
      "Iteration No: 4 ended. Evaluation done at random point.\n",
      "Time taken: 0.0738\n",
      "Function value obtained: -0.8813\n",
      "Current minimum: -0.9000\n",
      "Iteration No: 5 started. Evaluating function at random point.\n",
      "\n",
      "parametros: [0.007267702383040958, 96, 97, 0.7894697745197069, 0.7443734643715278]\n",
      "Iteration No: 5 ended. Evaluation done at random point.\n",
      "Time taken: 0.0574\n",
      "Function value obtained: -0.8772\n",
      "Current minimum: -0.9000\n",
      "Iteration No: 6 started. Evaluating function at random point.\n",
      "\n",
      "parametros: [0.04031948793713315, 63, 23, 0.5422449214947946, 0.8785182267810852]\n",
      "Iteration No: 6 ended. Evaluation done at random point.\n",
      "Time taken: 0.1028\n",
      "Function value obtained: -0.8908\n",
      "Current minimum: -0.9000\n",
      "Iteration No: 7 started. Evaluating function at random point.\n",
      "\n",
      "parametros: [0.045529597892867466, 90, 14, 0.30939747550591, 0.15331888117140713]\n",
      "Iteration No: 7 ended. Evaluation done at random point.\n",
      "Time taken: 0.0906\n",
      "Function value obtained: -0.8745\n",
      "Current minimum: -0.9000\n",
      "Iteration No: 8 started. Evaluating function at random point.\n",
      "\n",
      "parametros: [0.021930881089764206, 73, 4, 0.6880713925510277, 0.47060909107214777]\n",
      "Iteration No: 8 ended. Evaluation done at random point.\n",
      "Time taken: 0.2424\n",
      "Function value obtained: -0.9069\n",
      "Current minimum: -0.9069\n",
      "Iteration No: 9 started. Evaluating function at random point.\n",
      "\n",
      "parametros: [0.002483715204721354, 26, 44, 0.7021758812975045, 0.8511631047076357]\n",
      "Iteration No: 9 ended. Evaluation done at random point.\n",
      "Time taken: 0.0898\n",
      "Function value obtained: -0.8777\n",
      "Current minimum: -0.9069\n",
      "Iteration No: 10 started. Evaluating function at random point.\n",
      "\n",
      "parametros: [0.0010878688833867167, 43, 83, 0.98941803446117, 0.7733490889418555]\n",
      "Iteration No: 10 ended. Evaluation done at random point.\n",
      "Time taken: 0.0544\n",
      "Function value obtained: -0.8694\n",
      "Current minimum: -0.9069\n",
      "Iteration No: 11 started. Evaluating function at random point.\n",
      "\n",
      "parametros: [0.003638211850540798, 89, 8, 0.14806470624875995, 0.5031041735583147]\n",
      "Iteration No: 11 ended. Evaluation done at random point.\n",
      "Time taken: 0.0809\n",
      "Function value obtained: -0.8756\n",
      "Current minimum: -0.9069\n",
      "Iteration No: 12 started. Evaluating function at random point.\n",
      "\n",
      "parametros: [0.06564339077069616, 105, 24, 0.163515944581681, 0.572319439183401]\n",
      "Iteration No: 12 ended. Evaluation done at random point.\n",
      "Time taken: 0.0610\n",
      "Function value obtained: -0.8703\n",
      "Current minimum: -0.9069\n",
      "Iteration No: 13 started. Evaluating function at random point.\n",
      "\n",
      "parametros: [0.0014697585967435188, 40, 9, 0.9149259627034465, 0.36903710098874454]\n",
      "Iteration No: 13 ended. Evaluation done at random point.\n",
      "Time taken: 0.2689\n",
      "Function value obtained: -0.8977\n",
      "Current minimum: -0.9069\n",
      "Iteration No: 14 started. Evaluating function at random point.\n",
      "\n",
      "parametros: [0.014749532034944692, 89, 26, 0.633241401906253, 0.9608820910034701]\n",
      "Iteration No: 14 ended. Evaluation done at random point.\n",
      "Time taken: 0.1226\n",
      "Function value obtained: -0.8854\n",
      "Current minimum: -0.9069\n",
      "Iteration No: 15 started. Evaluating function at random point.\n",
      "\n",
      "parametros: [0.0033262735259356143, 34, 89, 0.5567760660749166, 0.9549443246793757]\n",
      "Iteration No: 15 ended. Evaluation done at random point.\n",
      "Time taken: 0.0771\n",
      "Function value obtained: -0.8638\n",
      "Current minimum: -0.9069\n",
      "Iteration No: 16 started. Evaluating function at random point.\n",
      "\n",
      "parametros: [0.009685436253688836, 2, 78, 0.09307844214592059, 0.225969507272543]\n",
      "Iteration No: 16 ended. Evaluation done at random point.\n",
      "Time taken: 0.0528\n",
      "Function value obtained: -0.5000\n",
      "Current minimum: -0.9069\n",
      "Iteration No: 17 started. Evaluating function at random point.\n",
      "\n",
      "parametros: [0.03844210597293627, 93, 22, 0.8889692020284521, 0.5867093706408683]\n",
      "Iteration No: 17 ended. Evaluation done at random point.\n",
      "Time taken: 0.1843\n",
      "Function value obtained: -0.8971\n",
      "Current minimum: -0.9069\n",
      "Iteration No: 18 started. Evaluating function at random point.\n",
      "\n",
      "parametros: [0.00786973960931508, 45, 21, 0.40870512409353993, 0.5845822248519866]\n",
      "Iteration No: 18 ended. Evaluation done at random point.\n",
      "Time taken: 0.1249\n",
      "Function value obtained: -0.8812\n",
      "Current minimum: -0.9069\n",
      "Iteration No: 19 started. Evaluating function at random point.\n",
      "\n",
      "parametros: [0.020164978538544195, 59, 83, 0.6559446598566927, 0.2136833965403995]\n",
      "Iteration No: 19 ended. Evaluation done at random point.\n",
      "Time taken: 0.0612\n",
      "Function value obtained: -0.8765\n",
      "Current minimum: -0.9069\n",
      "Iteration No: 20 started. Evaluating function at random point.\n",
      "\n",
      "parametros: [0.024010940718920456, 9, 25, 0.3814534248789504, 0.3429351025885235]\n",
      "Iteration No: 20 ended. Evaluation done at random point.\n",
      "Time taken: 0.0775\n",
      "Function value obtained: -0.8830\n",
      "Current minimum: -0.9069\n",
      "Iteration No: 21 started. Evaluating function at random point.\n",
      "\n",
      "parametros: [0.061911658253265375, 96, 61, 0.9665980447909663, 0.6970973480366033]\n",
      "Iteration No: 21 ended. Evaluation done at random point.\n",
      "Time taken: 0.0838\n",
      "Function value obtained: -0.8957\n",
      "Current minimum: -0.9069\n",
      "Iteration No: 22 started. Evaluating function at random point.\n",
      "\n",
      "parametros: [0.01751424579956557, 110, 93, 0.9520147957717178, 0.5049209201319466]\n",
      "Iteration No: 22 ended. Evaluation done at random point.\n",
      "Time taken: 0.0671\n",
      "Function value obtained: -0.8820\n",
      "Current minimum: -0.9069\n",
      "Iteration No: 23 started. Evaluating function at random point.\n",
      "\n",
      "parametros: [0.014347598955915168, 84, 87, 0.27517563123087635, 0.9130415685060285]\n",
      "Iteration No: 23 ended. Evaluation done at random point.\n",
      "Time taken: 0.0478\n",
      "Function value obtained: -0.8654\n",
      "Current minimum: -0.9069\n",
      "Iteration No: 24 started. Evaluating function at random point.\n",
      "\n",
      "parametros: [0.014039737029591284, 17, 6, 0.6362876679396877, 0.3939804115948866]\n",
      "Iteration No: 24 ended. Evaluation done at random point.\n",
      "Time taken: 0.0851\n",
      "Function value obtained: -0.8972\n",
      "Current minimum: -0.9069\n",
      "Iteration No: 25 started. Evaluating function at random point.\n",
      "\n",
      "parametros: [0.011327034010293172, 103, 14, 0.3894062720023748, 0.9176816358278194]\n",
      "Iteration No: 25 ended. Evaluation done at random point.\n",
      "Time taken: 0.1032\n",
      "Function value obtained: -0.8856\n",
      "Current minimum: -0.9069\n",
      "Iteration No: 26 started. Evaluating function at random point.\n",
      "\n",
      "parametros: [0.017649005221070314, 98, 56, 0.9329653720565734, 0.7218072257652316]\n",
      "Iteration No: 26 ended. Evaluation done at random point.\n",
      "Time taken: 0.0807\n",
      "Function value obtained: -0.8813\n",
      "Current minimum: -0.9069\n",
      "Iteration No: 27 started. Evaluating function at random point.\n",
      "\n",
      "parametros: [0.09877469581360704, 123, 84, 0.18027896214743389, 0.9393359167334473]\n",
      "Iteration No: 27 ended. Evaluation done at random point.\n",
      "Time taken: 0.0357\n",
      "Function value obtained: -0.8396\n",
      "Current minimum: -0.9069\n",
      "Iteration No: 28 started. Evaluating function at random point.\n",
      "\n",
      "parametros: [0.024753483395116363, 45, 7, 0.7676898999723432, 0.7784885696151218]\n",
      "Iteration No: 28 ended. Evaluation done at random point.\n",
      "Time taken: 0.1732\n",
      "Function value obtained: -0.9024\n",
      "Current minimum: -0.9069\n",
      "Iteration No: 29 started. Evaluating function at random point.\n",
      "\n",
      "parametros: [0.07015345605895347, 11, 67, 0.16805741387355647, 0.11789212045581604]\n",
      "Iteration No: 29 ended. Evaluation done at random point.\n",
      "Time taken: 0.0382\n",
      "Function value obtained: -0.8694\n",
      "Current minimum: -0.9069\n",
      "Iteration No: 30 started. Evaluating function at random point.\n",
      "\n",
      "parametros: [0.0011282932078263237, 23, 41, 0.28390051422289364, 0.8740251538145993]\n",
      "Iteration No: 30 ended. Evaluation done at random point.\n",
      "Time taken: 0.0501\n",
      "Function value obtained: -0.8686\n",
      "Current minimum: -0.9069\n"
     ]
    }
   ],
   "source": [
    "def treinar_modelo(params):    \n",
    "    # quanto cada árvore irá contribuir para as combinações \n",
    "    learning_rate = params[0]\n",
    "    # número máximo de folhas do ultimo nível \n",
    "    num_leaves = params[1]\n",
    "    # número de exemplos de cada nó\n",
    "    min_child_samples = params[2]\n",
    "    # ajuda a ter diversidade das arvores\n",
    "    subsample = params[3]    \n",
    "    colsample_bytree = params[4]\n",
    "    \n",
    "    print(f'\\nparametros: {params}')\n",
    "    # subsample_freq = 1 = cada árvore irá tirar uma amostra dos dados\n",
    "    # n_estimators = números de árvores\n",
    "    \n",
    "    mdl = LGBMClassifier(learning_rate=learning_rate,num_leaves=num_leaves, min_child_samples=min_child_samples,\n",
    "                        subsample=subsample,colsample_bytree=colsample_bytree, random_state=0, subsample_freq=1,\n",
    "                        n_estimators=100)\n",
    "    \n",
    "    mdl.fit(Xtrain, ytrain)\n",
    "    \n",
    "    p = mdl.predict_proba(Xtest)[:,1]\n",
    "    \n",
    "    return -roc_auc_score(ytest, p)\n",
    "\n",
    "# especificar o min, e max dos parametros\n",
    "space= [(1e-3, 1e-1, 'log-uniform'), # log-uniform = dará mais peso para os números menores (isso é otimo pra learning_rate)\n",
    "       (2,128),    # num_leaves\n",
    "       (1,100),    # min_child_samples\n",
    "       (0.05,1.0), # subsample\n",
    "       (0.1,1.0)]   #colsample_bytree\n",
    "\n",
    "# n_calls = numeros de amostras para testar\n",
    "resultado = dummy_minimize(treinar_modelo, space, random_state=1, verbose=1, n_calls=30)\n"
   ]
  },
  {
   "cell_type": "code",
   "execution_count": 58,
   "id": "fd2f49d9",
   "metadata": {},
   "outputs": [
    {
     "data": {
      "text/plain": [
       "[0.021930881089764206, 73, 4, 0.6880713925510277, 0.47060909107214777]"
      ]
     },
     "execution_count": 58,
     "metadata": {},
     "output_type": "execute_result"
    }
   ],
   "source": [
    "# resultado final, pode pegar apenas\n",
    "resultado.x"
   ]
  },
  {
   "cell_type": "code",
   "execution_count": 59,
   "id": "37cfcfd0",
   "metadata": {},
   "outputs": [],
   "source": [
    "# aux = 0.9009 - [0.021930881089764206, 73, 4, 0.6880713925510277, 0.47060909107214777]"
   ]
  },
  {
   "cell_type": "markdown",
   "id": "1c093d87",
   "metadata": {},
   "source": [
    "### Bayesian Optimization"
   ]
  },
  {
   "cell_type": "code",
   "execution_count": 61,
   "id": "4c039551",
   "metadata": {},
   "outputs": [],
   "source": [
    "from skopt import gp_minimize"
   ]
  },
  {
   "cell_type": "code",
   "execution_count": 62,
   "id": "056a0599",
   "metadata": {},
   "outputs": [
    {
     "name": "stdout",
     "output_type": "stream",
     "text": [
      "Iteration No: 1 started. Evaluating function at random point.\n",
      "\n",
      "parametros: [0.09871192514273254, 120, 14, 0.9990884895579377, 0.3124800792567785]\n",
      "Iteration No: 1 ended. Evaluation done at random point.\n",
      "Time taken: 0.1883\n",
      "Function value obtained: -0.9083\n",
      "Current minimum: -0.9083\n",
      "Iteration No: 2 started. Evaluating function at random point.\n",
      "\n",
      "parametros: [0.006210998932353835, 51, 67, 0.9387621172657304, 0.8616798250174156]\n",
      "Iteration No: 2 ended. Evaluation done at random point.\n",
      "Time taken: 0.0831\n",
      "Function value obtained: -0.8793\n",
      "Current minimum: -0.9083\n",
      "Iteration No: 3 started. Evaluating function at random point.\n",
      "\n",
      "parametros: [0.004232013397179603, 68, 45, 0.2680983530433343, 0.5809725180523154]\n",
      "Iteration No: 3 ended. Evaluation done at random point.\n",
      "Time taken: 0.0631\n",
      "Function value obtained: -0.8733\n",
      "Current minimum: -0.9083\n",
      "Iteration No: 4 started. Evaluating function at random point.\n",
      "\n",
      "parametros: [0.0672858974212934, 60, 44, 0.9421713999524447, 0.8005503127028804]\n",
      "Iteration No: 4 ended. Evaluation done at random point.\n",
      "Time taken: 0.1025\n",
      "Function value obtained: -0.8967\n",
      "Current minimum: -0.9083\n",
      "Iteration No: 5 started. Evaluating function at random point.\n",
      "\n",
      "parametros: [0.027035912483147396, 103, 10, 0.5422449214947946, 0.8785182267810853]\n",
      "Iteration No: 5 ended. Evaluation done at random point.\n",
      "Time taken: 0.2891\n",
      "Function value obtained: -0.9006\n",
      "Current minimum: -0.9083\n",
      "Iteration No: 6 started. Evaluating function at random point.\n",
      "\n",
      "parametros: [0.045529597892867466, 107, 28, 0.1062810412364853, 0.7034752360620511]\n",
      "Iteration No: 6 ended. Evaluation done at random point.\n",
      "Time taken: 0.0568\n",
      "Function value obtained: -0.8734\n",
      "Current minimum: -0.9083\n",
      "Iteration No: 7 started. Evaluating function at random point.\n",
      "\n",
      "parametros: [0.01535080081765723, 87, 42, 0.23767335308554222, 0.3606666764912312]\n",
      "Iteration No: 7 ended. Evaluation done at random point.\n",
      "Time taken: 0.0677\n",
      "Function value obtained: -0.8794\n",
      "Current minimum: -0.9083\n",
      "Iteration No: 8 started. Evaluating function at random point.\n",
      "\n",
      "parametros: [0.0019241559628256106, 101, 42, 0.0824627456265471, 0.661626987829618]\n",
      "Iteration No: 8 ended. Evaluation done at random point.\n",
      "Time taken: 0.0333\n",
      "Function value obtained: -0.7074\n",
      "Current minimum: -0.9083\n",
      "Iteration No: 9 started. Evaluating function at random point.\n",
      "\n",
      "parametros: [0.02095421812724112, 40, 45, 0.2610183201586061, 0.16602775456833962]\n",
      "Iteration No: 9 ended. Evaluation done at random point.\n",
      "Time taken: 0.0575\n",
      "Function value obtained: -0.8742\n",
      "Current minimum: -0.9083\n",
      "Iteration No: 10 started. Evaluating function at random point.\n",
      "\n",
      "parametros: [0.008679147174590262, 14, 90, 0.163515944581681, 0.5723194391834011]\n",
      "Iteration No: 10 ended. Evaluation done at random point.\n",
      "Time taken: 0.9272\n",
      "Function value obtained: -0.5000\n",
      "Current minimum: -0.9083\n",
      "Iteration No: 11 started. Searching for the next optimal point.\n",
      "\n",
      "parametros: [0.1, 2, 1, 0.2601375262975453, 0.1]\n",
      "Iteration No: 11 ended. Search finished for the next optimal point.\n",
      "Time taken: 0.5560\n",
      "Function value obtained: -0.8746\n",
      "Current minimum: -0.9083\n",
      "Iteration No: 12 started. Searching for the next optimal point.\n",
      "\n",
      "parametros: [0.01878286124231349, 47, 27, 0.4925013227984186, 0.7789353940093218]\n",
      "Iteration No: 12 ended. Search finished for the next optimal point.\n",
      "Time taken: 1.0089\n",
      "Function value obtained: -0.8855\n",
      "Current minimum: -0.9083\n",
      "Iteration No: 13 started. Searching for the next optimal point.\n",
      "\n",
      "parametros: [0.003127770707335356, 112, 45, 0.5937000178859827, 0.135521130519392]\n",
      "Iteration No: 13 ended. Search finished for the next optimal point.\n",
      "Time taken: 0.6770\n",
      "Function value obtained: -0.8669\n",
      "Current minimum: -0.9083\n",
      "Iteration No: 14 started. Searching for the next optimal point.\n",
      "\n",
      "parametros: [0.04256554064966178, 109, 2, 0.43501411224809705, 0.9847513287387232]\n",
      "Iteration No: 14 ended. Search finished for the next optimal point.\n",
      "Time taken: 1.2159\n",
      "Function value obtained: -0.9146\n",
      "Current minimum: -0.9146\n",
      "Iteration No: 15 started. Searching for the next optimal point.\n",
      "\n",
      "parametros: [0.0026052539317698315, 88, 17, 0.3901220656699728, 0.48502458999994347]\n",
      "Iteration No: 15 ended. Search finished for the next optimal point.\n",
      "Time taken: 0.9374\n",
      "Function value obtained: -0.8791\n",
      "Current minimum: -0.9146\n",
      "Iteration No: 16 started. Searching for the next optimal point.\n",
      "\n",
      "parametros: [0.1, 2, 100, 0.7159679442949406, 0.1]\n",
      "Iteration No: 16 ended. Search finished for the next optimal point.\n",
      "Time taken: 0.8163\n",
      "Function value obtained: -0.8806\n",
      "Current minimum: -0.9146\n",
      "Iteration No: 17 started. Searching for the next optimal point.\n",
      "\n",
      "parametros: [0.1, 2, 1, 0.05, 0.1]\n",
      "Iteration No: 17 ended. Search finished for the next optimal point.\n",
      "Time taken: 0.8076\n",
      "Function value obtained: -0.8398\n",
      "Current minimum: -0.9146\n",
      "Iteration No: 18 started. Searching for the next optimal point.\n",
      "\n",
      "parametros: [0.1, 128, 27, 0.272895259484158, 1.0]\n",
      "Iteration No: 18 ended. Search finished for the next optimal point.\n",
      "Time taken: 0.6882\n",
      "Function value obtained: -0.8851\n",
      "Current minimum: -0.9146\n",
      "Iteration No: 19 started. Searching for the next optimal point.\n",
      "\n",
      "parametros: [0.01295215985900987, 4, 27, 0.9681069171321868, 0.9935347581793139]\n",
      "Iteration No: 19 ended. Search finished for the next optimal point.\n",
      "Time taken: 0.7331\n",
      "Function value obtained: -0.8719\n",
      "Current minimum: -0.9146\n",
      "Iteration No: 20 started. Searching for the next optimal point.\n",
      "\n",
      "parametros: [0.1, 108, 100, 1.0, 0.9472149460866041]\n",
      "Iteration No: 20 ended. Search finished for the next optimal point.\n",
      "Time taken: 0.7261\n",
      "Function value obtained: -0.8915\n",
      "Current minimum: -0.9146\n",
      "Iteration No: 21 started. Searching for the next optimal point.\n",
      "\n",
      "parametros: [0.03469589376481599, 100, 90, 0.30567305273153356, 1.0]\n",
      "Iteration No: 21 ended. Search finished for the next optimal point.\n",
      "Time taken: 0.6269\n",
      "Function value obtained: -0.8780\n",
      "Current minimum: -0.9146\n",
      "Iteration No: 22 started. Searching for the next optimal point.\n",
      "\n",
      "parametros: [0.0020481725460563534, 28, 13, 0.4473528548863992, 0.8277998032376201]\n",
      "Iteration No: 22 ended. Search finished for the next optimal point.\n",
      "Time taken: 0.8517\n",
      "Function value obtained: -0.8818\n",
      "Current minimum: -0.9146\n",
      "Iteration No: 23 started. Searching for the next optimal point.\n",
      "\n",
      "parametros: [0.06860180584957172, 52, 69, 0.6637654786900498, 0.9462300189973226]\n",
      "Iteration No: 23 ended. Search finished for the next optimal point.\n",
      "Time taken: 0.7687\n",
      "Function value obtained: -0.8832\n",
      "Current minimum: -0.9146\n",
      "Iteration No: 24 started. Searching for the next optimal point.\n",
      "\n",
      "parametros: [0.04676962287185326, 109, 36, 0.42565767515021063, 1.0]\n",
      "Iteration No: 24 ended. Search finished for the next optimal point.\n",
      "Time taken: 0.9709\n",
      "Function value obtained: -0.8846\n",
      "Current minimum: -0.9146\n",
      "Iteration No: 25 started. Searching for the next optimal point.\n",
      "\n",
      "parametros: [0.029859396447632768, 125, 29, 0.951132988751238, 0.1]\n",
      "Iteration No: 25 ended. Search finished for the next optimal point.\n",
      "Time taken: 0.7979\n",
      "Function value obtained: -0.8771\n",
      "Current minimum: -0.9146\n",
      "Iteration No: 26 started. Searching for the next optimal point.\n",
      "\n",
      "parametros: [0.0010023311586211982, 25, 10, 0.9910585574827018, 0.1]\n",
      "Iteration No: 26 ended. Search finished for the next optimal point.\n",
      "Time taken: 1.0298\n",
      "Function value obtained: -0.8546\n",
      "Current minimum: -0.9146\n",
      "Iteration No: 27 started. Searching for the next optimal point.\n",
      "\n",
      "parametros: [0.1, 128, 18, 0.15277578811380935, 1.0]\n",
      "Iteration No: 27 ended. Search finished for the next optimal point.\n",
      "Time taken: 0.9239\n",
      "Function value obtained: -0.8624\n",
      "Current minimum: -0.9146\n",
      "Iteration No: 28 started. Searching for the next optimal point.\n",
      "\n",
      "parametros: [0.1, 126, 100, 0.4227467167040109, 0.717268236174683]\n",
      "Iteration No: 28 ended. Search finished for the next optimal point.\n",
      "Time taken: 0.8802\n",
      "Function value obtained: -0.8822\n",
      "Current minimum: -0.9146\n",
      "Iteration No: 29 started. Searching for the next optimal point.\n",
      "\n",
      "parametros: [0.1, 49, 1, 0.7216739581279766, 0.7709654952674628]\n",
      "Iteration No: 29 ended. Search finished for the next optimal point.\n",
      "Time taken: 1.0181\n",
      "Function value obtained: -0.9165\n",
      "Current minimum: -0.9165\n",
      "Iteration No: 30 started. Searching for the next optimal point.\n",
      "\n",
      "parametros: [0.1, 68, 43, 0.7807444324578708, 0.7496255964782287]\n",
      "Iteration No: 30 ended. Search finished for the next optimal point.\n",
      "Time taken: 1.1247\n",
      "Function value obtained: -0.8959\n",
      "Current minimum: -0.9165\n"
     ]
    }
   ],
   "source": [
    "resultados_gp = gp_minimize(treinar_modelo, space, random_state=1, verbose=1, n_calls=30, n_random_starts=10)"
   ]
  },
  {
   "cell_type": "markdown",
   "id": "1e80bf8f",
   "metadata": {},
   "source": [
    "note que no ponto 11 ele está \"Searching for the next optimal point.\", isso \n",
    "sigfinica que a função está usando essas 10 combinação para achar o proximo ponto para explorar"
   ]
  },
  {
   "cell_type": "code",
   "execution_count": null,
   "id": "3b1d98e3",
   "metadata": {},
   "outputs": [],
   "source": [
    "### exploration exploitation tradeoff"
   ]
  },
  {
   "cell_type": "code",
   "execution_count": 64,
   "id": "0cb436f0",
   "metadata": {},
   "outputs": [
    {
     "data": {
      "text/plain": [
       "[0.1, 49, 1, 0.7216739581279766, 0.7709654952674628]"
      ]
     },
     "execution_count": 64,
     "metadata": {},
     "output_type": "execute_result"
    }
   ],
   "source": [
    "resultados_gp.x"
   ]
  },
  {
   "cell_type": "code",
   "execution_count": 68,
   "id": "5e26f0d9",
   "metadata": {},
   "outputs": [
    {
     "name": "stdout",
     "output_type": "stream",
     "text": [
      "resultado random search: [0.021930881089764206, 73, 4, 0.6880713925510277, 0.47060909107214777]\n",
      "resultado bayesian optmization: [0.1, 49, 1, 0.7216739581279766, 0.7709654952674628]\n"
     ]
    }
   ],
   "source": [
    "print(f'resultado random search: {resultado.x}')\n",
    "print(f'resultado bayesian optmization: {resultados_gp.x}')"
   ]
  },
  {
   "cell_type": "code",
   "execution_count": 65,
   "id": "d73c4a44",
   "metadata": {},
   "outputs": [],
   "source": [
    "from skopt.plots import plot_convergence"
   ]
  },
  {
   "cell_type": "code",
   "execution_count": 69,
   "id": "e286b5d6",
   "metadata": {},
   "outputs": [
    {
     "data": {
      "text/plain": [
       "<AxesSubplot:title={'center':'Convergence plot'}, xlabel='Number of calls $n$', ylabel='$\\\\min f(x)$ after $n$ calls'>"
      ]
     },
     "execution_count": 69,
     "metadata": {},
     "output_type": "execute_result"
    },
    {
     "data": {
      "image/png": "[encoded data removed]",
      "text/plain": [
       "<Figure size 432x288 with 1 Axes>"
      ]
     },
     "metadata": {
      "needs_background": "light"
     },
     "output_type": "display_data"
    }
   ],
   "source": [
    "plot_convergence(resultado, resultados_gp)"
   ]
  }
 ],
 "metadata": {
  "kernelspec": {
   "display_name": "Python 3.6.1 64-bit",
   "language": "python",
   "name": "python3"
  },
  "language_info": {
   "codemirror_mode": {
    "name": "ipython",
    "version": 3
   },
   "file_extension": ".py",
   "mimetype": "text/x-python",
   "name": "python",
   "nbconvert_exporter": "python",
   "pygments_lexer": "ipython3",
   "version": "3.6.1"
  },
  "vscode": {
   "interpreter": {
    "hash": "43ad51f8ae94d49090c6e2510c45231fcf4c53047ab4b6b3dc725370e74fa5b9"
   }
  }
 },
 "nbformat": 4,
 "nbformat_minor": 5
}
