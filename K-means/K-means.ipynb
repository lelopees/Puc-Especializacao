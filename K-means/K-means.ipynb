{
 "cells": [
  {
   "cell_type": "code",
   "execution_count": 2,
   "metadata": {},
   "outputs": [],
   "source": [
    "from sklearn.cluster import KMeans\n",
    "import numpy as np\n",
    "import pandas as pd\n",
    "import matplotlib.pyplot as plt\n",
    "import warnings\n",
    "warnings.filterwarnings('ignore')\n"
   ]
  },
  {
   "cell_type": "code",
   "execution_count": 3,
   "metadata": {},
   "outputs": [],
   "source": [
    "#Lendo o arquivo criado com os dados dos pacientes: peso vs. altura.\n",
    "df = pd.read_csv(\"saude.csv\", sep=';')"
   ]
  },
  {
   "cell_type": "code",
   "execution_count": 4,
   "metadata": {},
   "outputs": [],
   "source": [
    "#Cria uma matriz contendo todos os dados do arquivo CSV\n",
    "X = np.array(list(zip(df[\"peso\"], df[\"altura\"])))"
   ]
  },
  {
   "cell_type": "code",
   "execution_count": 5,
   "metadata": {},
   "outputs": [],
   "source": [
    "#Define o valor de K. O K é a quantidade de grupos que serão criados.\n",
    "k = 3\n"
   ]
  },
  {
   "cell_type": "code",
   "execution_count": 6,
   "metadata": {},
   "outputs": [
    {
     "name": "stderr",
     "output_type": "stream",
     "text": [
      "c:\\ProgramData\\Anaconda3\\lib\\site-packages\\sklearn\\cluster\\_kmeans.py:1334: UserWarning: KMeans is known to have a memory leak on Windows with MKL, when there are less chunks than available threads. You can avoid it by setting the environment variable OMP_NUM_THREADS=1.\n",
      "  warnings.warn(\n"
     ]
    }
   ],
   "source": [
    "#Cria e chama o classificador K-means.\n",
    "\n",
    "kmeans = KMeans(n_clusters=k)\n",
    "kmeans = kmeans.fit(X)\n",
    "labels = kmeans.predict(X)\n",
    "centroids = kmeans.cluster_centers_"
   ]
  },
  {
   "cell_type": "code",
   "execution_count": 7,
   "metadata": {},
   "outputs": [
    {
     "name": "stdout",
     "output_type": "stream",
     "text": [
      "[1 1 1 1 1 1 2 2 2 2 2 2 0 2 2 0 0 1 2]\n",
      "[[123.66666667 178.66666667]\n",
      " [ 44.71428571 155.57142857]\n",
      " [ 81.88888889 179.11111111]]\n"
     ]
    }
   ],
   "source": [
    "\n",
    "#Imprime a classificação de cada dado, 0 para cluster0, 1 para cluster1, etc...\n",
    "print(labels)\n",
    "\n",
    "#Imprime os pontos de cada centroide do tipo valor x:y (eixo horizontal e eixo vertical).\n",
    "print(centroids)"
   ]
  },
  {
   "cell_type": "code",
   "execution_count": 8,
   "metadata": {},
   "outputs": [],
   "source": [
    "#Cria cores para os rótulos (classes).\n",
    "\n",
    "c = [\"b\", \"r\", \"y\", \"g\", \"c\", \"m\"]\n",
    "colors = [c[i] for i in labels]"
   ]
  },
  {
   "cell_type": "code",
   "execution_count": 11,
   "metadata": {},
   "outputs": [
    {
     "data": {
      "text/plain": [
       "<matplotlib.collections.PathCollection at 0x2615a6121c0>"
      ]
     },
     "execution_count": 11,
     "metadata": {},
     "output_type": "execute_result"
    },
    {
     "data": {
      "image/png": "[encoded data removed]",
      "text/plain": [
       "<Figure size 432x288 with 1 Axes>"
      ]
     },
     "metadata": {
      "needs_background": "light"
     },
     "output_type": "display_data"
    }
   ],
   "source": [
    "#Cria o gráfico e imprime.\n",
    "plt.scatter(df[\"peso\"], df[\"altura\"], c=colors, s=18)\n",
    "plt.scatter(centroids[:, 0], centroids[:, 1], marker=\"*\", s=100, c=\"black\")"
   ]
  }
 ],
 "metadata": {
  "kernelspec": {
   "display_name": "Python 3.9.7 ('base')",
   "language": "python",
   "name": "python3"
  },
  "language_info": {
   "codemirror_mode": {
    "name": "ipython",
    "version": 3
   },
   "file_extension": ".py",
   "mimetype": "text/x-python",
   "name": "python",
   "nbconvert_exporter": "python",
   "pygments_lexer": "ipython3",
   "version": "3.9.7"
  },
  "orig_nbformat": 4,
  "vscode": {
   "interpreter": {
    "hash": "ad2bdc8ecc057115af97d19610ffacc2b4e99fae6737bb82f5d7fb13d2f2c186"
   }
  }
 },
 "nbformat": 4,
 "nbformat_minor": 2
}
