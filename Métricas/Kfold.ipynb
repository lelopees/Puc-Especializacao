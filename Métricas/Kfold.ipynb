{
 "cells": [
  {
   "cell_type": "code",
   "execution_count": 1,
   "id": "377a4e59",
   "metadata": {},
   "outputs": [],
   "source": [
    "from numpy import array\n",
    "from sklearn.model_selection import KFold"
   ]
  },
  {
   "cell_type": "code",
   "execution_count": 3,
   "id": "13f95223",
   "metadata": {},
   "outputs": [
    {
     "name": "stdout",
     "output_type": "stream",
     "text": [
      "Treino: [0.1 0.4 0.5 0.6], teste: [0.2 0.3] \n",
      "Treino: [0.2 0.3 0.4 0.6], teste: [0.1 0.5] \n",
      "Treino: [0.1 0.2 0.3 0.5], teste: [0.4 0.6] \n"
     ]
    }
   ],
   "source": [
    "dado = array([0.1,0.2,0.3,0.4,0.5,0.6])\n",
    "kfold = KFold(3, True, 1)\n",
    "\n",
    "for treino, teste in kfold.split(dado):\n",
    "    print('Treino: %s, teste: %s ' % (dado[treino], dado[teste])) "
   ]
  },
  {
   "cell_type": "code",
   "execution_count": 5,
   "id": "5d8a1a7a",
   "metadata": {},
   "outputs": [
    {
     "data": {
      "text/plain": [
       "KFold(n_splits=3, random_state=1, shuffle=True)"
      ]
     },
     "execution_count": 5,
     "metadata": {},
     "output_type": "execute_result"
    }
   ],
   "source": [
    "kfold"
   ]
  }
 ],
 "metadata": {
  "kernelspec": {
   "display_name": "Python 3 (ipykernel)",
   "language": "python",
   "name": "python3"
  },
  "language_info": {
   "codemirror_mode": {
    "name": "ipython",
    "version": 3
   },
   "file_extension": ".py",
   "mimetype": "text/x-python",
   "name": "python",
   "nbconvert_exporter": "python",
   "pygments_lexer": "ipython3",
   "version": "3.9.7"
  }
 },
 "nbformat": 4,
 "nbformat_minor": 5
}
