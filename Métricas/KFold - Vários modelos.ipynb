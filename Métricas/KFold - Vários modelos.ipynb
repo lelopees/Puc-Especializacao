{
 "cells": [
  {
   "cell_type": "code",
   "execution_count": 24,
   "id": "e3e0ec7b",
   "metadata": {},
   "outputs": [],
   "source": [
    "def ApplyesKFold(x_axis, y_axis):\n",
    "    from sklearn.linear_model import LinearRegression, ElasticNet, Ridge, Lasso\n",
    "    \n",
    "    from sklearn.model_selection import cross_val_score\n",
    "    from sklearn.model_selection import KFold\n",
    "    \n",
    "    #shuffle = embaralhar os lotes\n",
    "    kfold = KFold(n_splits=10, shuffle=True)\n",
    "    \n",
    "    x = x_axis\n",
    "    y = y_axis\n",
    "    \n",
    "    \n",
    "    linearRegression = LinearRegression()\n",
    "    elasticNet = ElasticNet()\n",
    "    ridge = Ridge()\n",
    "    lasso = Lasso()\n",
    "    \n",
    "    linearRegression_result = cross_val_score(linearRegression, x, y, cv = kfold)\n",
    "    elasticNet_result = cross_val_score(elasticNet, x, y, cv = kfold)\n",
    "    ridge_result = cross_val_score(ridge, x, y, cv = kfold)\n",
    "    lasso_result = cross_val_score(lasso, x, y, cv = kfold)\n",
    "    \n",
    "    dic_models = {\n",
    "        'LinearRegression': linearRegression_result.mean(),\n",
    "        'ElasticNet': elasticNet_result.mean(),\n",
    "        'Ridge': ridge_result.mean(),\n",
    "        'Lasso': lasso_result.mean()\n",
    "    }\n",
    "    \n",
    "    \n",
    "    bestModel = max(dic_models, key=dic_models.get)\n",
    "    \n",
    "    print(f\"Linear Regression Mean (R^2): {linearRegression_result.mean()}\\nElastic Net Mean (R^2): {elasticNet_result.mean()}\\nRidge Mean (R^2): {ridge_result.mean()}\\nLasso Mean (R^2): {lasso_result.mean()}\")\n",
    "    print(f\"The best model is: {bestModel} with value: {dic_models[bestModel]}\")   \n",
    "    "
   ]
  },
  {
   "cell_type": "code",
   "execution_count": 25,
   "id": "56cd8d0e",
   "metadata": {},
   "outputs": [
    {
     "name": "stdout",
     "output_type": "stream",
     "text": [
      "Linear Regression Mean (R^2): 0.7917433250810385\n",
      "Elastic Net Mean (R^2): 0.5424513571073513\n",
      "Ridge Mean (R^2): 0.7893707733790915\n",
      "Lasso Mean (R^2): 0.24083407321564226\n",
      "The best model is: LinearRegression with value: 0.7917433250810385\n"
     ]
    }
   ],
   "source": [
    "if __name__ == '__main__':\n",
    "    import pandas as pd \n",
    "    \n",
    "    df = pd.read_csv('Admission_Predict.csv')\n",
    "    \n",
    "    df.drop('Serial No.', axis=1, inplace=True)    \n",
    "   \n",
    "    x = df.drop('Chance of Admit ', axis = 1)\n",
    "    y = df['Chance of Admit ']\n",
    "    \n",
    "    ApplyesKFold(x, y)"
   ]
  }
 ],
 "metadata": {
  "kernelspec": {
   "display_name": "Python 3 (ipykernel)",
   "language": "python",
   "name": "python3"
  },
  "language_info": {
   "codemirror_mode": {
    "name": "ipython",
    "version": 3
   },
   "file_extension": ".py",
   "mimetype": "text/x-python",
   "name": "python",
   "nbconvert_exporter": "python",
   "pygments_lexer": "ipython3",
   "version": "3.9.7"
  }
 },
 "nbformat": 4,
 "nbformat_minor": 5
}
