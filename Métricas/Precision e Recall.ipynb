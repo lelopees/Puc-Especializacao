{
 "cells": [
  {
   "cell_type": "code",
   "execution_count": 1,
   "id": "56747102",
   "metadata": {},
   "outputs": [],
   "source": [
    "from sklearn.metrics import precision_score\n",
    "from sklearn.metrics import recall_score"
   ]
  },
  {
   "cell_type": "code",
   "execution_count": 2,
   "id": "3979846a",
   "metadata": {},
   "outputs": [],
   "source": [
    "classeVerdadeira = [1,1,1,1,1]\n",
    "classePredita = [0,1,1,1,1]"
   ]
  },
  {
   "cell_type": "code",
   "execution_count": 3,
   "id": "e8f93275",
   "metadata": {},
   "outputs": [],
   "source": [
    "precisao = precision_score(y_true=classeVerdadeira, y_pred=classePredita, average='binary')"
   ]
  },
  {
   "cell_type": "code",
   "execution_count": 4,
   "id": "86e20b51",
   "metadata": {},
   "outputs": [],
   "source": [
    "recall = recall_score(y_true=classeVerdadeira, y_pred=classePredita, average='binary')"
   ]
  },
  {
   "cell_type": "code",
   "execution_count": 5,
   "id": "dc84f475",
   "metadata": {},
   "outputs": [
    {
     "name": "stdout",
     "output_type": "stream",
     "text": [
      "Precisão: 1.0\n",
      "Recall: 0.8\n"
     ]
    }
   ],
   "source": [
    "print(f'Precisão: {precisao}') # TP / TP + FP = 4/4 + 0 = 1\n",
    "print(f'Recall: {recall}') # TP / TP + FN = 4/4 + 1 = 0.8"
   ]
  },
  {
   "cell_type": "code",
   "execution_count": null,
   "id": "6b458e14",
   "metadata": {},
   "outputs": [],
   "source": []
  }
 ],
 "metadata": {
  "kernelspec": {
   "display_name": "Python 3 (ipykernel)",
   "language": "python",
   "name": "python3"
  },
  "language_info": {
   "codemirror_mode": {
    "name": "ipython",
    "version": 3
   },
   "file_extension": ".py",
   "mimetype": "text/x-python",
   "name": "python",
   "nbconvert_exporter": "python",
   "pygments_lexer": "ipython3",
   "version": "3.9.7"
  }
 },
 "nbformat": 4,
 "nbformat_minor": 5
}
