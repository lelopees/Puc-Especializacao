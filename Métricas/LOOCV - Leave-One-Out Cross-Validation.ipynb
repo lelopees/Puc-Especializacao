{
 "cells": [
  {
   "cell_type": "code",
   "execution_count": 25,
   "id": "baccf4ea",
   "metadata": {},
   "outputs": [],
   "source": [
    "from numpy import mean,std\n",
    "from sklearn.datasets import make_blobs\n",
    "from sklearn.model_selection import LeaveOneOut, cross_val_score\n",
    "from sklearn.ensemble import RandomForestClassifier\n",
    "from sklearn.metrics import accuracy_score"
   ]
  },
  {
   "cell_type": "code",
   "execution_count": 5,
   "id": "bacb5cc9",
   "metadata": {},
   "outputs": [],
   "source": [
    "X, y = make_blobs(n_samples=100, random_state=1)\n",
    "\n",
    "cv = LeaveOneOut()"
   ]
  },
  {
   "cell_type": "code",
   "execution_count": 14,
   "id": "494a64eb",
   "metadata": {},
   "outputs": [
    {
     "data": {
      "text/plain": [
       "(100,)"
      ]
     },
     "execution_count": 14,
     "metadata": {},
     "output_type": "execute_result"
    }
   ],
   "source": [
    "y.shape"
   ]
  },
  {
   "cell_type": "code",
   "execution_count": 13,
   "id": "ad4c381b",
   "metadata": {},
   "outputs": [
    {
     "data": {
      "text/plain": [
       "(100, 2)"
      ]
     },
     "execution_count": 13,
     "metadata": {},
     "output_type": "execute_result"
    }
   ],
   "source": [
    "X.shape"
   ]
  },
  {
   "cell_type": "markdown",
   "id": "3d2a059d",
   "metadata": {},
   "source": [
    "Dado que o conjunto de dados tem 100 exemplos, isso significa que 100 divisões de treinamento/teste do conjunto de dados foram criadas, com cada linha do conjunto de dados tendo a oportunidade de ser usada como conjunto de teste. Da mesma forma, 100 modelos são criados e avaliados."
   ]
  },
  {
   "cell_type": "code",
   "execution_count": 19,
   "id": "dcff3bf8",
   "metadata": {},
   "outputs": [
    {
     "name": "stdout",
     "output_type": "stream",
     "text": [
      "Precisão: 0.990\n"
     ]
    }
   ],
   "source": [
    "y_true, y_pred = list(), list()\n",
    "\n",
    "#Cada iteração retornará os índices de linha que podem ser usados \n",
    "#para os conjuntos de treinamento e teste do conjunto de dados fornecido.\n",
    "\n",
    "for train_ix, test_ix in cv.split(X):\n",
    "    #O conjunto de treinamento pode ser usado para ajustar um modelo e o conjunto de teste pode ser usado para avaliá-lo, primeiro fazendo uma previsão e \n",
    "    #calculando uma métrica de desempenho nos valores previstos versus os valores esperados.#\n",
    "    X_train, X_test = X[train_ix, :], X[test_ix, :]\n",
    "    y_train, y_test = y[train_ix], y[test_ix]\n",
    "    model = RandomForestClassifier(random_state=1)\n",
    "    model.fit(X_train, y_train)\n",
    "    yhat = model.predict(X_test)\n",
    "    y_true.append(y_test[0])\n",
    "    y_pred.append(yhat[0])\n",
    "    \n",
    "acc = accuracy_score(y_true, y_pred)\n",
    "print('Precisão: %.3f' % acc)"
   ]
  },
  {
   "cell_type": "code",
   "execution_count": 17,
   "id": "00997e6c",
   "metadata": {},
   "outputs": [
    {
     "data": {
      "text/plain": [
       "100"
      ]
     },
     "execution_count": 17,
     "metadata": {},
     "output_type": "execute_result"
    }
   ],
   "source": [
    "len(y_true)"
   ]
  },
  {
   "cell_type": "code",
   "execution_count": 18,
   "id": "f89b49eb",
   "metadata": {},
   "outputs": [
    {
     "data": {
      "text/plain": [
       "100"
      ]
     },
     "execution_count": 18,
     "metadata": {},
     "output_type": "execute_result"
    }
   ],
   "source": [
    "len(y_pred)"
   ]
  },
  {
   "cell_type": "code",
   "execution_count": 22,
   "id": "f8f3571d",
   "metadata": {},
   "outputs": [],
   "source": [
    "model = RandomForestClassifier(random_state=1)\n",
    "# n_jobs para -1 para usar todos os núcleos da CPU\n",
    "scores = cross_val_score(model, X, y, scoring='accuracy', cv=cv, n_jobs=-1)"
   ]
  },
  {
   "cell_type": "code",
   "execution_count": 26,
   "id": "759d49fa",
   "metadata": {},
   "outputs": [
    {
     "name": "stdout",
     "output_type": "stream",
     "text": [
      "Accuracy: 0.990 (0.099)\n"
     ]
    }
   ],
   "source": [
    "print('Accuracy: %.3f (%.3f)' % (mean(scores), std(scores)))"
   ]
  }
 ],
 "metadata": {
  "kernelspec": {
   "display_name": "Python 3 (ipykernel)",
   "language": "python",
   "name": "python3"
  },
  "language_info": {
   "codemirror_mode": {
    "name": "ipython",
    "version": 3
   },
   "file_extension": ".py",
   "mimetype": "text/x-python",
   "name": "python",
   "nbconvert_exporter": "python",
   "pygments_lexer": "ipython3",
   "version": "3.9.7"
  }
 },
 "nbformat": 4,
 "nbformat_minor": 5
}
