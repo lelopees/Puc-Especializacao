{
 "cells": [
  {
   "cell_type": "code",
   "execution_count": 2,
   "id": "09becc7f",
   "metadata": {},
   "outputs": [],
   "source": [
    "import numpy as np\n",
    "from sklearn.model_selection import KFold"
   ]
  },
  {
   "cell_type": "code",
   "execution_count": 12,
   "id": "98f5e70e",
   "metadata": {},
   "outputs": [],
   "source": [
    "X = np.array([[2], [3], [7], [9]])\n",
    "y = np.array([10,20,30,40]) "
   ]
  },
  {
   "cell_type": "code",
   "execution_count": 19,
   "id": "4bfc8f6b",
   "metadata": {},
   "outputs": [],
   "source": [
    "kf = KFold(n_splits=2,shuffle=False)"
   ]
  },
  {
   "cell_type": "code",
   "execution_count": 14,
   "id": "e67d7296",
   "metadata": {},
   "outputs": [
    {
     "data": {
      "text/plain": [
       "2"
      ]
     },
     "execution_count": 14,
     "metadata": {},
     "output_type": "execute_result"
    }
   ],
   "source": [
    "# retorna o número de iterações de divisão \n",
    "kf.get_n_splits(X)"
   ]
  },
  {
   "cell_type": "code",
   "execution_count": 15,
   "id": "d0e78295",
   "metadata": {},
   "outputs": [
    {
     "name": "stdout",
     "output_type": "stream",
     "text": [
      "KFold(n_splits=2, random_state=None, shuffle=False)\n"
     ]
    }
   ],
   "source": [
    "print(kf)"
   ]
  },
  {
   "cell_type": "code",
   "execution_count": 25,
   "id": "b2dbd6da",
   "metadata": {},
   "outputs": [
    {
     "name": "stdout",
     "output_type": "stream",
     "text": [
      "Train: [2 3] Test: [0 1]\n",
      "X_train [[7]\n",
      " [9]]\n",
      "y_train  [30 40]\n",
      "X_test  [[2]\n",
      " [3]]\n",
      "y_test  [10 20]\n",
      "\n",
      "Train: [0 1] Test: [2 3]\n",
      "X_train [[2]\n",
      " [3]]\n",
      "y_train  [10 20]\n",
      "X_test  [[7]\n",
      " [9]]\n",
      "y_test  [30 40]\n",
      "\n"
     ]
    }
   ],
   "source": [
    "# split = gere indices para dividir os dados de treino e teste\n",
    "for train_index, test_index in kf.split(X):\n",
    "    print('Train:', train_index, 'Test:', test_index)\n",
    "    X_train, X_test = X[train_index], X[test_index]\n",
    "    y_train, y_test = y[train_index], y[test_index]\n",
    "    print(f'X_train {X_train}')\n",
    "    print(f'y_train  {y_train}')\n",
    "    print(f'X_test  {X_test}')\n",
    "    print(f'y_test  {y_test}\\n')"
   ]
  },
  {
   "cell_type": "markdown",
   "id": "3953ec16",
   "metadata": {},
   "source": [
    "### Embaralhar"
   ]
  },
  {
   "cell_type": "code",
   "execution_count": 26,
   "id": "4794f11e",
   "metadata": {},
   "outputs": [],
   "source": [
    "kf = KFold(n_splits=2,shuffle=True)"
   ]
  },
  {
   "cell_type": "code",
   "execution_count": 27,
   "id": "80fa1705",
   "metadata": {},
   "outputs": [
    {
     "name": "stdout",
     "output_type": "stream",
     "text": [
      "Train: [0 1] Test: [2 3]\n",
      "X_train [[2]\n",
      " [3]]\n",
      "y_train  [10 20]\n",
      "X_test  [[7]\n",
      " [9]]\n",
      "y_test  [30 40]\n",
      "\n",
      "Train: [2 3] Test: [0 1]\n",
      "X_train [[7]\n",
      " [9]]\n",
      "y_train  [30 40]\n",
      "X_test  [[2]\n",
      " [3]]\n",
      "y_test  [10 20]\n",
      "\n"
     ]
    }
   ],
   "source": [
    "for train_index, test_index in kf.split(X):\n",
    "    print('Train:', train_index, 'Test:', test_index)\n",
    "    X_train, X_test = X[train_index], X[test_index]\n",
    "    y_train, y_test = y[train_index], y[test_index]\n",
    "    print(f'X_train {X_train}')\n",
    "    print(f'y_train  {y_train}')\n",
    "    print(f'X_test  {X_test}')\n",
    "    print(f'y_test  {y_test}\\n')"
   ]
  },
  {
   "cell_type": "markdown",
   "id": "b7e7557f",
   "metadata": {},
   "source": [
    "### Aplicando staking"
   ]
  },
  {
   "cell_type": "code",
   "execution_count": 28,
   "id": "06fe20a4",
   "metadata": {},
   "outputs": [],
   "source": [
    "from sklearn.ensemble import RandomForestClassifier, ExtraTreesClassifier\n",
    "from sklearn.linear_model import LogisticRegression\n",
    "from sklearn.preprocessing import StandardScaler, MinMaxScaler\n",
    "from sklearn.model_selection import KFold\n",
    "from sklearn.metrics import log_loss, accuracy_score\n",
    "from sklearn.pipeline import make_pipeline"
   ]
  },
  {
   "cell_type": "code",
   "execution_count": 30,
   "id": "fe4b5108",
   "metadata": {},
   "outputs": [],
   "source": [
    "kf = KFold(n_splits=2, shuffle=False)"
   ]
  },
  {
   "cell_type": "code",
   "execution_count": 31,
   "id": "35a06825",
   "metadata": {},
   "outputs": [],
   "source": [
    "second_level = np.zeros((X.shape[0], 4))"
   ]
  },
  {
   "cell_type": "code",
   "execution_count": 32,
   "id": "960ae72b",
   "metadata": {},
   "outputs": [
    {
     "data": {
      "text/plain": [
       "array([[0., 0., 0., 0.],\n",
       "       [0., 0., 0., 0.],\n",
       "       [0., 0., 0., 0.],\n",
       "       [0., 0., 0., 0.]])"
      ]
     },
     "execution_count": 32,
     "metadata": {},
     "output_type": "execute_result"
    }
   ],
   "source": [
    "second_level"
   ]
  },
  {
   "cell_type": "code",
   "execution_count": 34,
   "id": "45b7431d",
   "metadata": {},
   "outputs": [
    {
     "name": "stdout",
     "output_type": "stream",
     "text": [
      "RF Acurácia: 0.0 - Log Loss: 0.7901823324741968\n",
      "ET Acurácia: 0.0 - Log Loss: 17.269388197455342\n",
      "LR StdScaler Acurácia: 0.0 - Log Loss: 1.7125608280756106\n",
      "LR MinMax Acurácia: 0.0 - Log Loss: 0.8149497647348093 \n",
      "\n",
      "RF Acurácia: 0.0 - Log Loss: 0.8507766006709531\n",
      "ET Acurácia: 0.0 - Log Loss: 17.26978799617044\n",
      "LR StdScaler Acurácia: 0.0 - Log Loss: 3.037970289283166\n",
      "LR MinMax Acurácia: 0.0 - Log Loss: 1.090904081081186 \n",
      "\n"
     ]
    }
   ],
   "source": [
    "for tr, ts in kf.split(X, y):\n",
    "    # X_train, X_test = X[train_index], X[test_index]\n",
    "    #y_train, y_test = y[train_index], y[test_index]\n",
    "    \n",
    "    Xtr, Xval = X[tr], X[ts]\n",
    "    ytr, yval = y[tr], y[ts]\n",
    "    \n",
    "    # n_jobs = 6 nucleos\n",
    "    rf  = RandomForestClassifier(n_estimators=100, n_jobs=6, random_state=10)\n",
    "    rf.fit(Xtr, ytr)\n",
    "    # probabilidade de um eveneto pertencer a classe 1 ou a classe 0\n",
    "    prf = rf.predict_proba(Xval)[:,1]\n",
    "    prf_ = (prf > 0.5).astype(int)\n",
    "    \n",
    "    print(f'RF Acurácia: {accuracy_score(yval, prf_)} - Log Loss: {log_loss(yval, prf)}')    \n",
    "    \n",
    "    et = ExtraTreesClassifier(n_estimators=100, n_jobs=6, random_state=10)\n",
    "    et.fit(Xtr, ytr)\n",
    "    pet = et.predict_proba(Xval)[:,1]\n",
    "    pet_ = (pet > 0.5).astype(int)\n",
    "    \n",
    "    print(f'ET Acurácia: {accuracy_score(yval, pet_)} - Log Loss: {log_loss(yval, pet)}')\n",
    "    \n",
    "    lr1 = make_pipeline(StandardScaler(), LogisticRegression())\n",
    "    lr1.fit(Xtr, ytr)\n",
    "    plr1 = lr1.predict_proba(Xval)[:,1]\n",
    "    plr1_1 = (plr1 > 0.5).astype(int)\n",
    "    \n",
    "    print(f'LR StdScaler Acurácia: {accuracy_score(yval, plr1_1)} - Log Loss: {log_loss(yval, plr1)}')\n",
    "        \n",
    "    lr2 = make_pipeline(MinMaxScaler(), LogisticRegression())\n",
    "    lr2.fit(Xtr, ytr)\n",
    "    plr2 = lr2.predict_proba(Xval)[:,1]\n",
    "    plr2_ = (plr2 > 0.5).astype(int)\n",
    "    \n",
    "    print(f'LR MinMax Acurácia: {accuracy_score(yval, plr2_)} - Log Loss: {log_loss(yval, plr2)} \\n')\n",
    "    \n",
    "    # matriz com as previsões   \n",
    "    \n",
    "    second_level[ts, 0] = prf\n",
    "    second_level[ts, 1] = pet\n",
    "    second_level[ts, 2] = plr1\n",
    "    second_level[ts, 3] = plr2\n",
    "    "
   ]
  },
  {
   "cell_type": "code",
   "execution_count": 35,
   "id": "1ce8fea3",
   "metadata": {},
   "outputs": [
    {
     "data": {
      "text/plain": [
       "array([[0.29      , 0.        , 0.01714104, 0.20850832],\n",
       "       [0.29      , 0.        , 0.03311291, 0.24756958],\n",
       "       [0.76      , 1.        , 0.99770216, 0.88089291],\n",
       "       [0.76      , 1.        , 0.99984514, 0.94736022]])"
      ]
     },
     "execution_count": 35,
     "metadata": {},
     "output_type": "execute_result"
    }
   ],
   "source": [
    "second_level"
   ]
  }
 ],
 "metadata": {
  "kernelspec": {
   "display_name": "Python 3 (ipykernel)",
   "language": "python",
   "name": "python3"
  },
  "language_info": {
   "codemirror_mode": {
    "name": "ipython",
    "version": 3
   },
   "file_extension": ".py",
   "mimetype": "text/x-python",
   "name": "python",
   "nbconvert_exporter": "python",
   "pygments_lexer": "ipython3",
   "version": "3.9.7"
  }
 },
 "nbformat": 4,
 "nbformat_minor": 5
}
