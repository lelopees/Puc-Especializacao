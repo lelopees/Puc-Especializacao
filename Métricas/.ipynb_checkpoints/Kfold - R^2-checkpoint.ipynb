{
 "cells": [
  {
   "cell_type": "code",
   "execution_count": 1,
   "id": "beb348f6",
   "metadata": {},
   "outputs": [],
   "source": [
    "import pandas as pd\n",
    "import matplotlib.pyplot as plt\n",
    "\n",
    "\n",
    "from sklearn.model_selection import cross_val_score\n",
    "from sklearn.model_selection import KFold\n",
    "from sklearn.linear_model import LinearRegression"
   ]
  },
  {
   "cell_type": "code",
   "execution_count": 2,
   "id": "0f201231",
   "metadata": {},
   "outputs": [],
   "source": [
    "df = pd.read_csv('Admission_Predict.csv')"
   ]
  },
  {
   "cell_type": "code",
   "execution_count": 10,
   "id": "c69834f7",
   "metadata": {},
   "outputs": [
    {
     "name": "stdout",
     "output_type": "stream",
     "text": [
      "<class 'pandas.core.frame.DataFrame'>\n",
      "RangeIndex: 400 entries, 0 to 399\n",
      "Data columns (total 8 columns):\n",
      " #   Column             Non-Null Count  Dtype  \n",
      "---  ------             --------------  -----  \n",
      " 0   GRE Score          400 non-null    int64  \n",
      " 1   TOEFL Score        400 non-null    int64  \n",
      " 2   University Rating  400 non-null    int64  \n",
      " 3   SOP                400 non-null    float64\n",
      " 4   LOR                400 non-null    float64\n",
      " 5   CGPA               400 non-null    float64\n",
      " 6   Research           400 non-null    int64  \n",
      " 7   Chance of Admit    400 non-null    float64\n",
      "dtypes: float64(4), int64(4)\n",
      "memory usage: 25.1 KB\n"
     ]
    }
   ],
   "source": [
    "df.info()"
   ]
  },
  {
   "cell_type": "code",
   "execution_count": 5,
   "id": "763092c9",
   "metadata": {},
   "outputs": [],
   "source": [
    "df.drop('Serial No.', axis = 1, inplace= True)"
   ]
  },
  {
   "cell_type": "code",
   "execution_count": 7,
   "id": "b31c0520",
   "metadata": {},
   "outputs": [],
   "source": [
    "x = df.drop('Chance of Admit ', axis = 1)\n",
    "y = df['Chance of Admit ']"
   ]
  },
  {
   "cell_type": "code",
   "execution_count": 11,
   "id": "bf436f19",
   "metadata": {},
   "outputs": [],
   "source": [
    "# n_splits = número divisão\n",
    "# shuffle = se deve embaralhar os dados antes de dividir em lotes\n",
    "model = LinearRegression()\n",
    "kfold = KFold(n_splits=5, shuffle=True)\n",
    "result = cross_val_score(model, x, y, cv = kfold)"
   ]
  },
  {
   "cell_type": "code",
   "execution_count": 12,
   "id": "569a85e2",
   "metadata": {},
   "outputs": [
    {
     "name": "stdout",
     "output_type": "stream",
     "text": [
      "K-Fold R^2 Scores: [0.70461283 0.8414331  0.78304066 0.78858897 0.83730833]\n",
      "Mean R^2 for Cross-Validation K-fold: <built-in method mean of numpy.ndarray object at 0x000001BF78E54B10>\n"
     ]
    }
   ],
   "source": [
    "print(f'K-Fold R^2 Scores: {result}')\n",
    "print(f'Mean R^2 for Cross-Validation K-fold: {result.mean}')"
   ]
  }
 ],
 "metadata": {
  "kernelspec": {
   "display_name": "Python 3 (ipykernel)",
   "language": "python",
   "name": "python3"
  },
  "language_info": {
   "codemirror_mode": {
    "name": "ipython",
    "version": 3
   },
   "file_extension": ".py",
   "mimetype": "text/x-python",
   "name": "python",
   "nbconvert_exporter": "python",
   "pygments_lexer": "ipython3",
   "version": "3.9.7"
  }
 },
 "nbformat": 4,
 "nbformat_minor": 5
}
