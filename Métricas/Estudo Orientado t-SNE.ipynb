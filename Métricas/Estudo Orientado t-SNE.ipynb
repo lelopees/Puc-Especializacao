{
 "cells": [
  {
   "cell_type": "code",
   "execution_count": 2,
   "id": "f0379808",
   "metadata": {},
   "outputs": [],
   "source": [
    "import pandas as pd\n",
    "from sklearn.manifold import TSNE"
   ]
  },
  {
   "cell_type": "code",
   "execution_count": 3,
   "id": "9c3486b4",
   "metadata": {},
   "outputs": [],
   "source": [
    "url = \"https://archive.ics.uci.edu/ml/machine-learning-databases/iris/iris.data\""
   ]
  },
  {
   "cell_type": "code",
   "execution_count": 4,
   "id": "10684e24",
   "metadata": {},
   "outputs": [
    {
     "data": {
      "text/html": [
       "<div>\n",
       "<style scoped>\n",
       "    .dataframe tbody tr th:only-of-type {\n",
       "        vertical-align: middle;\n",
       "    }\n",
       "\n",
       "    .dataframe tbody tr th {\n",
       "        vertical-align: top;\n",
       "    }\n",
       "\n",
       "    .dataframe thead th {\n",
       "        text-align: right;\n",
       "    }\n",
       "</style>\n",
       "<table border=\"1\" class=\"dataframe\">\n",
       "  <thead>\n",
       "    <tr style=\"text-align: right;\">\n",
       "      <th></th>\n",
       "      <th>sepal length</th>\n",
       "      <th>sepal width</th>\n",
       "      <th>petal length</th>\n",
       "      <th>petal width</th>\n",
       "      <th>target</th>\n",
       "    </tr>\n",
       "  </thead>\n",
       "  <tbody>\n",
       "    <tr>\n",
       "      <th>0</th>\n",
       "      <td>5.1</td>\n",
       "      <td>3.5</td>\n",
       "      <td>1.4</td>\n",
       "      <td>0.2</td>\n",
       "      <td>Iris-setosa</td>\n",
       "    </tr>\n",
       "    <tr>\n",
       "      <th>1</th>\n",
       "      <td>4.9</td>\n",
       "      <td>3.0</td>\n",
       "      <td>1.4</td>\n",
       "      <td>0.2</td>\n",
       "      <td>Iris-setosa</td>\n",
       "    </tr>\n",
       "    <tr>\n",
       "      <th>2</th>\n",
       "      <td>4.7</td>\n",
       "      <td>3.2</td>\n",
       "      <td>1.3</td>\n",
       "      <td>0.2</td>\n",
       "      <td>Iris-setosa</td>\n",
       "    </tr>\n",
       "    <tr>\n",
       "      <th>3</th>\n",
       "      <td>4.6</td>\n",
       "      <td>3.1</td>\n",
       "      <td>1.5</td>\n",
       "      <td>0.2</td>\n",
       "      <td>Iris-setosa</td>\n",
       "    </tr>\n",
       "    <tr>\n",
       "      <th>4</th>\n",
       "      <td>5.0</td>\n",
       "      <td>3.6</td>\n",
       "      <td>1.4</td>\n",
       "      <td>0.2</td>\n",
       "      <td>Iris-setosa</td>\n",
       "    </tr>\n",
       "  </tbody>\n",
       "</table>\n",
       "</div>"
      ],
      "text/plain": [
       "   sepal length  sepal width  petal length  petal width       target\n",
       "0           5.1          3.5           1.4          0.2  Iris-setosa\n",
       "1           4.9          3.0           1.4          0.2  Iris-setosa\n",
       "2           4.7          3.2           1.3          0.2  Iris-setosa\n",
       "3           4.6          3.1           1.5          0.2  Iris-setosa\n",
       "4           5.0          3.6           1.4          0.2  Iris-setosa"
      ]
     },
     "execution_count": 4,
     "metadata": {},
     "output_type": "execute_result"
    }
   ],
   "source": [
    "df = pd.read_csv(url, names = ['sepal length','sepal width','petal length','petal width','target'])\n",
    "df.head()"
   ]
  },
  {
   "cell_type": "code",
   "execution_count": 5,
   "id": "56794461",
   "metadata": {},
   "outputs": [],
   "source": [
    "features = ['sepal length','sepal width','petal length','petal width']"
   ]
  },
  {
   "cell_type": "code",
   "execution_count": 6,
   "id": "791ebcec",
   "metadata": {},
   "outputs": [],
   "source": [
    "caracteristicas = df.loc[:, features].values\n",
    "target = df.loc[:, [\"target\"]].values"
   ]
  },
  {
   "cell_type": "code",
   "execution_count": 7,
   "id": "49b5fecb",
   "metadata": {},
   "outputs": [
    {
     "name": "stdout",
     "output_type": "stream",
     "text": [
      "Kullback-Leibler divergence t-SNE: 0.9884340763092041\n"
     ]
    }
   ],
   "source": [
    "#inicialização do t-sne, definindo a quantidade de componentes que serão criadas e o número de iterações\n",
    "tsne = TSNE(n_components=3, n_iter=1500, random_state=0)\n",
    "caracteristicas_tsne = tsne.fit_transform(caracteristicas)\n",
    "# imprime a qualidade do produto. A métrica divergencia KL representa o erro, quanto menor o valor, melhor o modelo\n",
    "print(f'Kullback-Leibler divergence t-SNE: {tsne.kl_divergence_}')"
   ]
  },
  {
   "cell_type": "code",
   "execution_count": 8,
   "id": "4e9ffa9a",
   "metadata": {},
   "outputs": [
    {
     "name": "stdout",
     "output_type": "stream",
     "text": [
      "Kullback-Leibler divergence t-SNE: 0.9042075276374817\n"
     ]
    }
   ],
   "source": [
    "tsne = TSNE(n_components=1, n_iter=1500, random_state=0)\n",
    "caracteristicas_tsne = tsne.fit_transform(caracteristicas)\n",
    "print(f'Kullback-Leibler divergence t-SNE: {tsne.kl_divergence_}')"
   ]
  },
  {
   "cell_type": "code",
   "execution_count": 9,
   "id": "ad158b12",
   "metadata": {},
   "outputs": [
    {
     "name": "stdout",
     "output_type": "stream",
     "text": [
      "Kullback-Leibler divergence t-SNE: 0.9042075276374817\n"
     ]
    }
   ],
   "source": [
    "tsne = TSNE(n_components=1, n_iter=5000, random_state=0)\n",
    "caracteristicas_tsne = tsne.fit_transform(caracteristicas)\n",
    "print(f'Kullback-Leibler divergence t-SNE: {tsne.kl_divergence_}')"
   ]
  },
  {
   "cell_type": "markdown",
   "id": "db0b60a5",
   "metadata": {},
   "source": [
    "### Qual abordagem é a melhor?\n",
    "Duas das três métricas aplicadas, obterão um mesmo resultado, sendo assim aplicaria a abordagem de utilizar apenas 1 componente com 1500 interações para esse exemplo\n",
    "\n",
    "### Usar menos componentes é melhor ou pior?\n",
    "O uso de menos componentes apresentou melhores resultados\n",
    "\n",
    "### A quantidade de iterações influencia na métrica de erro?\n",
    "Nesse caso apresentado não ocorreu mudanças na métrica (KL) aplicando alterações nas interações."
   ]
  }
 ],
 "metadata": {
  "kernelspec": {
   "display_name": "Python 3 (ipykernel)",
   "language": "python",
   "name": "python3"
  },
  "language_info": {
   "codemirror_mode": {
    "name": "ipython",
    "version": 3
   },
   "file_extension": ".py",
   "mimetype": "text/x-python",
   "name": "python",
   "nbconvert_exporter": "python",
   "pygments_lexer": "ipython3",
   "version": "3.9.7"
  }
 },
 "nbformat": 4,
 "nbformat_minor": 5
}
