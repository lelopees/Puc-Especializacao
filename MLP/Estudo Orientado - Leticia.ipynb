{
 "cells": [
  {
   "cell_type": "code",
   "execution_count": 1,
   "id": "d6bf9229",
   "metadata": {},
   "outputs": [],
   "source": [
    "import pandas as pd\n",
    "from sklearn import preprocessing\n",
    "from sklearn.model_selection import train_test_split\n",
    "from sklearn.metrics import classification_report, confusion_matrix, accuracy_score\n",
    "from sklearn.neural_network import MLPClassifier\n",
    "from sklearn.model_selection import GridSearchCV\n",
    "\n",
    "import warnings\n",
    "warnings.filterwarnings('ignore')"
   ]
  },
  {
   "cell_type": "code",
   "execution_count": 2,
   "id": "ea477706",
   "metadata": {},
   "outputs": [],
   "source": [
    "url = \"https://archive.ics.uci.edu/ml/machine-learning-databases/iris/iris.data\""
   ]
  },
  {
   "cell_type": "code",
   "execution_count": 3,
   "id": "db4cf24d",
   "metadata": {},
   "outputs": [],
   "source": [
    "names = [\"sepal length\", \"sepal width\", \"petal length\", \"petal width\", \"Classe\"]"
   ]
  },
  {
   "cell_type": "code",
   "execution_count": 4,
   "id": "597d6223",
   "metadata": {},
   "outputs": [],
   "source": [
    "irisdata = pd.read_csv(url, names=names)\n",
    "\n",
    "# separa somente os dados (4 primeiras colunas)\n",
    "X_caracteristicas = irisdata.iloc[:, 0:4]\n",
    "\n",
    "Y_classes = irisdata.iloc[:, 4]"
   ]
  },
  {
   "cell_type": "code",
   "execution_count": 5,
   "id": "ba5ecbb6",
   "metadata": {},
   "outputs": [],
   "source": [
    "le = preprocessing.LabelEncoder()\n",
    "y = le.fit_transform(Y_classes)"
   ]
  },
  {
   "cell_type": "code",
   "execution_count": 6,
   "id": "2de618e2",
   "metadata": {},
   "outputs": [],
   "source": [
    "X_train, X_test, y_train, y_test = train_test_split(X_caracteristicas, y,test_size=0.03, random_state=0)"
   ]
  },
  {
   "cell_type": "markdown",
   "id": "5e6d0267",
   "metadata": {},
   "source": [
    "### Utilizando GridSearchCV para identificar um bom modelo"
   ]
  },
  {
   "cell_type": "code",
   "execution_count": 7,
   "id": "e2bf3f27",
   "metadata": {},
   "outputs": [
    {
     "name": "stdout",
     "output_type": "stream",
     "text": [
      "\n",
      "Melhor configuração de hiperparâmetros encontrada pelo método GridSearchCV: {'max_iter': 500}\n"
     ]
    }
   ],
   "source": [
    "search_space = {'max_iter': [100, 500, 1000,2000,5000]}\n",
    "\n",
    "# Create GridSearchCV object\n",
    "ANN_model = MLPClassifier(hidden_layer_sizes=(10,10,10), random_state = 0)\n",
    "GS = GridSearchCV(estimator = ANN_model, param_grid = search_space, scoring = 'accuracy')\n",
    "\n",
    "# Fit on train data\n",
    "GS_results = GS.fit(X_train, y_train)\n",
    "\n",
    "# Print best hyperparameters configuration found by GridSearchCV\n",
    "best_hyperparameters = GS_results.best_params_\n",
    "print(f\"\\nMelhor configuração de hiperparâmetros encontrada pelo método GridSearchCV: {best_hyperparameters}\") "
   ]
  },
  {
   "cell_type": "code",
   "execution_count": 8,
   "id": "d86c75eb",
   "metadata": {},
   "outputs": [
    {
     "name": "stdout",
     "output_type": "stream",
     "text": [
      " Acurácia de 500 iterações: 1.0\n"
     ]
    }
   ],
   "source": [
    "mlp = MLPClassifier(hidden_layer_sizes = (10,10,10), max_iter = 500, random_state = 0)\n",
    "\n",
    "mlp.fit(X_train, y_train)\n",
    "\n",
    "predictions = mlp.predict(X_test)\n",
    "\n",
    "acuracia = accuracy_score(y_test, predictions)\n",
    "print (f' Acurácia de 500 iterações: {acuracia}')"
   ]
  },
  {
   "cell_type": "markdown",
   "id": "a789628c",
   "metadata": {},
   "source": [
    "### por loop"
   ]
  },
  {
   "cell_type": "code",
   "execution_count": 9,
   "id": "8fac034f",
   "metadata": {},
   "outputs": [
    {
     "name": "stdout",
     "output_type": "stream",
     "text": [
      " Acurácia de 100 iterações: 0.6\n",
      " Acurácia de 500 iterações: 1.0\n",
      " Acurácia de 1000 iterações: 1.0\n",
      " Acurácia de 2000 iterações: 1.0\n",
      " Acurácia de 5000 iterações: 1.0\n"
     ]
    }
   ],
   "source": [
    "iteracao =  [100, 500, 1000,2000,5000]\n",
    "\n",
    "for qtd in iteracao:\n",
    "    mlp = MLPClassifier(hidden_layer_sizes = (10,10,10), max_iter = qtd, random_state = 0)\n",
    "    mlp.fit(X_train, y_train)    \n",
    "    predictions = mlp.predict(X_test)\n",
    "    acuracia = accuracy_score(y_test, predictions)\n",
    "    print (f' Acurácia de {qtd} iterações: {acuracia}')    "
   ]
  },
  {
   "cell_type": "markdown",
   "id": "c457ce99",
   "metadata": {},
   "source": [
    "### Alteração de camadas e neurônios"
   ]
  },
  {
   "cell_type": "code",
   "execution_count": 10,
   "id": "86025ba6",
   "metadata": {},
   "outputs": [
    {
     "name": "stdout",
     "output_type": "stream",
     "text": [
      "\n",
      "Melhor configuração de hiperparâmetros encontrada pelo método GridSearchCV: {'hidden_layer_sizes': 10}\n"
     ]
    }
   ],
   "source": [
    "search_space = {'hidden_layer_sizes': [(5), (5,5,5), (10), (10,10,10), (50,50,50,50,50)]}\n",
    "\n",
    "# Create GridSearchCV object\n",
    "ANN_model = MLPClassifier(max_iter=1000, random_state = 0)\n",
    "GS = GridSearchCV(estimator = ANN_model, param_grid = search_space, scoring = 'accuracy')\n",
    "\n",
    "# Fit on train data\n",
    "GS_results = GS.fit(X_train, y_train)\n",
    "\n",
    "# Print best hyperparameters configuration found by GridSearchCV\n",
    "best_hyperparameters = GS_results.best_params_\n",
    "print(f\"\\nMelhor configuração de hiperparâmetros encontrada pelo método GridSearchCV: {best_hyperparameters}\") "
   ]
  },
  {
   "cell_type": "code",
   "execution_count": 11,
   "id": "30664e5d",
   "metadata": {},
   "outputs": [
    {
     "name": "stdout",
     "output_type": "stream",
     "text": [
      " Acurácia de 1000 iterações para uma camada e 10 neurônios: 1.0 \n"
     ]
    }
   ],
   "source": [
    "mlp = MLPClassifier(hidden_layer_sizes = (10), max_iter = 1000, random_state = 0)\n",
    "\n",
    "mlp.fit(X_train, y_train)\n",
    "\n",
    "predictions = mlp.predict(X_test)\n",
    "\n",
    "acuracia = accuracy_score(y_test, predictions)\n",
    "print (f' Acurácia de 1000 iterações para uma camada e 10 neurônios: {acuracia} ')"
   ]
  },
  {
   "cell_type": "markdown",
   "id": "3bd0a8bc",
   "metadata": {},
   "source": [
    "### Por loop"
   ]
  },
  {
   "cell_type": "code",
   "execution_count": 12,
   "id": "683c2702",
   "metadata": {},
   "outputs": [
    {
     "name": "stdout",
     "output_type": "stream",
     "text": [
      " Acurácia de 5 hidden_layer_sizes: 1.0\n",
      " Acurácia de (5, 5, 5) hidden_layer_sizes: 1.0\n",
      " Acurácia de 10 hidden_layer_sizes: 1.0\n",
      " Acurácia de (10, 10, 10) hidden_layer_sizes: 1.0\n",
      " Acurácia de (50, 50, 50, 50, 50) hidden_layer_sizes: 1.0\n"
     ]
    }
   ],
   "source": [
    "hidden =  [(5), (5,5,5), (10), (10,10,10), (50,50,50,50,50)]\n",
    "\n",
    "for h in hidden:\n",
    "    mlp = MLPClassifier(hidden_layer_sizes = h, max_iter = 1000, random_state = 0)\n",
    "    mlp.fit(X_train, y_train)    \n",
    "    predictions = mlp.predict(X_test)\n",
    "    acuracia = accuracy_score(y_test, predictions)\n",
    "    print (f' Acurácia de {h} hidden_layer_sizes: {acuracia}')    "
   ]
  }
 ],
 "metadata": {
  "kernelspec": {
   "display_name": "Python 3 (ipykernel)",
   "language": "python",
   "name": "python3"
  },
  "language_info": {
   "codemirror_mode": {
    "name": "ipython",
    "version": 3
   },
   "file_extension": ".py",
   "mimetype": "text/x-python",
   "name": "python",
   "nbconvert_exporter": "python",
   "pygments_lexer": "ipython3",
   "version": "3.9.7"
  }
 },
 "nbformat": 4,
 "nbformat_minor": 5
}
