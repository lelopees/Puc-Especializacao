{
 "cells": [
  {
   "cell_type": "code",
   "execution_count": 16,
   "id": "2ab7bec5",
   "metadata": {},
   "outputs": [],
   "source": [
    "import pandas as pd\n",
    "from sklearn import preprocessing\n",
    "\n",
    "from sklearn.model_selection import train_test_split\n",
    "from sklearn.metrics         import classification_report, confusion_matrix, accuracy_score\n",
    "from sklearn.neural_network  import MLPClassifier\n",
    "from sklearn.metrics         import plot_confusion_matrix\n",
    "from sklearn.preprocessing   import StandardScaler"
   ]
  },
  {
   "cell_type": "code",
   "execution_count": 2,
   "id": "3f007041",
   "metadata": {},
   "outputs": [],
   "source": [
    "url = \"https://archive.ics.uci.edu/ml/machine-learning-databases/iris/iris.data\""
   ]
  },
  {
   "cell_type": "code",
   "execution_count": 3,
   "id": "aca93718",
   "metadata": {},
   "outputs": [],
   "source": [
    "names = [\"sepal length\", \"sepal width\", \"petal length\", \"petal width\", \"Classe\"]"
   ]
  },
  {
   "cell_type": "code",
   "execution_count": 4,
   "id": "c51a2c15",
   "metadata": {},
   "outputs": [],
   "source": [
    "irisdata = pd.read_csv(url, names=names)\n",
    "\n",
    "# separa somente os dados (4 primeiras colunas)\n",
    "X_caracteristicas = irisdata.iloc[:, 0:4]\n",
    "\n",
    "Y_classes = irisdata.iloc[:, 4]"
   ]
  },
  {
   "cell_type": "code",
   "execution_count": 9,
   "id": "2470457e",
   "metadata": {},
   "outputs": [
    {
     "data": {
      "text/plain": [
       "array(['Iris-setosa', 'Iris-versicolor', 'Iris-virginica'], dtype=object)"
      ]
     },
     "execution_count": 9,
     "metadata": {},
     "output_type": "execute_result"
    }
   ],
   "source": [
    "irisdata['Classe'].unique()"
   ]
  },
  {
   "cell_type": "code",
   "execution_count": 5,
   "id": "5636b2af",
   "metadata": {},
   "outputs": [],
   "source": [
    "# transforma os nomes das classes em numeros para poder ser aceito no algortimo\n",
    "\n",
    "le = preprocessing.LabelEncoder()\n",
    "y = le.fit_transform(Y_classes)"
   ]
  },
  {
   "cell_type": "code",
   "execution_count": 6,
   "id": "ef1ebf3e",
   "metadata": {},
   "outputs": [
    {
     "data": {
      "text/plain": [
       "array([0, 0, 0, 0, 0, 0, 0, 0, 0, 0, 0, 0, 0, 0, 0, 0, 0, 0, 0, 0, 0, 0,\n",
       "       0, 0, 0, 0, 0, 0, 0, 0, 0, 0, 0, 0, 0, 0, 0, 0, 0, 0, 0, 0, 0, 0,\n",
       "       0, 0, 0, 0, 0, 0, 1, 1, 1, 1, 1, 1, 1, 1, 1, 1, 1, 1, 1, 1, 1, 1,\n",
       "       1, 1, 1, 1, 1, 1, 1, 1, 1, 1, 1, 1, 1, 1, 1, 1, 1, 1, 1, 1, 1, 1,\n",
       "       1, 1, 1, 1, 1, 1, 1, 1, 1, 1, 1, 1, 2, 2, 2, 2, 2, 2, 2, 2, 2, 2,\n",
       "       2, 2, 2, 2, 2, 2, 2, 2, 2, 2, 2, 2, 2, 2, 2, 2, 2, 2, 2, 2, 2, 2,\n",
       "       2, 2, 2, 2, 2, 2, 2, 2, 2, 2, 2, 2, 2, 2, 2, 2, 2, 2])"
      ]
     },
     "execution_count": 6,
     "metadata": {},
     "output_type": "execute_result"
    }
   ],
   "source": [
    "y"
   ]
  },
  {
   "cell_type": "code",
   "execution_count": 7,
   "id": "c10d8102",
   "metadata": {},
   "outputs": [],
   "source": [
    "X_train, X_test, y_train, y_test = train_test_split(X_caracteristicas, y, test_size=0.3, random_state=0)"
   ]
  },
  {
   "cell_type": "code",
   "execution_count": 15,
   "id": "7ff53d33",
   "metadata": {},
   "outputs": [
    {
     "name": "stdout",
     "output_type": "stream",
     "text": [
      "[[16  0  0]\n",
      " [ 0 17  1]\n",
      " [ 0  0 11]]\n",
      "              precision    recall  f1-score   support\n",
      "\n",
      "           0       1.00      1.00      1.00        16\n",
      "           1       1.00      0.94      0.97        18\n",
      "           2       0.92      1.00      0.96        11\n",
      "\n",
      "    accuracy                           0.98        45\n",
      "   macro avg       0.97      0.98      0.98        45\n",
      "weighted avg       0.98      0.98      0.98        45\n",
      "\n",
      "0.9777777777777777\n",
      "44\n"
     ]
    }
   ],
   "source": [
    "# cria o modelo de classificação usando a rede neural com 3 camadas escondidas e 10 perceptrons\n",
    "# maximo de 1000 iterações para refinar o modelo e reduzir os erros\n",
    "\n",
    "mlp = MLPClassifier(hidden_layer_sizes=(10,10,10), max_iter=1000)\n",
    "\n",
    "mlp.fit(X_train, y_train)\n",
    "\n",
    "predictions = mlp.predict(X_test)\n",
    "\n",
    "print(confusion_matrix(y_test, predictions))\n",
    "print(classification_report(y_test, predictions))\n",
    "\n",
    "acucaria = accuracy_score(y_test, predictions)\n",
    "print(acucaria)\n",
    "\n",
    "# quantidade de acertos ( dos 45 foram 44 corretos)\n",
    "acucaria = accuracy_score(y_test, predictions, normalize=False)\n",
    "print(acucaria)"
   ]
  },
  {
   "cell_type": "markdown",
   "id": "34614d51",
   "metadata": {},
   "source": [
    "- A classe SETOSA possui 16 classificações sendo todas corretas\n",
    "- A classe VERSICOLOR houveram 18 predições, sendo 17 corretas 1 com erro\n",
    "- A classe VIRGINICA houveram 11 todas corretas"
   ]
  },
  {
   "cell_type": "code",
   "execution_count": 12,
   "id": "3f374a73",
   "metadata": {},
   "outputs": [
    {
     "data": {
      "text/plain": [
       "<sklearn.metrics._plot.confusion_matrix.ConfusionMatrixDisplay at 0x228069eb640>"
      ]
     },
     "execution_count": 12,
     "metadata": {},
     "output_type": "execute_result"
    },
    {
     "data": {
      "image/png": "[encoded data removed]",
      "text/plain": [
       "<Figure size 432x288 with 2 Axes>"
      ]
     },
     "metadata": {
      "needs_background": "light"
     },
     "output_type": "display_data"
    }
   ],
   "source": [
    "# relatório das métricas de confusão\n",
    "plot_confusion_matrix(mlp, X_test, y_test)"
   ]
  },
  {
   "cell_type": "code",
   "execution_count": 20,
   "id": "98cd79ad",
   "metadata": {},
   "outputs": [],
   "source": [
    "scaler = StandardScaler()\n",
    "scaler.fit(X_train)\n",
    "\n",
    "X_train = scaler.transform(X_train)\n",
    "X_test = scaler.transform(X_test)"
   ]
  },
  {
   "cell_type": "code",
   "execution_count": 22,
   "id": "79069cda",
   "metadata": {},
   "outputs": [
    {
     "data": {
      "text/plain": [
       "MLPClassifier(hidden_layer_sizes=(10, 10, 10), max_iter=1000)"
      ]
     },
     "execution_count": 22,
     "metadata": {},
     "output_type": "execute_result"
    }
   ],
   "source": [
    "mlp = MLPClassifier(hidden_layer_sizes=(10,10,10), max_iter=1000)\n",
    "mlp.fit(X_train, y_train)"
   ]
  },
  {
   "cell_type": "code",
   "execution_count": 23,
   "id": "207454a3",
   "metadata": {},
   "outputs": [
    {
     "name": "stdout",
     "output_type": "stream",
     "text": [
      "0.9777777777777777 --- com feature scaling\n",
      "44 --- com feature scaling\n"
     ]
    }
   ],
   "source": [
    "# Feature scaling = é feito somente nos dados de treino, não incluido os valores de teste\n",
    "\n",
    "predictions = mlp.predict(X_test)\n",
    "\n",
    "acucaria = accuracy_score(y_test, predictions)\n",
    "print(acucaria, '--- com feature scaling')\n",
    "\n",
    "\n",
    "acucaria = accuracy_score(y_test, predictions, normalize=False)\n",
    "print(acucaria, '--- com feature scaling')\n",
    "\n"
   ]
  }
 ],
 "metadata": {
  "kernelspec": {
   "display_name": "Python 3 (ipykernel)",
   "language": "python",
   "name": "python3"
  },
  "language_info": {
   "codemirror_mode": {
    "name": "ipython",
    "version": 3
   },
   "file_extension": ".py",
   "mimetype": "text/x-python",
   "name": "python",
   "nbconvert_exporter": "python",
   "pygments_lexer": "ipython3",
   "version": "3.9.7"
  }
 },
 "nbformat": 4,
 "nbformat_minor": 5
}
