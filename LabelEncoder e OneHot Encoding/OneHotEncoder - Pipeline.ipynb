{
 "cells": [
  {
   "cell_type": "code",
   "execution_count": 1,
   "id": "b2a80f3c",
   "metadata": {},
   "outputs": [],
   "source": [
    "import pandas as pd\n",
    "from sklearn.preprocessing   import OneHotEncoder\n",
    "from sklearn.pipeline        import Pipeline\n",
    "from sklearn.linear_model    import LinearRegression\n",
    "from sklearn.model_selection import train_test_split\n",
    "from sklearn.metrics         import mean_squared_error\n",
    "from sklearn.metrics         import r2_score\n",
    "from math                    import sqrt"
   ]
  },
  {
   "cell_type": "code",
   "execution_count": 2,
   "id": "e155acd9",
   "metadata": {},
   "outputs": [],
   "source": [
    "df = pd.DataFrame({'Country':['USA','USA','IND','UK','UK','UK'],\n",
    "                   'Fruits':['Apple','Strawberry','Mango','Berries','Banana','Grape'],\n",
    "                   'Flower':   ['Rose','Lily','Orchid','Petunia','Lotus','Dandelion'],\n",
    "                   'Result':[1,2,3,4,5,6,]})"
   ]
  },
  {
   "cell_type": "code",
   "execution_count": 3,
   "id": "73c67964",
   "metadata": {},
   "outputs": [],
   "source": [
    "steps = [('OneHotEncoder', OneHotEncoder(handle_unknown ='ignore')) ,('LReg', LinearRegression())]"
   ]
  },
  {
   "cell_type": "code",
   "execution_count": 4,
   "id": "9fcd414c",
   "metadata": {},
   "outputs": [],
   "source": [
    "pipeline = Pipeline(steps)"
   ]
  },
  {
   "cell_type": "code",
   "execution_count": 5,
   "id": "e14bb87f",
   "metadata": {},
   "outputs": [],
   "source": [
    "X = df[[\"Country\",\"Flower\",\"Fruits\"]]\n",
    "Y = df[\"Result\"]\n",
    "\n",
    "X_train, X_test, y_train, y_test = train_test_split(X,Y,test_size=0.3, random_state=30, shuffle =True)"
   ]
  },
  {
   "cell_type": "code",
   "execution_count": 6,
   "id": "8089f5ea",
   "metadata": {},
   "outputs": [
    {
     "name": "stdout",
     "output_type": "stream",
     "text": [
      "X_train.shape: (4, 3)\n",
      "y_train.shape: (4,)\n",
      "X_test.shape: (2, 3)\n",
      "y_test.shape: (2,)\n"
     ]
    }
   ],
   "source": [
    "print(\"X_train.shape:\", X_train.shape)\n",
    "print(\"y_train.shape:\", y_train.shape)\n",
    "print(\"X_test.shape:\", X_test.shape)\n",
    "print(\"y_test.shape:\", y_test.shape)"
   ]
  },
  {
   "cell_type": "code",
   "execution_count": 7,
   "id": "38e95e39",
   "metadata": {},
   "outputs": [],
   "source": [
    "pipeline.fit(X_train,y_train)\n",
    "\n",
    "y_pred = pipeline.predict(X_test)"
   ]
  },
  {
   "cell_type": "code",
   "execution_count": 8,
   "id": "57ba7526",
   "metadata": {},
   "outputs": [
    {
     "data": {
      "text/html": [
       "<div>\n",
       "<style scoped>\n",
       "    .dataframe tbody tr th:only-of-type {\n",
       "        vertical-align: middle;\n",
       "    }\n",
       "\n",
       "    .dataframe tbody tr th {\n",
       "        vertical-align: top;\n",
       "    }\n",
       "\n",
       "    .dataframe thead th {\n",
       "        text-align: right;\n",
       "    }\n",
       "</style>\n",
       "<table border=\"1\" class=\"dataframe\">\n",
       "  <thead>\n",
       "    <tr style=\"text-align: right;\">\n",
       "      <th></th>\n",
       "      <th>Country</th>\n",
       "      <th>Flower</th>\n",
       "      <th>Fruits</th>\n",
       "    </tr>\n",
       "  </thead>\n",
       "  <tbody>\n",
       "    <tr>\n",
       "      <th>2</th>\n",
       "      <td>IND</td>\n",
       "      <td>Orchid</td>\n",
       "      <td>Mango</td>\n",
       "    </tr>\n",
       "    <tr>\n",
       "      <th>0</th>\n",
       "      <td>USA</td>\n",
       "      <td>Rose</td>\n",
       "      <td>Apple</td>\n",
       "    </tr>\n",
       "    <tr>\n",
       "      <th>4</th>\n",
       "      <td>UK</td>\n",
       "      <td>Lotus</td>\n",
       "      <td>Banana</td>\n",
       "    </tr>\n",
       "    <tr>\n",
       "      <th>5</th>\n",
       "      <td>UK</td>\n",
       "      <td>Dandelion</td>\n",
       "      <td>Grape</td>\n",
       "    </tr>\n",
       "  </tbody>\n",
       "</table>\n",
       "</div>"
      ],
      "text/plain": [
       "  Country     Flower  Fruits\n",
       "2     IND     Orchid   Mango\n",
       "0     USA       Rose   Apple\n",
       "4      UK      Lotus  Banana\n",
       "5      UK  Dandelion   Grape"
      ]
     },
     "execution_count": 8,
     "metadata": {},
     "output_type": "execute_result"
    }
   ],
   "source": [
    "X_train"
   ]
  },
  {
   "cell_type": "code",
   "execution_count": 9,
   "id": "7d1d4d76",
   "metadata": {},
   "outputs": [
    {
     "data": {
      "text/plain": [
       "array([4.5       , 2.66666667])"
      ]
     },
     "execution_count": 9,
     "metadata": {},
     "output_type": "execute_result"
    }
   ],
   "source": [
    "y_pred"
   ]
  },
  {
   "cell_type": "code",
   "execution_count": 10,
   "id": "98cc7535",
   "metadata": {},
   "outputs": [
    {
     "name": "stdout",
     "output_type": "stream",
     "text": [
      "MSE 0.34722222222222243\n"
     ]
    }
   ],
   "source": [
    "MSE = mean_squared_error(y_test, y_pred)\n",
    "\n",
    "print('MSE', MSE)"
   ]
  },
  {
   "cell_type": "code",
   "execution_count": 11,
   "id": "cf2bd6bc",
   "metadata": {},
   "outputs": [
    {
     "name": "stdout",
     "output_type": "stream",
     "text": [
      "RMSE 0.5892556509887897\n"
     ]
    }
   ],
   "source": [
    "RSME = sqrt(MSE)\n",
    "\n",
    "print('RMSE', RSME)"
   ]
  },
  {
   "cell_type": "code",
   "execution_count": 12,
   "id": "29d5a910",
   "metadata": {},
   "outputs": [
    {
     "name": "stdout",
     "output_type": "stream",
     "text": [
      "R2_score 0.6527777777777776\n"
     ]
    }
   ],
   "source": [
    "R2_score = r2_score(y_test,y_pred)\n",
    "\n",
    "print(\"R2_score\", R2_score)"
   ]
  }
 ],
 "metadata": {
  "kernelspec": {
   "display_name": "Python 3.6.1 64-bit",
   "language": "python",
   "name": "python3"
  },
  "language_info": {
   "codemirror_mode": {
    "name": "ipython",
    "version": 3
   },
   "file_extension": ".py",
   "mimetype": "text/x-python",
   "name": "python",
   "nbconvert_exporter": "python",
   "pygments_lexer": "ipython3",
   "version": "3.6.1"
  },
  "vscode": {
   "interpreter": {
    "hash": "43ad51f8ae94d49090c6e2510c45231fcf4c53047ab4b6b3dc725370e74fa5b9"
   }
  }
 },
 "nbformat": 4,
 "nbformat_minor": 5
}
