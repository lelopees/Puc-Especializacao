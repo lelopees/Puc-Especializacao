{
 "cells": [
  {
   "cell_type": "code",
   "execution_count": 1,
   "id": "6c3239c4",
   "metadata": {},
   "outputs": [],
   "source": [
    "from sklearn import datasets\n",
    "from sklearn.preprocessing import StandardScaler\n",
    "from sklearn.preprocessing import LabelEncoder\n",
    "from sklearn.model_selection import train_test_split\n",
    "\n",
    "import warnings\n",
    "warnings.filterwarnings('ignore')"
   ]
  },
  {
   "cell_type": "code",
   "execution_count": 6,
   "id": "4c36cb15",
   "metadata": {},
   "outputs": [],
   "source": [
    "iris = datasets.load_iris()\n",
    "X, y = iris.data, iris.target\n",
    "le = LabelEncoder()\n",
    "y = le.fit_transform(y)"
   ]
  },
  {
   "cell_type": "code",
   "execution_count": null,
   "id": "4e88d9f4",
   "metadata": {},
   "outputs": [],
   "source": [
    "# pegando somente duas categorias\n",
    "X"
   ]
  },
  {
   "cell_type": "code",
   "execution_count": null,
   "id": "925145db",
   "metadata": {},
   "outputs": [],
   "source": [
    "y"
   ]
  },
  {
   "cell_type": "code",
   "execution_count": null,
   "id": "a2c3f751",
   "metadata": {
    "scrolled": false
   },
   "outputs": [],
   "source": [
    "# detalhes do conjunto de dados\n",
    "iris"
   ]
  },
  {
   "cell_type": "code",
   "execution_count": null,
   "id": "87ee0ad6",
   "metadata": {},
   "outputs": [],
   "source": [
    "print(iris['DESCR'])"
   ]
  },
  {
   "cell_type": "code",
   "execution_count": 7,
   "id": "0d13db3b",
   "metadata": {},
   "outputs": [],
   "source": [
    "X_train, X_test, y_train, y_test = train_test_split(iris.data, iris.target, test_size=0.5, random_state=1, stratify=y)"
   ]
  },
  {
   "cell_type": "code",
   "execution_count": 8,
   "id": "cb6e8420",
   "metadata": {},
   "outputs": [],
   "source": [
    "import numpy as np\n",
    "from sklearn.linear_model import LogisticRegression\n",
    "from sklearn.tree import DecisionTreeClassifier\n",
    "from sklearn.neighbors import KNeighborsClassifier\n",
    "from sklearn.pipeline import Pipeline\n",
    "from sklearn.model_selection import cross_val_score"
   ]
  },
  {
   "cell_type": "code",
   "execution_count": 34,
   "id": "a82f5b2e",
   "metadata": {},
   "outputs": [],
   "source": [
    "#clf1 = LogisticRegression(penalty='12', solver='liblinear', C=0.001, random_state=1)\n",
    "\n",
    "clf1 = LogisticRegression(solver='liblinear',random_state=1)\n",
    "\n",
    "clf2 = DecisionTreeClassifier(max_depth=1, criterion='entropy', random_state=1)\n",
    "\n",
    "clf3 = KNeighborsClassifier(n_neighbors=1, p=2, metric='minkowski')"
   ]
  },
  {
   "cell_type": "code",
   "execution_count": 35,
   "id": "d8c9df52",
   "metadata": {},
   "outputs": [],
   "source": [
    "pipe1 = Pipeline([['sc', StandardScaler()], ['clf', clf1]])\n",
    "\n",
    "pipe3 = Pipeline([['sc', StandardScaler()], ['clf3', clf3]])"
   ]
  },
  {
   "cell_type": "code",
   "execution_count": 36,
   "id": "e6d6402c",
   "metadata": {},
   "outputs": [],
   "source": [
    "clf_label = ['logistic regression', 'Decision tree', 'KNN']"
   ]
  },
  {
   "cell_type": "code",
   "execution_count": 37,
   "id": "dddc9674",
   "metadata": {},
   "outputs": [
    {
     "name": "stdout",
     "output_type": "stream",
     "text": [
      "10- Fold cross validation:\n",
      "\n",
      "Accuracy 0.85 (+/- 0.13) [logistic regression]\n",
      "Accuracy 0.60 (+/- 0.03) [Decision tree]\n",
      "Accuracy 0.91 (+/- 0.13) [KNN]\n"
     ]
    }
   ],
   "source": [
    "print('10- Fold cross validation:\\n')\n",
    "for clf, label in zip([pipe1, clf2, pipe3], clf_label):\n",
    "    scores = cross_val_score(estimator=clf,\n",
    "                            X=X_train,\n",
    "                            y=y_train,\n",
    "                            cv=10,\n",
    "                            scoring='accuracy')\n",
    "    print('Accuracy %0.2f (+/- %0.2f) [%s]' % (scores.mean(), scores.std(), label))"
   ]
  },
  {
   "cell_type": "markdown",
   "id": "be51ef7f",
   "metadata": {},
   "source": [
    "## separadamente as validações"
   ]
  },
  {
   "cell_type": "code",
   "execution_count": 51,
   "id": "b56b3c37",
   "metadata": {},
   "outputs": [
    {
     "name": "stdout",
     "output_type": "stream",
     "text": [
      "0.85\n",
      "0.13223934701124013\n"
     ]
    }
   ],
   "source": [
    "# logistic\n",
    "lg_cross  = cross_val_score(estimator=pipe1,\n",
    "               X=X_train,\n",
    "               y=y_train,\n",
    "               cv=10,\n",
    "               scoring='accuracy')\n",
    "\n",
    "print(k.mean())\n",
    "print(k.std())"
   ]
  },
  {
   "cell_type": "code",
   "execution_count": 53,
   "id": "87a0e7f1",
   "metadata": {},
   "outputs": [
    {
     "name": "stdout",
     "output_type": "stream",
     "text": [
      "0.5982142857142857\n",
      "0.0267857142857143\n"
     ]
    }
   ],
   "source": [
    "# arvore de decisao\n",
    "dt_cross  = cross_val_score(estimator=clf2,\n",
    "               X=X_train,\n",
    "               y=y_train,\n",
    "               cv=10,\n",
    "               scoring='accuracy')\n",
    "\n",
    "print(dt_cross.mean())\n",
    "print(dt_cross.std())"
   ]
  },
  {
   "cell_type": "code",
   "execution_count": 54,
   "id": "12848e41",
   "metadata": {},
   "outputs": [
    {
     "name": "stdout",
     "output_type": "stream",
     "text": [
      "0.9053571428571429\n",
      "0.12703697437023154\n"
     ]
    }
   ],
   "source": [
    "# knn\n",
    "knn_cross  = cross_val_score(estimator=pipe3,\n",
    "               X=X_train,\n",
    "               y=y_train,\n",
    "               cv=10,\n",
    "               scoring='accuracy')\n",
    "\n",
    "print(knn_cross.mean())\n",
    "print(knn_cross.std())"
   ]
  },
  {
   "cell_type": "code",
   "execution_count": 55,
   "id": "eed6b287",
   "metadata": {},
   "outputs": [],
   "source": [
    "from sklearn import ensemble"
   ]
  },
  {
   "cell_type": "code",
   "execution_count": 60,
   "id": "0ba72164",
   "metadata": {},
   "outputs": [],
   "source": [
    "mv_clf = ensemble.VotingClassifier(estimators=[('logreg',pipe1), ('dt',clf2), ('knn',pipe3)], voting='hard')"
   ]
  },
  {
   "cell_type": "code",
   "execution_count": 65,
   "id": "18dc3c31",
   "metadata": {},
   "outputs": [
    {
     "name": "stdout",
     "output_type": "stream",
     "text": [
      "[1.         0.875      0.875      0.875      1.         1.\n",
      " 0.85714286 1.         0.71428571 0.57142857]\n",
      "0.8767857142857143\n",
      "0.13445136060057905\n"
     ]
    }
   ],
   "source": [
    "mv_cross = cross_val_score(estimator=mv_clf,\n",
    "               X=X_train,\n",
    "               y=y_train,\n",
    "               cv=10,\n",
    "               scoring='accuracy')s\n",
    "\n",
    "print(mv_cross)\n",
    "print(mv_cross.mean())\n",
    "print(mv_cross.std())"
   ]
  },
  {
   "cell_type": "code",
   "execution_count": 62,
   "id": "b3cdfdd1",
   "metadata": {},
   "outputs": [],
   "source": [
    "clf_label += ['Voting']\n",
    "\n",
    "all_clf = [pipe1, clf2, pipe3, mv_clf]"
   ]
  },
  {
   "cell_type": "code",
   "execution_count": 63,
   "id": "59b4a5b1",
   "metadata": {},
   "outputs": [
    {
     "name": "stdout",
     "output_type": "stream",
     "text": [
      "ROC AUC 0.85 (+/- 0.13) [logistic regression]\n",
      "ROC AUC 0.60 (+/- 0.03) [Decision tree]\n",
      "ROC AUC 0.91 (+/- 0.13) [KNN]\n",
      "ROC AUC 0.88 (+/- 0.13) [Voting]\n"
     ]
    }
   ],
   "source": [
    "for clf, label in zip(all_clf, clf_label):\n",
    "    scores = cross_val_score(estimator=clf,\n",
    "                            X= X_train,\n",
    "                            y=y_train,\n",
    "                            cv=10,\n",
    "                             scoring='accuracy')\n",
    "    print('ROC AUC %0.2f (+/- %0.2f) [%s]' % (scores.mean(), scores.std(), label))"
   ]
  },
  {
   "cell_type": "code",
   "execution_count": null,
   "id": "34e38a10",
   "metadata": {},
   "outputs": [],
   "source": []
  }
 ],
 "metadata": {
  "kernelspec": {
   "display_name": "Python 3 (ipykernel)",
   "language": "python",
   "name": "python3"
  },
  "language_info": {
   "codemirror_mode": {
    "name": "ipython",
    "version": 3
   },
   "file_extension": ".py",
   "mimetype": "text/x-python",
   "name": "python",
   "nbconvert_exporter": "python",
   "pygments_lexer": "ipython3",
   "version": "3.9.7"
  }
 },
 "nbformat": 4,
 "nbformat_minor": 5
}
