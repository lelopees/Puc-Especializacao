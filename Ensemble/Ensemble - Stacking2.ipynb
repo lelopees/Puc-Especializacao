{
 "cells": [
  {
   "cell_type": "code",
   "execution_count": null,
   "id": "65bbeb37",
   "metadata": {},
   "outputs": [],
   "source": [
    "import pandas as pd\n",
    "import numpy as np"
   ]
  },
  {
   "cell_type": "code",
   "execution_count": 2,
   "id": "de84311e",
   "metadata": {},
   "outputs": [],
   "source": [
    "train = pd.read_csv('train.csv')\n",
    "test = pd.read_csv('test.csv')"
   ]
  },
  {
   "cell_type": "code",
   "execution_count": 3,
   "id": "092a6a26",
   "metadata": {},
   "outputs": [],
   "source": [
    "train['Sex_binario'] = train['Sex'].map({'male':0, 'female':1})"
   ]
  },
  {
   "cell_type": "code",
   "execution_count": 4,
   "id": "979e20ab",
   "metadata": {},
   "outputs": [],
   "source": [
    "test['Sex_binario'] = test['Sex'].map({'male':0, 'female':1})"
   ]
  },
  {
   "cell_type": "code",
   "execution_count": 5,
   "id": "04a4e837",
   "metadata": {},
   "outputs": [],
   "source": [
    "# selecione as colunas que são numericos, menos passengerid, survived\n",
    "X = train.select_dtypes(include=np.number).drop(['PassengerId', 'Survived'], axis=1).fillna(0)\n",
    "y = train['Survived']"
   ]
  },
  {
   "cell_type": "code",
   "execution_count": 8,
   "id": "d581941b",
   "metadata": {},
   "outputs": [],
   "source": [
    "from sklearn.ensemble import RandomForestClassifier, ExtraTreesClassifier\n",
    "from sklearn.linear_model import LogisticRegression\n",
    "from sklearn.preprocessing import StandardScaler, MinMaxScaler\n",
    "from sklearn.model_selection import KFold\n",
    "from sklearn.metrics import log_loss, accuracy_score\n",
    "from sklearn.pipeline import make_pipeline"
   ]
  },
  {
   "cell_type": "code",
   "execution_count": 12,
   "id": "c36b068d",
   "metadata": {},
   "outputs": [],
   "source": [
    "kf = KFold(n_splits=2, random_state=0,shuffle=True)"
   ]
  },
  {
   "cell_type": "code",
   "execution_count": 13,
   "id": "9c674c56",
   "metadata": {},
   "outputs": [],
   "source": [
    "# criação de matriz de zeros, com o formatado de numeros de linhas com 4 colunas (numero do modelo)\n",
    "second_level = np.zeros((X.shape[0], 4))"
   ]
  },
  {
   "cell_type": "code",
   "execution_count": 16,
   "id": "646a585b",
   "metadata": {},
   "outputs": [
    {
     "name": "stdout",
     "output_type": "stream",
     "text": [
      "RF Acurácia: 0.7869955156950673 - Log Loss: 0.8891877224352214\n",
      "ET Acurácia: 0.7802690582959642 - Log Loss: 1.7277767849421113\n",
      "LR StdScaler Acurácia: 0.7713004484304933 - Log Loss: 0.4548870233895985\n",
      "LR MinMax Acurácia: 0.773542600896861 - Log Loss: 0.45730271249069515 \n",
      "\n",
      "     Pclass   Age  SibSp  Parch     Fare  Sex_binario\n",
      "3         1  35.0      1      0  53.1000            1\n",
      "4         3  35.0      0      0   8.0500            0\n",
      "7         3   2.0      3      1  21.0750            0\n",
      "9         2  14.0      1      0  30.0708            1\n",
      "11        1  58.0      0      0  26.5500            1\n",
      "..      ...   ...    ...    ...      ...          ...\n",
      "873       3  47.0      0      0   9.0000            0\n",
      "874       2  28.0      1      0  24.0000            1\n",
      "879       1  56.0      0      1  83.1583            1\n",
      "884       3  25.0      0      0   7.0500            0\n",
      "888       3   0.0      1      2  23.4500            1\n",
      "\n",
      "[445 rows x 6 columns]\n",
      "     Pclass   Age  SibSp  Parch     Fare  Sex_binario\n",
      "0         3  22.0      1      0   7.2500            0\n",
      "1         1  38.0      1      0  71.2833            1\n",
      "2         3  26.0      0      0   7.9250            1\n",
      "5         3   0.0      0      0   8.4583            0\n",
      "6         1  54.0      0      0  51.8625            0\n",
      "..      ...   ...    ...    ...      ...          ...\n",
      "885       3  39.0      0      5  29.1250            1\n",
      "886       2  27.0      0      0  13.0000            0\n",
      "887       1  19.0      0      0  30.0000            1\n",
      "889       1  26.0      0      0  30.0000            0\n",
      "890       3  32.0      0      0   7.7500            0\n",
      "\n",
      "[446 rows x 6 columns]\n",
      "RF Acurácia: 0.8292134831460675 - Log Loss: 0.6313360340802087\n",
      "ET Acurácia: 0.8089887640449438 - Log Loss: 2.533916920090966\n",
      "LR StdScaler Acurácia: 0.7955056179775281 - Log Loss: 0.4579224442106097\n",
      "LR MinMax Acurácia: 0.802247191011236 - Log Loss: 0.4610789905245168 \n",
      "\n",
      "     Pclass   Age  SibSp  Parch     Fare  Sex_binario\n",
      "0         3  22.0      1      0   7.2500            0\n",
      "1         1  38.0      1      0  71.2833            1\n",
      "2         3  26.0      0      0   7.9250            1\n",
      "5         3   0.0      0      0   8.4583            0\n",
      "6         1  54.0      0      0  51.8625            0\n",
      "..      ...   ...    ...    ...      ...          ...\n",
      "885       3  39.0      0      5  29.1250            1\n",
      "886       2  27.0      0      0  13.0000            0\n",
      "887       1  19.0      0      0  30.0000            1\n",
      "889       1  26.0      0      0  30.0000            0\n",
      "890       3  32.0      0      0   7.7500            0\n",
      "\n",
      "[446 rows x 6 columns]\n",
      "     Pclass   Age  SibSp  Parch     Fare  Sex_binario\n",
      "3         1  35.0      1      0  53.1000            1\n",
      "4         3  35.0      0      0   8.0500            0\n",
      "7         3   2.0      3      1  21.0750            0\n",
      "9         2  14.0      1      0  30.0708            1\n",
      "11        1  58.0      0      0  26.5500            1\n",
      "..      ...   ...    ...    ...      ...          ...\n",
      "873       3  47.0      0      0   9.0000            0\n",
      "874       2  28.0      1      0  24.0000            1\n",
      "879       1  56.0      0      1  83.1583            1\n",
      "884       3  25.0      0      0   7.0500            0\n",
      "888       3   0.0      1      2  23.4500            1\n",
      "\n",
      "[445 rows x 6 columns]\n"
     ]
    }
   ],
   "source": [
    "for tr, ts in kf.split(X, y):\n",
    "    Xtr, Xval = X.iloc[tr], X.iloc[ts]\n",
    "    ytr, yval = y.iloc[tr], y.iloc[ts]\n",
    "    \n",
    "    # n_jobs = 6 nucleos\n",
    "    rf  = RandomForestClassifier(n_estimators=100, n_jobs=6, random_state=10)\n",
    "    rf.fit(Xtr, ytr)\n",
    "    # probabilidade de um eveneto pertencer a classe 1 ou a classe 0\n",
    "    prf = rf.predict_proba(Xval)[:,1]\n",
    "    prf_ = (prf > 0.5).astype(int)\n",
    "    \n",
    "    print(f'RF Acurácia: {accuracy_score(yval, prf_)} - Log Loss: {log_loss(yval, prf)}')    \n",
    "    \n",
    "    et = ExtraTreesClassifier(n_estimators=100, n_jobs=6, random_state=10)\n",
    "    et.fit(Xtr, ytr)\n",
    "    pet = et.predict_proba(Xval)[:,1]\n",
    "    pet_ = (pet > 0.5).astype(int)\n",
    "    \n",
    "    print(f'ET Acurácia: {accuracy_score(yval, pet_)} - Log Loss: {log_loss(yval, pet)}')\n",
    "    \n",
    "    lr1 = make_pipeline(StandardScaler(), LogisticRegression())\n",
    "    lr1.fit(Xtr, ytr)\n",
    "    plr1 = lr1.predict_proba(Xval)[:,1]\n",
    "    plr1_1 = (plr1 > 0.5).astype(int)\n",
    "    \n",
    "    print(f'LR StdScaler Acurácia: {accuracy_score(yval, plr1_1)} - Log Loss: {log_loss(yval, plr1)}')\n",
    "        \n",
    "    lr2 = make_pipeline(MinMaxScaler(), LogisticRegression())\n",
    "    lr2.fit(Xtr, ytr)\n",
    "    plr2 = lr2.predict_proba(Xval)[:,1]\n",
    "    plr2_ = (plr2 > 0.5).astype(int)\n",
    "    \n",
    "    print(f'LR MinMax Acurácia: {accuracy_score(yval, plr2_)} - Log Loss: {log_loss(yval, plr2)} \\n')\n",
    "    \n",
    "    # matriz com as previsões\n",
    "    \n",
    "    \n",
    "    second_level[ts, 0] = prf\n",
    "    second_level[ts, 1] = pet\n",
    "    second_level[ts, 2] = plr1\n",
    "    second_level[ts, 3] = plr2\n",
    "    "
   ]
  },
  {
   "cell_type": "code",
   "execution_count": null,
   "id": "70ccb7b6",
   "metadata": {},
   "outputs": [],
   "source": [
    "for tr, ts in kf.split(X,y):\n",
    "    Xtr, Xval = second_level[tr], second_level[ts]\n",
    "    ytr, yval = y.iloc[tr], y.iloc[ts]\n",
    "    \n",
    "    lr_stack = LogisticRegression(C=1.)\n",
    "    lr_stack.fit(Xtr, ytr)\n",
    "    plr_stack = lr_stack.predict_proba(Xval)[:,1]\n",
    "    plr_stack_ = (plr_stack > 0.5).astype(int)\n",
    "    \n",
    "    print(f'Stack Acurácia: {accuracy_score(yval, plr_stack_)} - Log Loss: {log_loss(yval, plr_stack)} \\n')"
   ]
  },
  {
   "cell_type": "code",
   "execution_count": null,
   "id": "1124883f",
   "metadata": {},
   "outputs": [],
   "source": [
    "pd.DataFrame(np.corrcoef(second_level.T))"
   ]
  },
  {
   "cell_type": "code",
   "execution_count": null,
   "id": "1cde22cb",
   "metadata": {},
   "outputs": [],
   "source": [
    "\n",
    "second_level"
   ]
  }
 ],
 "metadata": {
  "kernelspec": {
   "display_name": "Python 3.9.7 ('base')",
   "language": "python",
   "name": "python3"
  },
  "language_info": {
   "codemirror_mode": {
    "name": "ipython",
    "version": 3
   },
   "file_extension": ".py",
   "mimetype": "text/x-python",
   "name": "python",
   "nbconvert_exporter": "python",
   "pygments_lexer": "ipython3",
   "version": "3.9.7"
  },
  "vscode": {
   "interpreter": {
    "hash": "ad2bdc8ecc057115af97d19610ffacc2b4e99fae6737bb82f5d7fb13d2f2c186"
   }
  }
 },
 "nbformat": 4,
 "nbformat_minor": 5
}
