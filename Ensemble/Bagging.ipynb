{
 "cells": [
  {
   "cell_type": "code",
   "execution_count": 76,
   "metadata": {},
   "outputs": [],
   "source": [
    "from sklearn.tree            import DecisionTreeClassifier\n",
    "from sklearn.ensemble        import RandomForestClassifier\n",
    "from sklearn.model_selection import train_test_split\n",
    "from sklearn.ensemble        import BaggingClassifier\n",
    "from sklearn.ensemble        import AdaBoostClassifier\n",
    "\n",
    "import pandas as pd\n",
    "import matplotlib.pyplot as plt\n",
    "import xgboost as xgb\n",
    "\n",
    "import warnings\n",
    "warnings.filterwarnings('ignore')\n",
    "\n",
    "\n",
    "dataset = pd.read_csv(\"diabetes.csv\", header=0)\n",
    "\n",
    "col_atributos = ['Pregnancies', 'Glucose', 'BloodPressure',\n",
    "                 'SkinThickness', 'Insulin', 'BMI', 'DiabetesPedigreeFunction', 'Age']\n",
    "\n",
    "X_train, X_test, y_train, y_test = train_test_split(dataset[col_atributos], dataset.Outcome, test_size=0.3, random_state=1)"
   ]
  },
  {
   "cell_type": "code",
   "execution_count": 21,
   "metadata": {},
   "outputs": [],
   "source": []
  },
  {
   "cell_type": "code",
   "execution_count": 77,
   "metadata": {},
   "outputs": [
    {
     "name": "stdout",
     "output_type": "stream",
     "text": [
      "Test score: 0.7965367965367965\n"
     ]
    }
   ],
   "source": [
    "tree = DecisionTreeClassifier()\n",
    "#base_estimator : O estimador base para ajustar subconjuntos aleatórios do conjunto de dados. \n",
    "#Se Nenhum, então o estimador base é uma árvore de decisão.\n",
    "bagging_dt = BaggingClassifier(\n",
    "    base_estimator=tree, n_estimators=1500, random_state=42)\n",
    "bagging_dt.fit(X_train, y_train)\n",
    "\n",
    "print(f\"Test score: {bagging_dt.score(X_test, y_test)}\")\n"
   ]
  },
  {
   "cell_type": "code",
   "execution_count": 88,
   "metadata": {},
   "outputs": [
    {
     "name": "stdout",
     "output_type": "stream",
     "text": [
      "Test score: 0.7922077922077922\n"
     ]
    }
   ],
   "source": [
    "#n_estimators:o número de estimadores\n",
    "rf = RandomForestClassifier(random_state=42, n_estimators=1000)\n",
    "rf.fit(X_train, y_train)\n",
    "\n",
    "print(f\"Test score: {rf.score(X_test, y_test)}\")\n"
   ]
  },
  {
   "cell_type": "code",
   "execution_count": 71,
   "metadata": {},
   "outputs": [
    {
     "name": "stdout",
     "output_type": "stream",
     "text": [
      "Test score: 0.70995670995671\n"
     ]
    }
   ],
   "source": [
    "adaboost = AdaBoostClassifier(base_estimator=tree, n_estimators=5, learning_rate=0.1, random_state=42)\n",
    "adaboost.fit(X_train, y_train)\n",
    "\n",
    "print(f\"Test score: {adaboost.score(X_test, y_test)}\")\n"
   ]
  },
  {
   "cell_type": "code",
   "execution_count": 80,
   "metadata": {},
   "outputs": [
    {
     "name": "stdout",
     "output_type": "stream",
     "text": [
      "Test score: 0.7965367965367965\n"
     ]
    }
   ],
   "source": [
    "xgb = xgb.XGBClassifier(n_estimators=5, learning_rate=0.1, random_state=42)\n",
    "xgb.fit(X_train, y_train)\n",
    "\n",
    "print(f\"Test score: {xgb.score(X_test, y_test)}\")\n"
   ]
  },
  {
   "cell_type": "code",
   "execution_count": 81,
   "metadata": {},
   "outputs": [
    {
     "data": {
      "image/png": "[encoded data removed]",
      "text/plain": [
       "<Figure size 576x360 with 1 Axes>"
      ]
     },
     "metadata": {
      "needs_background": "light"
     },
     "output_type": "display_data"
    }
   ],
   "source": [
    "scores = {\n",
    "    'Bagging Classifier': {        \n",
    "        'Test': accuracy_score(y_test, bagging_dt.predict(X_test)),\n",
    "    },\n",
    "}\n",
    "scores['Random Forest'] = {    \n",
    "    'Test': accuracy_score(y_test, rf.predict(X_test)),\n",
    "}\n",
    "scores['Adaboost'] = {     \n",
    "    'Test': accuracy_score(y_test, adaboost.predict(X_test)),\n",
    "}\n",
    "scores['XGBoost'] = {\n",
    "    'Test': accuracy_score(y_test, xgb.predict(X_test)),\n",
    "}\n",
    "\n",
    "scores_df = pd.DataFrame(scores)\n",
    "# with plt.xkcd():\n",
    "\n",
    "scores_df.plot(kind='bar', figsize=(8, 5))\n",
    "plt.show()\n"
   ]
  },
  {
   "cell_type": "code",
   "execution_count": null,
   "metadata": {},
   "outputs": [],
   "source": [
    "\n",
    "from sklearn.metrics import confusion_matrix, accuracy_score, classification_report\n",
    "\n",
    "def evaluate(model, X_train, X_test, y_train, y_test):\n",
    "    y_test_pred = model.predict(X_test)\n",
    "    y_train_pred = model.predict(X_train)\n",
    "\n",
    "    print(\"TESTING RESULTS: \\n===============================\")\n",
    "    clf_report = pd.DataFrame(classification_report(\n",
    "        y_test, y_test_pred, output_dict=True))\n",
    "    print(f\"CONFUSION MATRIX:\\n{confusion_matrix(y_test, y_test_pred)}\")\n",
    "    #print(f\"ACCURACY SCORE:\\n{accuracy_score(y_test, y_test_pred):.4f}\")\n",
    "    print(f\"CLASSIFICATION REPORT:\\n{clf_report}\")\n"
   ]
  },
  {
   "cell_type": "code",
   "execution_count": 85,
   "metadata": {},
   "outputs": [
    {
     "name": "stdout",
     "output_type": "stream",
     "text": [
      "TESTING RESULTS: \n",
      "===============================\n",
      "CONFUSION MATRIX:\n",
      "[[129  17]\n",
      " [ 30  55]]\n",
      "CLASSIFICATION REPORT:\n",
      "                    0          1  accuracy   macro avg  weighted avg\n",
      "precision    0.811321   0.763889  0.796537    0.787605      0.793867\n",
      "recall       0.883562   0.647059  0.796537    0.765310      0.796537\n",
      "f1-score     0.845902   0.700637  0.796537    0.773269      0.792449\n",
      "support    146.000000  85.000000  0.796537  231.000000    231.000000\n"
     ]
    }
   ],
   "source": [
    "evaluate(bagging_dt, X_train, X_test, y_train, y_test)\n"
   ]
  },
  {
   "cell_type": "code",
   "execution_count": 84,
   "metadata": {},
   "outputs": [
    {
     "name": "stdout",
     "output_type": "stream",
     "text": [
      "TESTING RESULTS: \n",
      "===============================\n",
      "CONFUSION MATRIX:\n",
      "[[132  14]\n",
      " [ 34  51]]\n",
      "CLASSIFICATION REPORT:\n",
      "                    0          1  accuracy   macro avg  weighted avg\n",
      "precision    0.795181   0.784615  0.792208    0.789898      0.791293\n",
      "recall       0.904110   0.600000  0.792208    0.752055      0.792208\n",
      "f1-score     0.846154   0.680000  0.792208    0.763077      0.785015\n",
      "support    146.000000  85.000000  0.792208  231.000000    231.000000\n"
     ]
    }
   ],
   "source": [
    "evaluate(rf, X_train, X_test, y_train, y_test)"
   ]
  },
  {
   "cell_type": "code",
   "execution_count": 83,
   "metadata": {},
   "outputs": [
    {
     "name": "stdout",
     "output_type": "stream",
     "text": [
      "TESTING RESULTS: \n",
      "===============================\n",
      "CONFUSION MATRIX:\n",
      "[[118  28]\n",
      " [ 39  46]]\n",
      "CLASSIFICATION REPORT:\n",
      "                    0          1  accuracy   macro avg  weighted avg\n",
      "precision    0.751592   0.621622  0.709957    0.686607      0.703768\n",
      "recall       0.808219   0.541176  0.709957    0.674698      0.709957\n",
      "f1-score     0.778878   0.578616  0.709957    0.678747      0.705189\n",
      "support    146.000000  85.000000  0.709957  231.000000    231.000000\n"
     ]
    }
   ],
   "source": [
    "evaluate(adaboost, X_train, X_test, y_train, y_test)\n"
   ]
  },
  {
   "cell_type": "code",
   "execution_count": 82,
   "metadata": {},
   "outputs": [
    {
     "name": "stdout",
     "output_type": "stream",
     "text": [
      "TESTING RESULTS: \n",
      "===============================\n",
      "CONFUSION MATRIX:\n",
      "[[131  15]\n",
      " [ 32  53]]\n",
      "CLASSIFICATION REPORT:\n",
      "                    0          1  accuracy   macro avg  weighted avg\n",
      "precision    0.803681   0.779412  0.796537    0.791546      0.794751\n",
      "recall       0.897260   0.623529  0.796537    0.760395      0.796537\n",
      "f1-score     0.847896   0.692810  0.796537    0.770353      0.790830\n",
      "support    146.000000  85.000000  0.796537  231.000000    231.000000\n"
     ]
    }
   ],
   "source": [
    "evaluate(xgb, X_train, X_test, y_train, y_test)"
   ]
  },
  {
   "cell_type": "code",
   "execution_count": null,
   "metadata": {},
   "outputs": [],
   "source": []
  }
 ],
 "metadata": {
  "kernelspec": {
   "display_name": "Python 3.9.7 ('base')",
   "language": "python",
   "name": "python3"
  },
  "language_info": {
   "codemirror_mode": {
    "name": "ipython",
    "version": 3
   },
   "file_extension": ".py",
   "mimetype": "text/x-python",
   "name": "python",
   "nbconvert_exporter": "python",
   "pygments_lexer": "ipython3",
   "version": "3.9.7"
  },
  "orig_nbformat": 4,
  "vscode": {
   "interpreter": {
    "hash": "ad2bdc8ecc057115af97d19610ffacc2b4e99fae6737bb82f5d7fb13d2f2c186"
   }
  }
 },
 "nbformat": 4,
 "nbformat_minor": 2
}
