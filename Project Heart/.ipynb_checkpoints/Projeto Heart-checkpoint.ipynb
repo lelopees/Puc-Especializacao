{
 "cells": [
  {
   "cell_type": "code",
   "execution_count": 1,
   "id": "f499c468",
   "metadata": {},
   "outputs": [],
   "source": [
    "# Importando bibliotecas\n",
    "\n",
    "import pandas as pd\n",
    "import numpy as np\n",
    "import seaborn as sns\n",
    "import matplotlib.pyplot as plt\n",
    "import sklearn\n",
    "\n",
    "from sklearn.neighbors        import KNeighborsClassifier\n",
    "from sklearn.naive_bayes      import GaussianNB\n",
    "from sklearn.ensemble         import RandomForestClassifier\n",
    "from sklearn.tree             import DecisionTreeClassifier\n",
    "from sklearn.metrics          import accuracy_score, classification_report,confusion_matrix\n",
    "from sklearn.model_selection  import train_test_split\n",
    "from sklearn.model_selection  import LeavePOut\n",
    "from sklearn.model_selection  import KFold\n",
    "from sklearn.model_selection  import LeaveOneOut\n",
    "from sklearn.model_selection  import ShuffleSplit\n",
    "from sklearn.model_selection  import StratifiedKFold\n",
    "from math                     import sqrt\n",
    " \n",
    "import warnings\n",
    "warnings.filterwarnings('ignore')\n",
    "\n",
    "seed = 7"
   ]
  },
  {
   "cell_type": "code",
   "execution_count": 2,
   "id": "73fc3b80",
   "metadata": {},
   "outputs": [
    {
     "data": {
      "text/html": [
       "<div>\n",
       "<style scoped>\n",
       "    .dataframe tbody tr th:only-of-type {\n",
       "        vertical-align: middle;\n",
       "    }\n",
       "\n",
       "    .dataframe tbody tr th {\n",
       "        vertical-align: top;\n",
       "    }\n",
       "\n",
       "    .dataframe thead th {\n",
       "        text-align: right;\n",
       "    }\n",
       "</style>\n",
       "<table border=\"1\" class=\"dataframe\">\n",
       "  <thead>\n",
       "    <tr style=\"text-align: right;\">\n",
       "      <th></th>\n",
       "      <th>age</th>\n",
       "      <th>sex</th>\n",
       "      <th>cp</th>\n",
       "      <th>trestbps</th>\n",
       "      <th>chol</th>\n",
       "      <th>fbs</th>\n",
       "      <th>restecg</th>\n",
       "      <th>thalach</th>\n",
       "      <th>exang</th>\n",
       "      <th>oldpeak</th>\n",
       "      <th>slope</th>\n",
       "      <th>ca</th>\n",
       "      <th>thal</th>\n",
       "      <th>target</th>\n",
       "    </tr>\n",
       "  </thead>\n",
       "  <tbody>\n",
       "    <tr>\n",
       "      <th>0</th>\n",
       "      <td>52</td>\n",
       "      <td>1</td>\n",
       "      <td>0</td>\n",
       "      <td>125</td>\n",
       "      <td>212</td>\n",
       "      <td>0</td>\n",
       "      <td>1</td>\n",
       "      <td>168</td>\n",
       "      <td>0</td>\n",
       "      <td>1.0</td>\n",
       "      <td>2</td>\n",
       "      <td>2</td>\n",
       "      <td>3</td>\n",
       "      <td>0</td>\n",
       "    </tr>\n",
       "    <tr>\n",
       "      <th>1</th>\n",
       "      <td>53</td>\n",
       "      <td>1</td>\n",
       "      <td>0</td>\n",
       "      <td>140</td>\n",
       "      <td>203</td>\n",
       "      <td>1</td>\n",
       "      <td>0</td>\n",
       "      <td>155</td>\n",
       "      <td>1</td>\n",
       "      <td>3.1</td>\n",
       "      <td>0</td>\n",
       "      <td>0</td>\n",
       "      <td>3</td>\n",
       "      <td>0</td>\n",
       "    </tr>\n",
       "    <tr>\n",
       "      <th>2</th>\n",
       "      <td>70</td>\n",
       "      <td>1</td>\n",
       "      <td>0</td>\n",
       "      <td>145</td>\n",
       "      <td>174</td>\n",
       "      <td>0</td>\n",
       "      <td>1</td>\n",
       "      <td>125</td>\n",
       "      <td>1</td>\n",
       "      <td>2.6</td>\n",
       "      <td>0</td>\n",
       "      <td>0</td>\n",
       "      <td>3</td>\n",
       "      <td>0</td>\n",
       "    </tr>\n",
       "    <tr>\n",
       "      <th>3</th>\n",
       "      <td>61</td>\n",
       "      <td>1</td>\n",
       "      <td>0</td>\n",
       "      <td>148</td>\n",
       "      <td>203</td>\n",
       "      <td>0</td>\n",
       "      <td>1</td>\n",
       "      <td>161</td>\n",
       "      <td>0</td>\n",
       "      <td>0.0</td>\n",
       "      <td>2</td>\n",
       "      <td>1</td>\n",
       "      <td>3</td>\n",
       "      <td>0</td>\n",
       "    </tr>\n",
       "    <tr>\n",
       "      <th>4</th>\n",
       "      <td>62</td>\n",
       "      <td>0</td>\n",
       "      <td>0</td>\n",
       "      <td>138</td>\n",
       "      <td>294</td>\n",
       "      <td>1</td>\n",
       "      <td>1</td>\n",
       "      <td>106</td>\n",
       "      <td>0</td>\n",
       "      <td>1.9</td>\n",
       "      <td>1</td>\n",
       "      <td>3</td>\n",
       "      <td>2</td>\n",
       "      <td>0</td>\n",
       "    </tr>\n",
       "  </tbody>\n",
       "</table>\n",
       "</div>"
      ],
      "text/plain": [
       "   age  sex  cp  trestbps  chol  fbs  restecg  thalach  exang  oldpeak  slope  \\\n",
       "0   52    1   0       125   212    0        1      168      0      1.0      2   \n",
       "1   53    1   0       140   203    1        0      155      1      3.1      0   \n",
       "2   70    1   0       145   174    0        1      125      1      2.6      0   \n",
       "3   61    1   0       148   203    0        1      161      0      0.0      2   \n",
       "4   62    0   0       138   294    1        1      106      0      1.9      1   \n",
       "\n",
       "   ca  thal  target  \n",
       "0   2     3       0  \n",
       "1   0     3       0  \n",
       "2   0     3       0  \n",
       "3   1     3       0  \n",
       "4   3     2       0  "
      ]
     },
     "execution_count": 2,
     "metadata": {},
     "output_type": "execute_result"
    }
   ],
   "source": [
    "dados = pd.read_csv('heart.csv')\n",
    "dados.head()\n",
    "#dados.info()"
   ]
  },
  {
   "cell_type": "code",
   "execution_count": 3,
   "id": "6899be13",
   "metadata": {},
   "outputs": [
    {
     "name": "stdout",
     "output_type": "stream",
     "text": [
      "<class 'pandas.core.frame.DataFrame'>\n",
      "RangeIndex: 1025 entries, 0 to 1024\n",
      "Data columns (total 14 columns):\n",
      " #   Column    Non-Null Count  Dtype  \n",
      "---  ------    --------------  -----  \n",
      " 0   age       1025 non-null   int64  \n",
      " 1   sex       1025 non-null   int64  \n",
      " 2   cp        1025 non-null   int64  \n",
      " 3   trestbps  1025 non-null   int64  \n",
      " 4   chol      1025 non-null   int64  \n",
      " 5   fbs       1025 non-null   int64  \n",
      " 6   restecg   1025 non-null   int64  \n",
      " 7   thalach   1025 non-null   int64  \n",
      " 8   exang     1025 non-null   int64  \n",
      " 9   oldpeak   1025 non-null   float64\n",
      " 10  slope     1025 non-null   int64  \n",
      " 11  ca        1025 non-null   int64  \n",
      " 12  thal      1025 non-null   int64  \n",
      " 13  target    1025 non-null   int64  \n",
      "dtypes: float64(1), int64(13)\n",
      "memory usage: 112.2 KB\n"
     ]
    }
   ],
   "source": [
    "dados.info()"
   ]
  },
  {
   "cell_type": "code",
   "execution_count": 4,
   "id": "77587688",
   "metadata": {},
   "outputs": [
    {
     "data": {
      "text/plain": [
       "(1025, 14)"
      ]
     },
     "execution_count": 4,
     "metadata": {},
     "output_type": "execute_result"
    }
   ],
   "source": [
    "dados.shape"
   ]
  },
  {
   "cell_type": "markdown",
   "id": "306e161c",
   "metadata": {},
   "source": [
    "Dicionário de dados:\n",
    "age: Idade\n",
    "sex: Sexo\n",
    "cp: Tipo de dor no peito (4 valores)\n",
    "trestbps: Pressão sanguínea em repouso\n",
    "chol: Colesterol sérico em mg / dl\n",
    "fbs: Açúcar no sangue em jejum> 120 mg / dl\n",
    "restecg: Resultados eletrocardiográficos de repouso (valores 0,1,2)\n",
    "thalach: Frequência cardíaca máxima alcançada\n",
    "exang: Angina induzida por exercício\n",
    "oldpeak: Depressão de ST induzida por exercício em relação ao repouso\n",
    "slope: A inclinação do segmento ST de pico do exercício\n",
    "ca: Número de vasos principais (0-3) coloridos por fluorosopia\n",
    "thal: 3 = normal; 6 = defeito corrigido; 7 = defeito reversível\n",
    "target: Indica a presença ou ausência de doença cardíaca. (= o atributo previsto)"
   ]
  },
  {
   "cell_type": "markdown",
   "id": "7c73dfc4",
   "metadata": {},
   "source": [
    "### Exploração dos dados"
   ]
  },
  {
   "cell_type": "code",
   "execution_count": 5,
   "id": "04033f8d",
   "metadata": {},
   "outputs": [
    {
     "data": {
      "image/png": "[encoded data removed]",
      "text/plain": [
       "<Figure size 720x432 with 1 Axes>"
      ]
     },
     "metadata": {
      "needs_background": "light"
     },
     "output_type": "display_data"
    }
   ],
   "source": [
    "pd.crosstab(dados['target'],dados['sex']).plot(kind=\"bar\",color=['red','green'],figsize=(10,6))\n",
    "plt.title(\"Frequência de doenças cardíacas por sexo\")\n",
    "plt.xlabel(\"0=Não Doença, 1=Doença\")\n",
    "plt.ylabel(\"Quantidade\")\n",
    "plt.legend([\"Feminino\",\"Masculino\"])\n",
    "plt.show()"
   ]
  },
  {
   "cell_type": "code",
   "execution_count": 6,
   "id": "8a30b0da",
   "metadata": {},
   "outputs": [
    {
     "data": {
      "text/plain": [
       "<AxesSubplot:>"
      ]
     },
     "execution_count": 6,
     "metadata": {},
     "output_type": "execute_result"
    },
    {
     "data": {
      "image/png": "[encoded data removed]",
      "text/plain": [
       "<Figure size 432x288 with 1 Axes>"
      ]
     },
     "metadata": {
      "needs_background": "light"
     },
     "output_type": "display_data"
    }
   ],
   "source": [
    "dados['target'].value_counts().plot(kind=\"bar\",color=['red','green'])"
   ]
  },
  {
   "cell_type": "markdown",
   "id": "8f9e6be8",
   "metadata": {},
   "source": [
    "Note que os dados estão balanceados.\n",
    "- 526 = Possui doença cardiaca  (%51,317)\n",
    "- 499 = NÃO possui doença cardiaca (%48,68)"
   ]
  },
  {
   "cell_type": "code",
   "execution_count": 7,
   "id": "b9fa50e0",
   "metadata": {},
   "outputs": [
    {
     "data": {
      "text/plain": [
       "(1    713\n",
       " 0    312\n",
       " Name: sex, dtype: int64,\n",
       " <AxesSubplot:>)"
      ]
     },
     "execution_count": 7,
     "metadata": {},
     "output_type": "execute_result"
    },
    {
     "data": {
      "image/png": "[encoded data removed]",
      "text/plain": [
       "<Figure size 432x288 with 1 Axes>"
      ]
     },
     "metadata": {
      "needs_background": "light"
     },
     "output_type": "display_data"
    }
   ],
   "source": [
    "dados['sex'].value_counts(),dados['sex'].value_counts().plot(kind=\"bar\",color=['red','green'])"
   ]
  },
  {
   "cell_type": "code",
   "execution_count": 8,
   "id": "2bbc268b",
   "metadata": {},
   "outputs": [
    {
     "data": {
      "text/html": [
       "<div>\n",
       "<style scoped>\n",
       "    .dataframe tbody tr th:only-of-type {\n",
       "        vertical-align: middle;\n",
       "    }\n",
       "\n",
       "    .dataframe tbody tr th {\n",
       "        vertical-align: top;\n",
       "    }\n",
       "\n",
       "    .dataframe thead th {\n",
       "        text-align: right;\n",
       "    }\n",
       "</style>\n",
       "<table border=\"1\" class=\"dataframe\">\n",
       "  <thead>\n",
       "    <tr style=\"text-align: right;\">\n",
       "      <th>sex</th>\n",
       "      <th>0</th>\n",
       "      <th>1</th>\n",
       "    </tr>\n",
       "    <tr>\n",
       "      <th>target</th>\n",
       "      <th></th>\n",
       "      <th></th>\n",
       "    </tr>\n",
       "  </thead>\n",
       "  <tbody>\n",
       "    <tr>\n",
       "      <th>0</th>\n",
       "      <td>86</td>\n",
       "      <td>413</td>\n",
       "    </tr>\n",
       "    <tr>\n",
       "      <th>1</th>\n",
       "      <td>226</td>\n",
       "      <td>300</td>\n",
       "    </tr>\n",
       "  </tbody>\n",
       "</table>\n",
       "</div>"
      ],
      "text/plain": [
       "sex       0    1\n",
       "target          \n",
       "0        86  413\n",
       "1       226  300"
      ]
     },
     "execution_count": 8,
     "metadata": {},
     "output_type": "execute_result"
    }
   ],
   "source": [
    "pd.crosstab(dados['target'],dados['sex'])"
   ]
  },
  {
   "cell_type": "code",
   "execution_count": 9,
   "id": "6c49d3d9",
   "metadata": {},
   "outputs": [
    {
     "data": {
      "text/html": [
       "<div>\n",
       "<style scoped>\n",
       "    .dataframe tbody tr th:only-of-type {\n",
       "        vertical-align: middle;\n",
       "    }\n",
       "\n",
       "    .dataframe tbody tr th {\n",
       "        vertical-align: top;\n",
       "    }\n",
       "\n",
       "    .dataframe thead th {\n",
       "        text-align: right;\n",
       "    }\n",
       "</style>\n",
       "<table border=\"1\" class=\"dataframe\">\n",
       "  <thead>\n",
       "    <tr style=\"text-align: right;\">\n",
       "      <th>sex</th>\n",
       "      <th>0</th>\n",
       "      <th>1</th>\n",
       "      <th>All</th>\n",
       "    </tr>\n",
       "    <tr>\n",
       "      <th>target</th>\n",
       "      <th></th>\n",
       "      <th></th>\n",
       "      <th></th>\n",
       "    </tr>\n",
       "  </thead>\n",
       "  <tbody>\n",
       "    <tr>\n",
       "      <th>0</th>\n",
       "      <td>0.083902</td>\n",
       "      <td>0.402927</td>\n",
       "      <td>0.486829</td>\n",
       "    </tr>\n",
       "    <tr>\n",
       "      <th>1</th>\n",
       "      <td>0.220488</td>\n",
       "      <td>0.292683</td>\n",
       "      <td>0.513171</td>\n",
       "    </tr>\n",
       "    <tr>\n",
       "      <th>All</th>\n",
       "      <td>0.304390</td>\n",
       "      <td>0.695610</td>\n",
       "      <td>1.000000</td>\n",
       "    </tr>\n",
       "  </tbody>\n",
       "</table>\n",
       "</div>"
      ],
      "text/plain": [
       "sex            0         1       All\n",
       "target                              \n",
       "0       0.083902  0.402927  0.486829\n",
       "1       0.220488  0.292683  0.513171\n",
       "All     0.304390  0.695610  1.000000"
      ]
     },
     "execution_count": 9,
     "metadata": {},
     "output_type": "execute_result"
    }
   ],
   "source": [
    "pd.crosstab(dados['target'],dados['sex'], margins=True, normalize=True)"
   ]
  },
  {
   "cell_type": "markdown",
   "id": "7127e662",
   "metadata": {},
   "source": [
    "### (KNN)"
   ]
  },
  {
   "cell_type": "code",
   "execution_count": 10,
   "id": "845c21ca",
   "metadata": {},
   "outputs": [],
   "source": [
    "X = dados.drop(columns=[\"target\"])\n",
    "y = dados[\"target\"]\n",
    "\n",
    "X_train, X_test, y_train, y_test = train_test_split(X, y, test_size = 0.2,random_state=42) "
   ]
  },
  {
   "cell_type": "code",
   "execution_count": 11,
   "id": "25ba0097",
   "metadata": {},
   "outputs": [
    {
     "name": "stdout",
     "output_type": "stream",
     "text": [
      "Acurácia: 0.9024390243902439\n"
     ]
    }
   ],
   "source": [
    "KNN = KNeighborsClassifier(n_neighbors=3)\n",
    "KNN.fit(X_train, y_train)\n",
    "pred_KNN = KNN.predict(X_test)\n",
    "print(\"Acurácia:\", accuracy_score(y_test, pred_KNN))"
   ]
  },
  {
   "cell_type": "markdown",
   "id": "4e631b5b",
   "metadata": {},
   "source": [
    "Acurácia: 0.9024390243902439"
   ]
  },
  {
   "cell_type": "markdown",
   "id": "bd01b081",
   "metadata": {},
   "source": [
    "### (DecisionTreeClassifier)"
   ]
  },
  {
   "cell_type": "code",
   "execution_count": 12,
   "id": "aace0cc7",
   "metadata": {},
   "outputs": [
    {
     "name": "stdout",
     "output_type": "stream",
     "text": [
      "Acurácia: 0.9853658536585366\n"
     ]
    }
   ],
   "source": [
    "X_treino, X_teste, y_treino, y_teste = train_test_split(X, y, test_size = 0.2, random_state = 42)\n",
    "#dt = DecisionTreeClassifier(criterion='entropy')\n",
    "dt = DecisionTreeClassifier()\n",
    "dt.fit(X_treino, y_treino)\n",
    "pred_DT= dt.predict(X_teste)\n",
    "print(\"Acurácia:\", accuracy_score(y_teste, pred_DT))"
   ]
  },
  {
   "cell_type": "markdown",
   "id": "e3cd3bcb",
   "metadata": {},
   "source": [
    "Acurácia: 0.9853658536585366"
   ]
  },
  {
   "cell_type": "markdown",
   "id": "33eb1e19",
   "metadata": {},
   "source": [
    "### (RandomFlorest)"
   ]
  },
  {
   "cell_type": "code",
   "execution_count": 13,
   "id": "c902f783",
   "metadata": {},
   "outputs": [],
   "source": [
    "X_treino, X_teste, y_treino, y_teste = train_test_split(X, y, test_size = 0.2, random_state = 42)"
   ]
  },
  {
   "cell_type": "code",
   "execution_count": 14,
   "id": "48a97059",
   "metadata": {},
   "outputs": [
    {
     "name": "stdout",
     "output_type": "stream",
     "text": [
      "Acurácia: 0.9853658536585366\n"
     ]
    }
   ],
   "source": [
    "RF = RandomForestClassifier()\n",
    "RF.fit(X_treino, y_treino)\n",
    "y_pred_RF = RF.predict(X_teste)\n",
    "print(\"Acurácia:\", accuracy_score(y_teste, y_pred_RF))"
   ]
  },
  {
   "cell_type": "markdown",
   "id": "cd39d9c8",
   "metadata": {},
   "source": [
    "Acurácia: 0.9853658536585366"
   ]
  },
  {
   "cell_type": "markdown",
   "id": "13c22d96",
   "metadata": {},
   "source": [
    "### Naive Bayes"
   ]
  },
  {
   "cell_type": "code",
   "execution_count": 15,
   "id": "b21891f6",
   "metadata": {},
   "outputs": [],
   "source": [
    "inputs = dados.drop('target', axis = 'columns')\n",
    "target = dados['target']"
   ]
  },
  {
   "cell_type": "code",
   "execution_count": 16,
   "id": "a3300d70",
   "metadata": {},
   "outputs": [
    {
     "name": "stdout",
     "output_type": "stream",
     "text": [
      "Acurácia: 0.8536585365853658\n"
     ]
    }
   ],
   "source": [
    "X_train, X_test, y_train, y_test = train_test_split(inputs, target, test_size = 0.2,random_state=100) \n",
    "\n",
    "classifier = GaussianNB()\n",
    "classifier.fit(X_train, y_train)\n",
    "pred_Nb= classifier.predict(X_test)\n",
    "print(\"Acurácia:\", accuracy_score(y_test, pred_Nb))"
   ]
  },
  {
   "cell_type": "markdown",
   "id": "1ea42cdc",
   "metadata": {},
   "source": [
    "Acurácia: 0.8536585365853658"
   ]
  },
  {
   "cell_type": "markdown",
   "id": "f2cc2e85",
   "metadata": {},
   "source": [
    "## Métricas"
   ]
  },
  {
   "cell_type": "markdown",
   "id": "b9ca40b2",
   "metadata": {},
   "source": [
    "### Matriz de confusão"
   ]
  },
  {
   "cell_type": "code",
   "execution_count": 17,
   "id": "4d447415",
   "metadata": {},
   "outputs": [
    {
     "name": "stdout",
     "output_type": "stream",
     "text": [
      "[[102   0]\n",
      " [  3 100]]\n"
     ]
    }
   ],
   "source": [
    "print(confusion_matrix(y_teste,y_pred_RF))"
   ]
  },
  {
   "cell_type": "code",
   "execution_count": 18,
   "id": "00d6cab5",
   "metadata": {},
   "outputs": [
    {
     "data": {
      "image/png": "[encoded data removed]",
      "text/plain": [
       "<Figure size 432x288 with 2 Axes>"
      ]
     },
     "metadata": {
      "needs_background": "light"
     },
     "output_type": "display_data"
    }
   ],
   "source": [
    "cm = confusion_matrix(y_teste, y_pred_RF)\n",
    "sns.heatmap(cm, annot=True,fmt=\"d\", cmap=plt.cm.Blues, linecolor='black', linewidths=1)\n",
    "plt.title(\"Matriz de confusão\")\n",
    "plt.title(\"Matriz de confusão\")\n",
    "plt.xlabel(\"Real\")\n",
    "plt.ylabel(\"Previsto\")\n",
    "plt.show()"
   ]
  },
  {
   "cell_type": "markdown",
   "id": "6056f83e",
   "metadata": {},
   "source": [
    "### Acurácia"
   ]
  },
  {
   "cell_type": "code",
   "execution_count": 19,
   "id": "34537ab2",
   "metadata": {},
   "outputs": [
    {
     "name": "stdout",
     "output_type": "stream",
     "text": [
      "Acurácia: 0.9853658536585366\n"
     ]
    }
   ],
   "source": [
    "print(\"Acurácia:\", accuracy_score(y_teste, y_pred_RF))"
   ]
  },
  {
   "cell_type": "markdown",
   "id": "c9f3e9a3",
   "metadata": {},
   "source": [
    "### Recall ( sensibilidade)"
   ]
  },
  {
   "cell_type": "code",
   "execution_count": 20,
   "id": "4542a85e",
   "metadata": {},
   "outputs": [
    {
     "name": "stdout",
     "output_type": "stream",
     "text": [
      "Recall: 0.970874\n"
     ]
    }
   ],
   "source": [
    "from sklearn.metrics import recall_score #recall\n",
    "recall = recall_score(y_teste, y_pred_RF)\n",
    "print('Recall: %f' % recall)"
   ]
  },
  {
   "cell_type": "markdown",
   "id": "3b98a284",
   "metadata": {},
   "source": [
    "### Precisão"
   ]
  },
  {
   "cell_type": "code",
   "execution_count": 21,
   "id": "da9e2aac",
   "metadata": {},
   "outputs": [
    {
     "name": "stdout",
     "output_type": "stream",
     "text": [
      "Precision: 1.000000\n"
     ]
    }
   ],
   "source": [
    "from sklearn.metrics import precision_score #precision\n",
    "precision = precision_score(y_teste, y_pred_RF)\n",
    "print('Precision: %f' % precision)"
   ]
  },
  {
   "cell_type": "markdown",
   "id": "75512aeb",
   "metadata": {},
   "source": [
    "### f1 - score"
   ]
  },
  {
   "cell_type": "code",
   "execution_count": 22,
   "id": "abbe398f",
   "metadata": {},
   "outputs": [
    {
     "name": "stdout",
     "output_type": "stream",
     "text": [
      "F1-Score: 0.985222\n"
     ]
    }
   ],
   "source": [
    "from sklearn.metrics import f1_score #f1-score\n",
    "f1 = f1_score(y_teste, y_pred_RF)\n",
    "print('F1-Score: %f' % f1)"
   ]
  },
  {
   "cell_type": "code",
   "execution_count": 23,
   "id": "455fb99c",
   "metadata": {},
   "outputs": [
    {
     "name": "stdout",
     "output_type": "stream",
     "text": [
      "              precision    recall  f1-score   support\n",
      "\n",
      "           0       0.97      1.00      0.99       102\n",
      "           1       1.00      0.97      0.99       103\n",
      "\n",
      "    accuracy                           0.99       205\n",
      "   macro avg       0.99      0.99      0.99       205\n",
      "weighted avg       0.99      0.99      0.99       205\n",
      "\n"
     ]
    }
   ],
   "source": [
    "print(classification_report(y_teste,y_pred_RF))"
   ]
  },
  {
   "cell_type": "code",
   "execution_count": 24,
   "id": "43a3d5b1",
   "metadata": {},
   "outputs": [
    {
     "name": "stdout",
     "output_type": "stream",
     "text": [
      "Verdadeiro positivo: 100\n",
      "Verdadeiro negativo: 102\n",
      "Falso positivo: 0\n",
      "Falso negativo: 3\n",
      "\n",
      "Precisão: 1.0\n",
      "Recall: 0.970873786407767\n",
      "F1 : 0.9852216748768473\n"
     ]
    }
   ],
   "source": [
    "vn, fp, fn, vp = confusion_matrix(y_teste,y_pred_RF).ravel()\n",
    "print(f\"Verdadeiro positivo: {vp}\")\n",
    "print(f\"Verdadeiro negativo: {vn}\")\n",
    "print(f\"Falso positivo: {fp}\")\n",
    "print(f\"Falso negativo: {fn}\\n\")\n",
    "\n",
    "precisao = vp/(vp + fp)\n",
    "recall = vp/(vp + fn)\n",
    "f1 = 2 * (precisao * recall) / (precision + recall)\n",
    "\n",
    "print(f\"Precisão: {precisao}\")\n",
    "print(f\"Recall: {recall}\")\n",
    "print(f\"F1 : {f1}\")"
   ]
  },
  {
   "cell_type": "markdown",
   "id": "af23c568",
   "metadata": {},
   "source": [
    "### KFold"
   ]
  },
  {
   "cell_type": "code",
   "execution_count": 25,
   "id": "705aff16",
   "metadata": {},
   "outputs": [
    {
     "name": "stdout",
     "output_type": "stream",
     "text": [
      "Precisão: 99.70588235294117\n"
     ]
    }
   ],
   "source": [
    "kfold = sklearn.model_selection.KFold(n_splits=10)\n",
    "model_kfold = RandomForestClassifier()\n",
    "resultado = sklearn.model_selection.cross_val_score(model_kfold, X,y, cv=kfold)\n",
    "print(f'Precisão: {(resultado.mean()*100.0)}' )"
   ]
  },
  {
   "cell_type": "markdown",
   "id": "31b25623",
   "metadata": {},
   "source": [
    "### KFold estratificada"
   ]
  },
  {
   "cell_type": "code",
   "execution_count": 26,
   "id": "749ec668",
   "metadata": {},
   "outputs": [
    {
     "name": "stdout",
     "output_type": "stream",
     "text": [
      "Precisão: 98.34022168487363\n"
     ]
    }
   ],
   "source": [
    "skfold = StratifiedKFold(n_splits=3)\n",
    "model_skfold =  RandomForestClassifier()\n",
    "resultado_skfold = sklearn.model_selection.cross_val_score(model_skfold, X,y, cv=skfold)\n",
    "print(f'Precisão: {(resultado_skfold.mean()*100.0)}' )"
   ]
  }
 ],
 "metadata": {
  "kernelspec": {
   "display_name": "Python 3 (ipykernel)",
   "language": "python",
   "name": "python3"
  },
  "language_info": {
   "codemirror_mode": {
    "name": "ipython",
    "version": 3
   },
   "file_extension": ".py",
   "mimetype": "text/x-python",
   "name": "python",
   "nbconvert_exporter": "python",
   "pygments_lexer": "ipython3",
   "version": "3.9.7"
  }
 },
 "nbformat": 4,
 "nbformat_minor": 5
}
