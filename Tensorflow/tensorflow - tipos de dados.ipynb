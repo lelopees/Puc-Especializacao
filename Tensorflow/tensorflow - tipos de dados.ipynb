{
 "cells": [
  {
   "cell_type": "code",
   "execution_count": 1,
   "id": "ce5beb89",
   "metadata": {},
   "outputs": [],
   "source": [
    "import tensorflow as tf"
   ]
  },
  {
   "cell_type": "code",
   "execution_count": 3,
   "id": "8124a75d",
   "metadata": {},
   "outputs": [],
   "source": [
    "with tf.compat.v1.Session() as sess:\n",
    "    \n",
    "    a = tf.constant(2) # tensor dimensional\n",
    "    b = tf.constant([3,1,5,8,6]) # dimensional (vetor)\n",
    "    c = tf.constant([[2,0,4],[3,5,7]]) # dimensional (matriz)\n",
    "    \n",
    "    saida = sess.run(c)\n",
    "sess.close()"
   ]
  },
  {
   "cell_type": "code",
   "execution_count": 10,
   "id": "14098fbc",
   "metadata": {},
   "outputs": [
    {
     "name": "stdout",
     "output_type": "stream",
     "text": [
      "(5,)\n"
     ]
    }
   ],
   "source": [
    "a = tf.constant(2)\n",
    "b = tf.constant([3,1,5,8,6])\n",
    "c = tf.constant([[2,0,4],[3,5,7]])\n",
    "    \n",
    "print()"
   ]
  },
  {
   "cell_type": "code",
   "execution_count": 4,
   "id": "2edd34f8",
   "metadata": {},
   "outputs": [],
   "source": [
    "import numpy as np\n",
    "\n",
    "a1 = np.array(2)\n",
    "b1 = np.array([3,1,5,8,6])\n",
    "c1 = np.array([[2,0,4],[3,5,7]])"
   ]
  },
  {
   "cell_type": "code",
   "execution_count": 14,
   "id": "2a4e4323",
   "metadata": {},
   "outputs": [
    {
     "name": "stdout",
     "output_type": "stream",
     "text": [
      "(2, 3)\n"
     ]
    }
   ],
   "source": [
    "print(c1.shape)"
   ]
  },
  {
   "cell_type": "code",
   "execution_count": 22,
   "id": "a892a0fe",
   "metadata": {},
   "outputs": [],
   "source": [
    "cons = tf.constant(4.0)\n",
    "cons2 = tf.constant(4, dtype=tf.float64)"
   ]
  },
  {
   "cell_type": "code",
   "execution_count": 23,
   "id": "31bdb1b3",
   "metadata": {},
   "outputs": [
    {
     "name": "stdout",
     "output_type": "stream",
     "text": [
      "tf.Tensor(4.0, shape=(), dtype=float64)\n"
     ]
    }
   ],
   "source": [
    "print(cons2)"
   ]
  }
 ],
 "metadata": {
  "kernelspec": {
   "display_name": "Python 3 (ipykernel)",
   "language": "python",
   "name": "python3"
  },
  "language_info": {
   "codemirror_mode": {
    "name": "ipython",
    "version": 3
   },
   "file_extension": ".py",
   "mimetype": "text/x-python",
   "name": "python",
   "nbconvert_exporter": "python",
   "pygments_lexer": "ipython3",
   "version": "3.9.7"
  }
 },
 "nbformat": 4,
 "nbformat_minor": 5
}
