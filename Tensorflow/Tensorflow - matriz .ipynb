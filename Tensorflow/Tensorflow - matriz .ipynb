{
 "cells": [
  {
   "cell_type": "code",
   "execution_count": 1,
   "id": "6baf59ca",
   "metadata": {},
   "outputs": [],
   "source": [
    "import tensorflow as tf"
   ]
  },
  {
   "cell_type": "code",
   "execution_count": 2,
   "id": "8d38b770",
   "metadata": {},
   "outputs": [],
   "source": [
    "A = tf.constant([[1,2,3],[4,5,6]])\n",
    "B = tf.constant([[0,0],[1,0],[0,1]])"
   ]
  },
  {
   "cell_type": "code",
   "execution_count": 3,
   "id": "949b5dcf",
   "metadata": {},
   "outputs": [
    {
     "name": "stdout",
     "output_type": "stream",
     "text": [
      " A: \n",
      " [[1 2 3]\n",
      " [4 5 6]]\n",
      " B: \n",
      " [[0 0]\n",
      " [1 0]\n",
      " [0 1]]\n",
      " Resultado: \n",
      " [[2 3]\n",
      " [5 6]] \n",
      " Resultado 2: \n",
      " [[2]\n",
      " [5]] \n",
      " A: \n",
      " [[1 4]\n",
      " [2 5]\n",
      " [3 6]]\n"
     ]
    }
   ],
   "source": [
    "with tf.compat.v1.Session() as sess:\n",
    "    A = tf.constant([[1, 2, 3],[4, 5, 6]])\n",
    "    B = tf.constant([[0, 0],[1, 0],[0, 1]])\n",
    "    x = tf.constant([0, 1, 0])\n",
    "    # explandir um vetor. 1 é o eixo dimensional\n",
    "    x = tf.expand_dims (x,1)\n",
    "    resultado = tf.matmul(A, B)\n",
    "    \n",
    "    print(f' A: \\n {sess.run(A)}')\n",
    "    print(f' B: \\n {sess.run(B)}')\n",
    "    print(f' Resultado: \\n {sess.run(resultado)} ')\n",
    "    \n",
    "    resultado2 = tf.matmul(A, x)\n",
    "    \n",
    "    print(f' Resultado 2: \\n {sess.run(resultado2)} ')\n",
    "    \n",
    "    transposta = tf.transpose(A)\n",
    "    print(f' A: \\n {sess.run(transposta)}')"
   ]
  }
 ],
 "metadata": {
  "kernelspec": {
   "display_name": "Python 3 (ipykernel)",
   "language": "python",
   "name": "python3"
  },
  "language_info": {
   "codemirror_mode": {
    "name": "ipython",
    "version": 3
   },
   "file_extension": ".py",
   "mimetype": "text/x-python",
   "name": "python",
   "nbconvert_exporter": "python",
   "pygments_lexer": "ipython3",
   "version": "3.9.7"
  }
 },
 "nbformat": 4,
 "nbformat_minor": 5
}
