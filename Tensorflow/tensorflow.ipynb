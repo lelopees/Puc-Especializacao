{
 "cells": [
  {
   "cell_type": "code",
   "execution_count": 6,
   "id": "ae67c76f",
   "metadata": {},
   "outputs": [],
   "source": [
    "import tensorflow as tf"
   ]
  },
  {
   "cell_type": "code",
   "execution_count": 21,
   "id": "21c5b61c",
   "metadata": {},
   "outputs": [
    {
     "name": "stdout",
     "output_type": "stream",
     "text": [
      "Olá, mundo\n"
     ]
    }
   ],
   "source": [
    "with tf.compat.v1.Session() as sess:\n",
    "         frase = tf.constant('Olá, mundo')\n",
    "         rodar = sess.run(frase)\n",
    "print(rodar.decode('UTF-8'))"
   ]
  },
  {
   "cell_type": "code",
   "execution_count": 22,
   "id": "60f874d2",
   "metadata": {},
   "outputs": [
    {
     "name": "stdout",
     "output_type": "stream",
     "text": [
      "b'Ol\\xc3\\xa1, mundo'\n"
     ]
    }
   ],
   "source": [
    "print(tf.compat.v1.Session().run(frase))"
   ]
  },
  {
   "cell_type": "code",
   "execution_count": 23,
   "id": "a93f31c1",
   "metadata": {},
   "outputs": [
    {
     "name": "stdout",
     "output_type": "stream",
     "text": [
      "Tensor(\"Const_3:0\", shape=(), dtype=string)\n"
     ]
    }
   ],
   "source": [
    "print(frase)"
   ]
  }
 ],
 "metadata": {
  "kernelspec": {
   "display_name": "Python 3 (ipykernel)",
   "language": "python",
   "name": "python3"
  },
  "language_info": {
   "codemirror_mode": {
    "name": "ipython",
    "version": 3
   },
   "file_extension": ".py",
   "mimetype": "text/x-python",
   "name": "python",
   "nbconvert_exporter": "python",
   "pygments_lexer": "ipython3",
   "version": "3.9.7"
  }
 },
 "nbformat": 4,
 "nbformat_minor": 5
}
