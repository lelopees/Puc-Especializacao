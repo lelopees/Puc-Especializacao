{
 "cells": [
  {
   "cell_type": "code",
   "execution_count": 1,
   "id": "6d4de4f3",
   "metadata": {},
   "outputs": [],
   "source": [
    "import numpy as np\n",
    "import pandas as pd"
   ]
  },
  {
   "cell_type": "markdown",
   "id": "0fa32f14",
   "metadata": {},
   "source": [
    "# Regressão Linear"
   ]
  },
  {
   "cell_type": "code",
   "execution_count": 2,
   "id": "553d22b1",
   "metadata": {},
   "outputs": [],
   "source": [
    "# Importando bibliotecas\n",
    "\n",
    "from sklearn.datasets import load_boston\n",
    "from sklearn.model_selection import train_test_split\n",
    "from sklearn.linear_model import LinearRegression"
   ]
  },
  {
   "cell_type": "code",
   "execution_count": 3,
   "id": "4efc2029",
   "metadata": {},
   "outputs": [],
   "source": [
    "# Carregando o dataset Boston do sklearn para estimação dos valores de venda de um imóvel (em milhares de dólares)\n",
    "\n",
    "dataset = load_boston()"
   ]
  },
  {
   "cell_type": "code",
   "execution_count": 4,
   "id": "b3bd120e",
   "metadata": {},
   "outputs": [
    {
     "data": {
      "text/plain": [
       "(506, 13)"
      ]
     },
     "execution_count": 4,
     "metadata": {},
     "output_type": "execute_result"
    }
   ],
   "source": [
    "# Verificando o shape do dataset: número de instâncias (linhas), número de atributos (colunas)\n",
    "\n",
    "dataset.data.shape"
   ]
  },
  {
   "cell_type": "code",
   "execution_count": 5,
   "id": "c8fb90e5",
   "metadata": {},
   "outputs": [],
   "source": [
    "# Carregando os atributos de entrada em um Pandas dataframe\n",
    "\n",
    "df = pd.DataFrame(dataset.data, columns = dataset.feature_names)"
   ]
  },
  {
   "cell_type": "code",
   "execution_count": 6,
   "id": "5f4dac3b",
   "metadata": {},
   "outputs": [
    {
     "data": {
      "text/html": [
       "<div>\n",
       "<style scoped>\n",
       "    .dataframe tbody tr th:only-of-type {\n",
       "        vertical-align: middle;\n",
       "    }\n",
       "\n",
       "    .dataframe tbody tr th {\n",
       "        vertical-align: top;\n",
       "    }\n",
       "\n",
       "    .dataframe thead th {\n",
       "        text-align: right;\n",
       "    }\n",
       "</style>\n",
       "<table border=\"1\" class=\"dataframe\">\n",
       "  <thead>\n",
       "    <tr style=\"text-align: right;\">\n",
       "      <th></th>\n",
       "      <th>CRIM</th>\n",
       "      <th>ZN</th>\n",
       "      <th>INDUS</th>\n",
       "      <th>CHAS</th>\n",
       "      <th>NOX</th>\n",
       "      <th>RM</th>\n",
       "      <th>AGE</th>\n",
       "      <th>DIS</th>\n",
       "      <th>RAD</th>\n",
       "      <th>TAX</th>\n",
       "      <th>PTRATIO</th>\n",
       "      <th>B</th>\n",
       "      <th>LSTAT</th>\n",
       "    </tr>\n",
       "  </thead>\n",
       "  <tbody>\n",
       "    <tr>\n",
       "      <th>0</th>\n",
       "      <td>0.00632</td>\n",
       "      <td>18.0</td>\n",
       "      <td>2.31</td>\n",
       "      <td>0.0</td>\n",
       "      <td>0.538</td>\n",
       "      <td>6.575</td>\n",
       "      <td>65.2</td>\n",
       "      <td>4.0900</td>\n",
       "      <td>1.0</td>\n",
       "      <td>296.0</td>\n",
       "      <td>15.3</td>\n",
       "      <td>396.90</td>\n",
       "      <td>4.98</td>\n",
       "    </tr>\n",
       "    <tr>\n",
       "      <th>1</th>\n",
       "      <td>0.02731</td>\n",
       "      <td>0.0</td>\n",
       "      <td>7.07</td>\n",
       "      <td>0.0</td>\n",
       "      <td>0.469</td>\n",
       "      <td>6.421</td>\n",
       "      <td>78.9</td>\n",
       "      <td>4.9671</td>\n",
       "      <td>2.0</td>\n",
       "      <td>242.0</td>\n",
       "      <td>17.8</td>\n",
       "      <td>396.90</td>\n",
       "      <td>9.14</td>\n",
       "    </tr>\n",
       "    <tr>\n",
       "      <th>2</th>\n",
       "      <td>0.02729</td>\n",
       "      <td>0.0</td>\n",
       "      <td>7.07</td>\n",
       "      <td>0.0</td>\n",
       "      <td>0.469</td>\n",
       "      <td>7.185</td>\n",
       "      <td>61.1</td>\n",
       "      <td>4.9671</td>\n",
       "      <td>2.0</td>\n",
       "      <td>242.0</td>\n",
       "      <td>17.8</td>\n",
       "      <td>392.83</td>\n",
       "      <td>4.03</td>\n",
       "    </tr>\n",
       "    <tr>\n",
       "      <th>3</th>\n",
       "      <td>0.03237</td>\n",
       "      <td>0.0</td>\n",
       "      <td>2.18</td>\n",
       "      <td>0.0</td>\n",
       "      <td>0.458</td>\n",
       "      <td>6.998</td>\n",
       "      <td>45.8</td>\n",
       "      <td>6.0622</td>\n",
       "      <td>3.0</td>\n",
       "      <td>222.0</td>\n",
       "      <td>18.7</td>\n",
       "      <td>394.63</td>\n",
       "      <td>2.94</td>\n",
       "    </tr>\n",
       "    <tr>\n",
       "      <th>4</th>\n",
       "      <td>0.06905</td>\n",
       "      <td>0.0</td>\n",
       "      <td>2.18</td>\n",
       "      <td>0.0</td>\n",
       "      <td>0.458</td>\n",
       "      <td>7.147</td>\n",
       "      <td>54.2</td>\n",
       "      <td>6.0622</td>\n",
       "      <td>3.0</td>\n",
       "      <td>222.0</td>\n",
       "      <td>18.7</td>\n",
       "      <td>396.90</td>\n",
       "      <td>5.33</td>\n",
       "    </tr>\n",
       "  </tbody>\n",
       "</table>\n",
       "</div>"
      ],
      "text/plain": [
       "      CRIM    ZN  INDUS  CHAS    NOX     RM   AGE     DIS  RAD    TAX  \\\n",
       "0  0.00632  18.0   2.31   0.0  0.538  6.575  65.2  4.0900  1.0  296.0   \n",
       "1  0.02731   0.0   7.07   0.0  0.469  6.421  78.9  4.9671  2.0  242.0   \n",
       "2  0.02729   0.0   7.07   0.0  0.469  7.185  61.1  4.9671  2.0  242.0   \n",
       "3  0.03237   0.0   2.18   0.0  0.458  6.998  45.8  6.0622  3.0  222.0   \n",
       "4  0.06905   0.0   2.18   0.0  0.458  7.147  54.2  6.0622  3.0  222.0   \n",
       "\n",
       "   PTRATIO       B  LSTAT  \n",
       "0     15.3  396.90   4.98  \n",
       "1     17.8  396.90   9.14  \n",
       "2     17.8  392.83   4.03  \n",
       "3     18.7  394.63   2.94  \n",
       "4     18.7  396.90   5.33  "
      ]
     },
     "execution_count": 6,
     "metadata": {},
     "output_type": "execute_result"
    }
   ],
   "source": [
    "# Visualizando as primeiras linhas e colunas do dataframe\n",
    "\n",
    "df.head()"
   ]
  },
  {
   "cell_type": "code",
   "execution_count": 7,
   "id": "b77a1362",
   "metadata": {},
   "outputs": [],
   "source": [
    "# Adicionando a variável de saída ao dataframe criado\n",
    "\n",
    "df[\"MEDV\"] = dataset.target"
   ]
  },
  {
   "cell_type": "code",
   "execution_count": 8,
   "id": "dc21e53c",
   "metadata": {},
   "outputs": [
    {
     "data": {
      "text/html": [
       "<div>\n",
       "<style scoped>\n",
       "    .dataframe tbody tr th:only-of-type {\n",
       "        vertical-align: middle;\n",
       "    }\n",
       "\n",
       "    .dataframe tbody tr th {\n",
       "        vertical-align: top;\n",
       "    }\n",
       "\n",
       "    .dataframe thead th {\n",
       "        text-align: right;\n",
       "    }\n",
       "</style>\n",
       "<table border=\"1\" class=\"dataframe\">\n",
       "  <thead>\n",
       "    <tr style=\"text-align: right;\">\n",
       "      <th></th>\n",
       "      <th>CRIM</th>\n",
       "      <th>ZN</th>\n",
       "      <th>INDUS</th>\n",
       "      <th>CHAS</th>\n",
       "      <th>NOX</th>\n",
       "      <th>RM</th>\n",
       "      <th>AGE</th>\n",
       "      <th>DIS</th>\n",
       "      <th>RAD</th>\n",
       "      <th>TAX</th>\n",
       "      <th>PTRATIO</th>\n",
       "      <th>B</th>\n",
       "      <th>LSTAT</th>\n",
       "      <th>MEDV</th>\n",
       "    </tr>\n",
       "  </thead>\n",
       "  <tbody>\n",
       "    <tr>\n",
       "      <th>0</th>\n",
       "      <td>0.00632</td>\n",
       "      <td>18.0</td>\n",
       "      <td>2.31</td>\n",
       "      <td>0.0</td>\n",
       "      <td>0.538</td>\n",
       "      <td>6.575</td>\n",
       "      <td>65.2</td>\n",
       "      <td>4.0900</td>\n",
       "      <td>1.0</td>\n",
       "      <td>296.0</td>\n",
       "      <td>15.3</td>\n",
       "      <td>396.90</td>\n",
       "      <td>4.98</td>\n",
       "      <td>24.0</td>\n",
       "    </tr>\n",
       "    <tr>\n",
       "      <th>1</th>\n",
       "      <td>0.02731</td>\n",
       "      <td>0.0</td>\n",
       "      <td>7.07</td>\n",
       "      <td>0.0</td>\n",
       "      <td>0.469</td>\n",
       "      <td>6.421</td>\n",
       "      <td>78.9</td>\n",
       "      <td>4.9671</td>\n",
       "      <td>2.0</td>\n",
       "      <td>242.0</td>\n",
       "      <td>17.8</td>\n",
       "      <td>396.90</td>\n",
       "      <td>9.14</td>\n",
       "      <td>21.6</td>\n",
       "    </tr>\n",
       "    <tr>\n",
       "      <th>2</th>\n",
       "      <td>0.02729</td>\n",
       "      <td>0.0</td>\n",
       "      <td>7.07</td>\n",
       "      <td>0.0</td>\n",
       "      <td>0.469</td>\n",
       "      <td>7.185</td>\n",
       "      <td>61.1</td>\n",
       "      <td>4.9671</td>\n",
       "      <td>2.0</td>\n",
       "      <td>242.0</td>\n",
       "      <td>17.8</td>\n",
       "      <td>392.83</td>\n",
       "      <td>4.03</td>\n",
       "      <td>34.7</td>\n",
       "    </tr>\n",
       "    <tr>\n",
       "      <th>3</th>\n",
       "      <td>0.03237</td>\n",
       "      <td>0.0</td>\n",
       "      <td>2.18</td>\n",
       "      <td>0.0</td>\n",
       "      <td>0.458</td>\n",
       "      <td>6.998</td>\n",
       "      <td>45.8</td>\n",
       "      <td>6.0622</td>\n",
       "      <td>3.0</td>\n",
       "      <td>222.0</td>\n",
       "      <td>18.7</td>\n",
       "      <td>394.63</td>\n",
       "      <td>2.94</td>\n",
       "      <td>33.4</td>\n",
       "    </tr>\n",
       "    <tr>\n",
       "      <th>4</th>\n",
       "      <td>0.06905</td>\n",
       "      <td>0.0</td>\n",
       "      <td>2.18</td>\n",
       "      <td>0.0</td>\n",
       "      <td>0.458</td>\n",
       "      <td>7.147</td>\n",
       "      <td>54.2</td>\n",
       "      <td>6.0622</td>\n",
       "      <td>3.0</td>\n",
       "      <td>222.0</td>\n",
       "      <td>18.7</td>\n",
       "      <td>396.90</td>\n",
       "      <td>5.33</td>\n",
       "      <td>36.2</td>\n",
       "    </tr>\n",
       "  </tbody>\n",
       "</table>\n",
       "</div>"
      ],
      "text/plain": [
       "      CRIM    ZN  INDUS  CHAS    NOX     RM   AGE     DIS  RAD    TAX  \\\n",
       "0  0.00632  18.0   2.31   0.0  0.538  6.575  65.2  4.0900  1.0  296.0   \n",
       "1  0.02731   0.0   7.07   0.0  0.469  6.421  78.9  4.9671  2.0  242.0   \n",
       "2  0.02729   0.0   7.07   0.0  0.469  7.185  61.1  4.9671  2.0  242.0   \n",
       "3  0.03237   0.0   2.18   0.0  0.458  6.998  45.8  6.0622  3.0  222.0   \n",
       "4  0.06905   0.0   2.18   0.0  0.458  7.147  54.2  6.0622  3.0  222.0   \n",
       "\n",
       "   PTRATIO       B  LSTAT  MEDV  \n",
       "0     15.3  396.90   4.98  24.0  \n",
       "1     17.8  396.90   9.14  21.6  \n",
       "2     17.8  392.83   4.03  34.7  \n",
       "3     18.7  394.63   2.94  33.4  \n",
       "4     18.7  396.90   5.33  36.2  "
      ]
     },
     "execution_count": 8,
     "metadata": {},
     "output_type": "execute_result"
    }
   ],
   "source": [
    "# Visualizando as primeiras linhas e colunas do dataframe\n",
    "\n",
    "df.head()"
   ]
  },
  {
   "cell_type": "code",
   "execution_count": 9,
   "id": "c8a46cdd",
   "metadata": {},
   "outputs": [
    {
     "data": {
      "text/plain": [
       "CRIM       0\n",
       "ZN         0\n",
       "INDUS      0\n",
       "CHAS       0\n",
       "NOX        0\n",
       "RM         0\n",
       "AGE        0\n",
       "DIS        0\n",
       "RAD        0\n",
       "TAX        0\n",
       "PTRATIO    0\n",
       "B          0\n",
       "LSTAT      0\n",
       "MEDV       0\n",
       "dtype: int64"
      ]
     },
     "execution_count": 9,
     "metadata": {},
     "output_type": "execute_result"
    }
   ],
   "source": [
    "# Verificando se existem colunas com entradas nulas\n",
    "\n",
    "df.isnull().sum()"
   ]
  },
  {
   "cell_type": "code",
   "execution_count": 10,
   "id": "f4394cf4",
   "metadata": {},
   "outputs": [
    {
     "name": "stdout",
     "output_type": "stream",
     "text": [
      "             CRIM        ZN     INDUS      CHAS       NOX        RM       AGE  \\\n",
      "CRIM     1.000000 -0.200469  0.406583 -0.055892  0.420972 -0.219247  0.352734   \n",
      "ZN      -0.200469  1.000000 -0.533828 -0.042697 -0.516604  0.311991 -0.569537   \n",
      "INDUS    0.406583 -0.533828  1.000000  0.062938  0.763651 -0.391676  0.644779   \n",
      "CHAS    -0.055892 -0.042697  0.062938  1.000000  0.091203  0.091251  0.086518   \n",
      "NOX      0.420972 -0.516604  0.763651  0.091203  1.000000 -0.302188  0.731470   \n",
      "RM      -0.219247  0.311991 -0.391676  0.091251 -0.302188  1.000000 -0.240265   \n",
      "AGE      0.352734 -0.569537  0.644779  0.086518  0.731470 -0.240265  1.000000   \n",
      "DIS     -0.379670  0.664408 -0.708027 -0.099176 -0.769230  0.205246 -0.747881   \n",
      "RAD      0.625505 -0.311948  0.595129 -0.007368  0.611441 -0.209847  0.456022   \n",
      "TAX      0.582764 -0.314563  0.720760 -0.035587  0.668023 -0.292048  0.506456   \n",
      "PTRATIO  0.289946 -0.391679  0.383248 -0.121515  0.188933 -0.355501  0.261515   \n",
      "B       -0.385064  0.175520 -0.356977  0.048788 -0.380051  0.128069 -0.273534   \n",
      "LSTAT    0.455621 -0.412995  0.603800 -0.053929  0.590879 -0.613808  0.602339   \n",
      "MEDV    -0.388305  0.360445 -0.483725  0.175260 -0.427321  0.695360 -0.376955   \n",
      "\n",
      "              DIS       RAD       TAX   PTRATIO         B     LSTAT      MEDV  \n",
      "CRIM    -0.379670  0.625505  0.582764  0.289946 -0.385064  0.455621 -0.388305  \n",
      "ZN       0.664408 -0.311948 -0.314563 -0.391679  0.175520 -0.412995  0.360445  \n",
      "INDUS   -0.708027  0.595129  0.720760  0.383248 -0.356977  0.603800 -0.483725  \n",
      "CHAS    -0.099176 -0.007368 -0.035587 -0.121515  0.048788 -0.053929  0.175260  \n",
      "NOX     -0.769230  0.611441  0.668023  0.188933 -0.380051  0.590879 -0.427321  \n",
      "RM       0.205246 -0.209847 -0.292048 -0.355501  0.128069 -0.613808  0.695360  \n",
      "AGE     -0.747881  0.456022  0.506456  0.261515 -0.273534  0.602339 -0.376955  \n",
      "DIS      1.000000 -0.494588 -0.534432 -0.232471  0.291512 -0.496996  0.249929  \n",
      "RAD     -0.494588  1.000000  0.910228  0.464741 -0.444413  0.488676 -0.381626  \n",
      "TAX     -0.534432  0.910228  1.000000  0.460853 -0.441808  0.543993 -0.468536  \n",
      "PTRATIO -0.232471  0.464741  0.460853  1.000000 -0.177383  0.374044 -0.507787  \n",
      "B        0.291512 -0.444413 -0.441808 -0.177383  1.000000 -0.366087  0.333461  \n",
      "LSTAT   -0.496996  0.488676  0.543993  0.374044 -0.366087  1.000000 -0.737663  \n",
      "MEDV     0.249929 -0.381626 -0.468536 -0.507787  0.333461 -0.737663  1.000000  \n"
     ]
    }
   ],
   "source": [
    "# Avaliando a correlação dos atributos de entrada com a variável-alvo de saída para reduzir dimensionalidade\n",
    "\n",
    "corr = df.corr() \n",
    "\n",
    "print(corr)"
   ]
  },
  {
   "attachments": {
    "image.png": {
     "image/png": "[encoded data removed]"
    }
   },
   "cell_type": "markdown",
   "id": "19e6bf76",
   "metadata": {},
   "source": [
    "# Atributos de interesse:\n",
    "\n",
    "![image.png](attachment:image.png)"
   ]
  },
  {
   "cell_type": "code",
   "execution_count": 11,
   "id": "f7bfc054",
   "metadata": {},
   "outputs": [],
   "source": [
    "# Criando um dataframe de entrada apenas com um subconjunto dos atributos\n",
    "\n",
    "X = pd.DataFrame(np.c_[df[\"LSTAT\"], df[\"RM\"], df[\"ZN\"]], columns = [\"LSTAT\",\"RM\", \"ZN\"])"
   ]
  },
  {
   "cell_type": "code",
   "execution_count": 12,
   "id": "e0cf681a",
   "metadata": {},
   "outputs": [],
   "source": [
    "# Definindo a variável de saída (preço do imóvel)\n",
    "\n",
    "y = df[\"MEDV\"]"
   ]
  },
  {
   "cell_type": "code",
   "execution_count": 13,
   "id": "0cc80ded",
   "metadata": {},
   "outputs": [],
   "source": [
    "# Realizando split do dataset em treino (entrada e saída) e teste (entrada e saída)\n",
    "\n",
    "x_treino, x_teste, y_treino, y_teste = train_test_split(X, y, test_size = 0.3, random_state = 5)"
   ]
  },
  {
   "cell_type": "code",
   "execution_count": 14,
   "id": "2578295a",
   "metadata": {},
   "outputs": [
    {
     "data": {
      "text/plain": [
       "(354, 3)"
      ]
     },
     "execution_count": 14,
     "metadata": {},
     "output_type": "execute_result"
    }
   ],
   "source": [
    "# Verificando o shape do conjunto de treino de entrada\n",
    "\n",
    "x_treino.shape"
   ]
  },
  {
   "cell_type": "code",
   "execution_count": 15,
   "id": "9324d717",
   "metadata": {},
   "outputs": [
    {
     "data": {
      "text/plain": [
       "(152, 3)"
      ]
     },
     "execution_count": 15,
     "metadata": {},
     "output_type": "execute_result"
    }
   ],
   "source": [
    "# Verificando o shape do conjunto de teste de entrada\n",
    "\n",
    "x_teste.shape"
   ]
  },
  {
   "cell_type": "code",
   "execution_count": 16,
   "id": "a9813784",
   "metadata": {},
   "outputs": [
    {
     "data": {
      "text/plain": [
       "(354,)"
      ]
     },
     "execution_count": 16,
     "metadata": {},
     "output_type": "execute_result"
    }
   ],
   "source": [
    "# Verificando o shape do conjunto de treino de saída (rótulos)\n",
    "\n",
    "y_treino.shape"
   ]
  },
  {
   "cell_type": "code",
   "execution_count": 17,
   "id": "3cee5d35",
   "metadata": {},
   "outputs": [
    {
     "data": {
      "text/plain": [
       "(152,)"
      ]
     },
     "execution_count": 17,
     "metadata": {},
     "output_type": "execute_result"
    }
   ],
   "source": [
    "# Verificando o shape do conjunto de teste de saída (rótulos)\n",
    "\n",
    "y_teste.shape"
   ]
  },
  {
   "cell_type": "code",
   "execution_count": 18,
   "id": "703cac37",
   "metadata": {},
   "outputs": [
    {
     "data": {
      "text/plain": [
       "array([ 5. ,  5.6,  6.3,  7.2,  7.4,  7.5,  8.4,  8.5,  8.7,  8.8,  9.5,\n",
       "        9.6, 10.2, 10.4, 10.9, 11. , 11.3, 11.5, 11.7, 11.8, 11.9, 12. ,\n",
       "       12.3, 12.5, 12.6, 12.7, 12.8, 13.1, 13.2, 13.3, 13.4, 13.5, 13.6,\n",
       "       13.8, 13.9, 14.1, 14.3, 14.4, 14.5, 14.6, 14.8, 14.9, 15. , 15.1,\n",
       "       15.2, 15.3, 15.4, 15.6, 15.7, 16. , 16.1, 16.2, 16.3, 16.4, 16.5,\n",
       "       16.6, 16.7, 16.8, 17. , 17.1, 17.2, 17.4, 17.5, 17.7, 17.8, 18. ,\n",
       "       18.1, 18.2, 18.3, 18.4, 18.5, 18.6, 18.7, 18.8, 18.9, 19. , 19.1,\n",
       "       19.2, 19.3, 19.4, 19.5, 19.6, 19.8, 19.9, 20. , 20.1, 20.2, 20.3,\n",
       "       20.4, 20.5, 20.6, 20.7, 20.8, 20.9, 21. , 21.1, 21.2, 21.4, 21.6,\n",
       "       21.7, 21.8, 21.9, 22. , 22.2, 22.3, 22.4, 22.5, 22.6, 22.7, 22.8,\n",
       "       22.9, 23. , 23.1, 23.2, 23.3, 23.4, 23.5, 23.6, 23.7, 23.8, 23.9,\n",
       "       24. , 24.1, 24.2, 24.3, 24.4, 24.5, 24.6, 24.7, 24.8, 25. , 25.2,\n",
       "       25.3, 26.2, 26.6, 26.7, 27. , 27.1, 27.5, 28. , 28.1, 28.2, 28.4,\n",
       "       28.5, 28.7, 29. , 29.1, 29.4, 29.6, 29.8, 29.9, 30.1, 30.7, 30.8,\n",
       "       31.1, 31.2, 31.5, 31.6, 31.7, 32. , 32.4, 32.5, 32.7, 32.9, 33. ,\n",
       "       33.1, 33.2, 33.3, 33.4, 33.8, 34.7, 34.9, 35.1, 35.4, 36. , 36.2,\n",
       "       36.4, 36.5, 37. , 37.2, 37.3, 37.9, 38.7, 39.8, 41.7, 42.3, 42.8,\n",
       "       43.1, 43.5, 44. , 45.4, 46. , 46.7, 48.3, 48.5, 50. ])"
      ]
     },
     "execution_count": 18,
     "metadata": {},
     "output_type": "execute_result"
    }
   ],
   "source": [
    "# Verificando os rótulos do conjunto de entrada de teste de forma ordenada \n",
    "\n",
    "np.unique(y_treino)"
   ]
  },
  {
   "cell_type": "code",
   "execution_count": 20,
   "id": "6cb43b16",
   "metadata": {},
   "outputs": [
    {
     "data": {
      "text/plain": [
       "array([ 7. ,  8.1,  8.3,  8.8,  9.7, 10.4, 10.5, 10.8, 10.9, 11.7, 12.1,\n",
       "       12.7, 13. , 13.1, 13.3, 13.5, 13.8, 14. , 14.1, 14.2, 14.4, 15. ,\n",
       "       15.2, 15.4, 15.6, 16.1, 16.2, 16.6, 16.7, 16.8, 17.1, 17.2, 17.3,\n",
       "       17.4, 17.5, 17.6, 17.8, 17.9, 18.4, 18.6, 18.7, 18.9, 19. , 19.2,\n",
       "       19.3, 19.4, 19.6, 19.7, 19.8, 20.2, 20.3, 20.4, 20.5, 20.6, 20.7,\n",
       "       21. , 21.2, 21.4, 21.5, 21.7, 22.1, 22.2, 22.4, 22.5, 22.6, 22.7,\n",
       "       22.8, 23. , 23.1, 23.2, 23.4, 23.9, 24. , 24.1, 24.3, 24.4, 24.5,\n",
       "       24.7, 24.8, 25. , 25.1, 26.4, 26.5, 26.6, 27.1, 27.5, 27.9, 28.6,\n",
       "       29. , 30.1, 30.3, 30.5, 31. , 32.2, 33.2, 33.4, 34.6, 34.9, 35.2,\n",
       "       36.1, 37.6, 41.3, 43.8, 44.8, 48.8, 50. ])"
      ]
     },
     "execution_count": 20,
     "metadata": {},
     "output_type": "execute_result"
    }
   ],
   "source": [
    "# Verificando os rótulos do conjunto de saída de teste \n",
    "\n",
    "np.unique(y_teste)"
   ]
  },
  {
   "cell_type": "code",
   "execution_count": 21,
   "id": "0e27c0a7",
   "metadata": {},
   "outputs": [],
   "source": [
    "# Definindo o regressor Linear Regression\n",
    "\n",
    "Linear_Regression_model = LinearRegression()"
   ]
  },
  {
   "cell_type": "code",
   "execution_count": 22,
   "id": "187b689c",
   "metadata": {},
   "outputs": [
    {
     "data": {
      "text/plain": [
       "LinearRegression()"
      ]
     },
     "execution_count": 22,
     "metadata": {},
     "output_type": "execute_result"
    }
   ],
   "source": [
    "# Treinando o regressor Linear Regression\n",
    "\n",
    "Linear_Regression_model.fit(x_treino, y_treino)"
   ]
  },
  {
   "cell_type": "code",
   "execution_count": 23,
   "id": "33f30cd0",
   "metadata": {},
   "outputs": [],
   "source": [
    "# Realizando predições no conjunto de teste\n",
    "\n",
    "predicoes = Linear_Regression_model.predict(x_teste)"
   ]
  },
  {
   "cell_type": "code",
   "execution_count": 24,
   "id": "3a939a8b",
   "metadata": {},
   "outputs": [
    {
     "name": "stdout",
     "output_type": "stream",
     "text": [
      "\n",
      "Score do regressor: 0.6137630456347534\n"
     ]
    }
   ],
   "source": [
    "# Obtendo o acerto médio do regressor no conjunto de teste\n",
    "\n",
    "score = Linear_Regression_model.score(x_teste, y_teste)\n",
    "print(\"\\nScore do regressor:\", score)"
   ]
  },
  {
   "cell_type": "code",
   "execution_count": 25,
   "id": "0397baad",
   "metadata": {},
   "outputs": [
    {
     "name": "stdout",
     "output_type": "stream",
     "text": [
      "[36.53052117 30.6695763  25.21105554  1.58393692 33.14603458  8.62546898\n",
      " 29.87820615 27.16264527 25.77432115 21.7921544  31.62371484 22.56652927\n",
      " 22.35904028 31.05872808 26.93131686 20.29736126  0.51433401 17.56041971\n",
      " 12.51711523 21.24731464  5.69659588 23.53430843 36.9664496  24.06309986\n",
      " 31.08483704 13.04717976 26.24429824 22.0191252  26.71225448 29.46602973\n",
      " 12.0309678  10.83945985 17.91496643 24.83436697 26.45398681 22.59360708\n",
      " 25.76716819 12.86713808 36.93453143 34.15148075 20.11821034  2.34958977\n",
      " 26.93364954 16.65425326 26.73827633 30.71861243 -1.65690837 17.26669476\n",
      " 20.4578429  14.33563561 20.48796718 21.10170804 24.50537747 16.38316515\n",
      " 17.42252237 28.93189869 35.2050531  19.82386839 28.06127175 20.59648949\n",
      " 19.86015505 22.49880613 16.45995353 30.38599925 22.14053057 13.18945329\n",
      " 23.05588776 25.09823733 22.36368148 21.1031335  19.28052763 25.59915124\n",
      " 16.65376235 20.33518135 19.25929932 31.49287511 19.07354298 13.30584797\n",
      " 28.45704683 18.89278858 21.74579908 38.00432475 15.99759872 20.18958819\n",
      " 23.15040168 18.56281199 17.19321376  7.95802429 17.77630441 24.70257448\n",
      " 34.70021072 19.88170966 21.59383923 19.34283614 25.74209372 28.37712661\n",
      " 16.68851906 30.46517077 17.73689775 15.1214398  23.15630357 25.34437081\n",
      " 15.7635491  38.02775234 15.54444399 23.62681944 17.86778514 21.83954467\n",
      " 26.77162692 15.91472267 28.83756108 21.33814802 20.20640587 30.4637124\n",
      " 20.69574277 11.82153617 18.06890803 17.04417836 18.28475202 19.46037685\n",
      " 22.77055911 32.22555265 26.00621567 20.34184102 23.94153137 27.66496712\n",
      " 21.42902051 17.22544119 22.3832631  37.68931443 36.16412367 23.93162991\n",
      " 13.9395919  17.83523608 18.05119899 21.28245369 14.59267873  4.48451981\n",
      " 27.28944923 30.38843066 21.49368435 20.01808582 18.81459692 21.86415391\n",
      " 32.51838615 22.58761457 28.80252277 19.8221794  23.29153679 28.91211211\n",
      " 14.62537547 31.76543208]\n"
     ]
    }
   ],
   "source": [
    "# Imprimindo as predições do regressor para o conjunto de teste\n",
    "\n",
    "print(predicoes)"
   ]
  },
  {
   "cell_type": "code",
   "execution_count": 26,
   "id": "293ad4cc",
   "metadata": {},
   "outputs": [
    {
     "name": "stdout",
     "output_type": "stream",
     "text": [
      "[27.67170696]\n"
     ]
    }
   ],
   "source": [
    "# Realizando predição para valores não vistos\n",
    "\n",
    "caracteristicas = [[4.70, 6.00, 80.00]]\n",
    "\n",
    "predicao = Linear_Regression_model.predict(caracteristicas)\n",
    "\n",
    "print (predicao)"
   ]
  },
  {
   "cell_type": "code",
   "execution_count": 27,
   "id": "dbf2578e",
   "metadata": {},
   "outputs": [
    {
     "data": {
      "text/plain": [
       "array([-0.63316605,  4.75852277,  0.02303304])"
      ]
     },
     "execution_count": 27,
     "metadata": {},
     "output_type": "execute_result"
    }
   ],
   "source": [
    "# Imprimindo os coeficientes aprendidos pelo regressor\n",
    "\n",
    "Linear_Regression_model.coef_"
   ]
  },
  {
   "cell_type": "markdown",
   "id": "990793aa",
   "metadata": {},
   "source": [
    "# Regressão Polinomial"
   ]
  },
  {
   "cell_type": "code",
   "execution_count": 28,
   "id": "f2180a18",
   "metadata": {},
   "outputs": [],
   "source": [
    "# Importando bibliotecas\n",
    "\n",
    "from sklearn.datasets import load_boston\n",
    "from sklearn.model_selection import train_test_split\n",
    "from sklearn.preprocessing import PolynomialFeatures\n",
    "from sklearn.linear_model import LinearRegression"
   ]
  },
  {
   "cell_type": "code",
   "execution_count": 29,
   "id": "b7d23081",
   "metadata": {},
   "outputs": [],
   "source": [
    "# Carregando o dataset Boston do sklearn para estimação dos valores de venda de um imóvel (em milhares de dólares)\n",
    "\n",
    "dataset = load_boston()"
   ]
  },
  {
   "cell_type": "code",
   "execution_count": 30,
   "id": "2aa47e1a",
   "metadata": {},
   "outputs": [],
   "source": [
    "# Carregando os atributos de entrada em um Pandas dataframe\n",
    "\n",
    "df = pd.DataFrame(dataset.data, columns = dataset.feature_names)"
   ]
  },
  {
   "cell_type": "code",
   "execution_count": 31,
   "id": "2af986c2",
   "metadata": {},
   "outputs": [],
   "source": [
    "# Adicionando a variável de saída ao dataframe criado\n",
    "\n",
    "df[\"MEDV\"] = dataset.target"
   ]
  },
  {
   "cell_type": "code",
   "execution_count": 32,
   "id": "42e35e27",
   "metadata": {},
   "outputs": [],
   "source": [
    "# Criando um dataframe de entrada apenas com um subconjunto dos atributos\n",
    "\n",
    "X = pd.DataFrame(np.c_[df[\"LSTAT\"], df[\"RM\"], df[\"ZN\"]], columns = [\"LSTAT\",\"RM\", \"ZN\"])"
   ]
  },
  {
   "cell_type": "code",
   "execution_count": 33,
   "id": "df690d4d",
   "metadata": {},
   "outputs": [],
   "source": [
    "# Definindo a variável de saída (preço do imóvel)\n",
    "\n",
    "y = df[\"MEDV\"]"
   ]
  },
  {
   "cell_type": "code",
   "execution_count": 34,
   "id": "ec064680",
   "metadata": {},
   "outputs": [],
   "source": [
    "# Realizando split do dataset em treino (entrada e saída) e teste (entrada e saída)\n",
    "\n",
    "x_treino, x_teste, y_treino, y_teste = train_test_split(X, y, test_size = 0.3, random_state = 5)"
   ]
  },
  {
   "cell_type": "code",
   "execution_count": 35,
   "id": "08447ed3",
   "metadata": {},
   "outputs": [],
   "source": [
    "# Definindo objetos polinomiais\n",
    "\n",
    "poly_features_d1 = PolynomialFeatures(degree = 1)\n",
    "\n",
    "poly_features_d2 = PolynomialFeatures(degree = 2)\n",
    "\n",
    "poly_features_d3 = PolynomialFeatures(degree = 3)\n",
    "\n",
    "poly_features_d4 = PolynomialFeatures(degree = 4)\n",
    "\n",
    "# Criando atributos polinomiais com grau de 1 a 4\n",
    "\n",
    "x_treino_poly_d1 = poly_features_d1.fit_transform(x_treino)\n",
    "\n",
    "x_treino_poly_d2 = poly_features_d2.fit_transform(x_treino)\n",
    "\n",
    "x_treino_poly_d3 = poly_features_d3.fit_transform(x_treino)\n",
    "\n",
    "x_treino_poly_d4 = poly_features_d4.fit_transform(x_treino)"
   ]
  },
  {
   "cell_type": "code",
   "execution_count": 36,
   "id": "ebda639f",
   "metadata": {},
   "outputs": [],
   "source": [
    "# Definindo os regressores lineares\n",
    "\n",
    "poly_model_d1 = LinearRegression()\n",
    "\n",
    "poly_model_d2 = LinearRegression()\n",
    "\n",
    "poly_model_d3 = LinearRegression()\n",
    "\n",
    "poly_model_d4 = LinearRegression()"
   ]
  },
  {
   "cell_type": "code",
   "execution_count": 37,
   "id": "51bff78a",
   "metadata": {},
   "outputs": [
    {
     "data": {
      "text/plain": [
       "LinearRegression()"
      ]
     },
     "execution_count": 37,
     "metadata": {},
     "output_type": "execute_result"
    }
   ],
   "source": [
    "# Treinando os modelos de regressão\n",
    "\n",
    "poly_model_d1.fit(x_treino_poly_d1, y_treino)\n",
    "\n",
    "poly_model_d2.fit(x_treino_poly_d2, y_treino)\n",
    "\n",
    "poly_model_d3.fit(x_treino_poly_d3, y_treino)\n",
    "\n",
    "poly_model_d4.fit(x_treino_poly_d4, y_treino)"
   ]
  },
  {
   "cell_type": "code",
   "execution_count": 38,
   "id": "17e35b1a",
   "metadata": {},
   "outputs": [
    {
     "name": "stdout",
     "output_type": "stream",
     "text": [
      "\n",
      "Score do regressor grau 1: 0.6137630456347535\n"
     ]
    }
   ],
   "source": [
    "# Grau 1\n",
    "\n",
    "x_teste_poly_d1 = poly_features_d1.fit_transform(x_teste)\n",
    "\n",
    "\n",
    "# Realizando predições no conjunto de teste\n",
    "\n",
    "predicoes = poly_model_d1.predict(x_teste_poly_d1)\n",
    "\n",
    "# Obtendo o acerto médio do regressor no conjunto de teste\n",
    "\n",
    "score = poly_model_d1.score(x_teste_poly_d1, y_teste)\n",
    "\n",
    "print(\"\\nScore do regressor grau 1:\", score)"
   ]
  },
  {
   "cell_type": "code",
   "execution_count": 39,
   "id": "bceae778",
   "metadata": {},
   "outputs": [
    {
     "name": "stdout",
     "output_type": "stream",
     "text": [
      "\n",
      "Score do regressor grau 2: 0.7491262569174931\n"
     ]
    }
   ],
   "source": [
    "# Grau 2\n",
    "\n",
    "x_teste_poly_d2 = poly_features_d2.fit_transform(x_teste)\n",
    "\n",
    "# Realizando predições no conjunto de teste\n",
    "\n",
    "predicoes = poly_model_d2.predict(x_teste_poly_d2)\n",
    "\n",
    "# Obtendo o acerto médio do regressor no conjunto de teste\n",
    "\n",
    "score = poly_model_d2.score(x_teste_poly_d2, y_teste)\n",
    "\n",
    "print(\"\\nScore do regressor grau 2:\", score)"
   ]
  },
  {
   "cell_type": "code",
   "execution_count": 40,
   "id": "408ef150",
   "metadata": {},
   "outputs": [
    {
     "name": "stdout",
     "output_type": "stream",
     "text": [
      "\n",
      "Score do regressor grau 3: 0.7260528499024435\n"
     ]
    }
   ],
   "source": [
    "# Grau 3\n",
    "\n",
    "x_teste_poly_d3 = poly_features_d3.fit_transform(x_teste)\n",
    "\n",
    "# Realizando predições no conjunto de teste\n",
    "\n",
    "predicoes = poly_model_d3.predict(x_teste_poly_d3)\n",
    "\n",
    "# Obtendo o acerto médio do regressor no conjunto de teste\n",
    "\n",
    "score = poly_model_d3.score(x_teste_poly_d3, y_teste)\n",
    "\n",
    "print(\"\\nScore do regressor grau 3:\", score)"
   ]
  },
  {
   "cell_type": "code",
   "execution_count": 41,
   "id": "850ea45e",
   "metadata": {},
   "outputs": [
    {
     "name": "stdout",
     "output_type": "stream",
     "text": [
      "\n",
      "Score do regressor grau 4: 0.6913354874859239\n"
     ]
    }
   ],
   "source": [
    "# Grau 4\n",
    "\n",
    "x_teste_poly_d4 = poly_features_d4.fit_transform(x_teste)\n",
    "\n",
    "# Realizando predições no conjunto de teste\n",
    "\n",
    "predicoes = poly_model_d4.predict(x_teste_poly_d4)\n",
    "\n",
    "# Obtendo o acerto médio do regressor no conjunto de teste\n",
    "\n",
    "score = poly_model_d4.score(x_teste_poly_d4, y_teste)\n",
    "\n",
    "print(\"\\nScore do regressor grau 4:\", score)"
   ]
  },
  {
   "cell_type": "markdown",
   "id": "cf8a9e17",
   "metadata": {},
   "source": [
    "# Regressão Logística"
   ]
  },
  {
   "cell_type": "code",
   "execution_count": 42,
   "id": "4dddf9de",
   "metadata": {},
   "outputs": [],
   "source": [
    "# Importando bibliotecas\n",
    "\n",
    "from sklearn.datasets import load_iris\n",
    "import seaborn as sns\n",
    "from sklearn.model_selection import train_test_split\n",
    "from sklearn.linear_model import LogisticRegression\n",
    "from sklearn import metrics"
   ]
  },
  {
   "cell_type": "code",
   "execution_count": 43,
   "id": "31ad0694",
   "metadata": {},
   "outputs": [],
   "source": [
    "# Carregando o dataset IRIS do sklearn para classificação de tipos de planta\n",
    "\n",
    "iris_dataset = load_iris()"
   ]
  },
  {
   "cell_type": "code",
   "execution_count": 44,
   "id": "44d9c478",
   "metadata": {},
   "outputs": [
    {
     "data": {
      "text/plain": [
       "(150, 4)"
      ]
     },
     "execution_count": 44,
     "metadata": {},
     "output_type": "execute_result"
    }
   ],
   "source": [
    "# Verificando o shape do dataset: número de instâncias (linhas), número de atributos (colunas)\n",
    "\n",
    "iris_dataset.data.shape"
   ]
  },
  {
   "cell_type": "code",
   "execution_count": 45,
   "id": "a3502125",
   "metadata": {},
   "outputs": [
    {
     "data": {
      "text/plain": [
       "numpy.ndarray"
      ]
     },
     "execution_count": 45,
     "metadata": {},
     "output_type": "execute_result"
    }
   ],
   "source": [
    "# Verificando o tipo de estrutura de dados\n",
    "\n",
    "type(iris_dataset.data)"
   ]
  },
  {
   "cell_type": "code",
   "execution_count": 46,
   "id": "2774fd1a",
   "metadata": {},
   "outputs": [
    {
     "data": {
      "text/html": [
       "<div>\n",
       "<style scoped>\n",
       "    .dataframe tbody tr th:only-of-type {\n",
       "        vertical-align: middle;\n",
       "    }\n",
       "\n",
       "    .dataframe tbody tr th {\n",
       "        vertical-align: top;\n",
       "    }\n",
       "\n",
       "    .dataframe thead th {\n",
       "        text-align: right;\n",
       "    }\n",
       "</style>\n",
       "<table border=\"1\" class=\"dataframe\">\n",
       "  <thead>\n",
       "    <tr style=\"text-align: right;\">\n",
       "      <th></th>\n",
       "      <th>sepal_length</th>\n",
       "      <th>sepal_width</th>\n",
       "      <th>petal_length</th>\n",
       "      <th>petal_width</th>\n",
       "      <th>species</th>\n",
       "    </tr>\n",
       "  </thead>\n",
       "  <tbody>\n",
       "    <tr>\n",
       "      <th>0</th>\n",
       "      <td>5.1</td>\n",
       "      <td>3.5</td>\n",
       "      <td>1.4</td>\n",
       "      <td>0.2</td>\n",
       "      <td>setosa</td>\n",
       "    </tr>\n",
       "    <tr>\n",
       "      <th>1</th>\n",
       "      <td>4.9</td>\n",
       "      <td>3.0</td>\n",
       "      <td>1.4</td>\n",
       "      <td>0.2</td>\n",
       "      <td>setosa</td>\n",
       "    </tr>\n",
       "    <tr>\n",
       "      <th>2</th>\n",
       "      <td>4.7</td>\n",
       "      <td>3.2</td>\n",
       "      <td>1.3</td>\n",
       "      <td>0.2</td>\n",
       "      <td>setosa</td>\n",
       "    </tr>\n",
       "    <tr>\n",
       "      <th>3</th>\n",
       "      <td>4.6</td>\n",
       "      <td>3.1</td>\n",
       "      <td>1.5</td>\n",
       "      <td>0.2</td>\n",
       "      <td>setosa</td>\n",
       "    </tr>\n",
       "    <tr>\n",
       "      <th>4</th>\n",
       "      <td>5.0</td>\n",
       "      <td>3.6</td>\n",
       "      <td>1.4</td>\n",
       "      <td>0.2</td>\n",
       "      <td>setosa</td>\n",
       "    </tr>\n",
       "  </tbody>\n",
       "</table>\n",
       "</div>"
      ],
      "text/plain": [
       "   sepal_length  sepal_width  petal_length  petal_width species\n",
       "0           5.1          3.5           1.4          0.2  setosa\n",
       "1           4.9          3.0           1.4          0.2  setosa\n",
       "2           4.7          3.2           1.3          0.2  setosa\n",
       "3           4.6          3.1           1.5          0.2  setosa\n",
       "4           5.0          3.6           1.4          0.2  setosa"
      ]
     },
     "execution_count": 46,
     "metadata": {},
     "output_type": "execute_result"
    }
   ],
   "source": [
    "# Abrindo o banco de dados Iris com a biblioteca seaborn\n",
    "\n",
    "iris = sns.load_dataset(\"iris\") \n",
    "\n",
    "# Visualizando os dados\n",
    "\n",
    "iris.head()"
   ]
  },
  {
   "cell_type": "code",
   "execution_count": 47,
   "id": "f86071fd",
   "metadata": {},
   "outputs": [],
   "source": [
    "# Realizando split do dataset em treino (entrada e saída) e teste (entrada e saída)\n",
    "\n",
    "x_treino, x_teste, y_treino, y_teste = train_test_split(iris_dataset.data, iris_dataset.target, test_size=0.3, random_state=0)"
   ]
  },
  {
   "cell_type": "code",
   "execution_count": 48,
   "id": "db7c0149",
   "metadata": {},
   "outputs": [
    {
     "data": {
      "text/plain": [
       "(105, 4)"
      ]
     },
     "execution_count": 48,
     "metadata": {},
     "output_type": "execute_result"
    }
   ],
   "source": [
    "# Verificando o shape do conjunto de treino de entrada\n",
    "\n",
    "x_treino.shape"
   ]
  },
  {
   "cell_type": "code",
   "execution_count": 49,
   "id": "88f737e7",
   "metadata": {},
   "outputs": [
    {
     "data": {
      "text/plain": [
       "(45, 4)"
      ]
     },
     "execution_count": 49,
     "metadata": {},
     "output_type": "execute_result"
    }
   ],
   "source": [
    "# Verificando o shape do conjunto de teste de entrada\n",
    "\n",
    "x_teste.shape"
   ]
  },
  {
   "cell_type": "code",
   "execution_count": 50,
   "id": "2df1988e",
   "metadata": {},
   "outputs": [
    {
     "data": {
      "text/plain": [
       "(105,)"
      ]
     },
     "execution_count": 50,
     "metadata": {},
     "output_type": "execute_result"
    }
   ],
   "source": [
    "# Verificando o shape do conjunto de treino de saída (rótulos)\n",
    "\n",
    "y_treino.shape"
   ]
  },
  {
   "cell_type": "code",
   "execution_count": 51,
   "id": "a4e4c91e",
   "metadata": {},
   "outputs": [
    {
     "data": {
      "text/plain": [
       "(45,)"
      ]
     },
     "execution_count": 51,
     "metadata": {},
     "output_type": "execute_result"
    }
   ],
   "source": [
    "# Verificando o shape do conjunto de teste de saída (rótulos)\n",
    "\n",
    "y_teste.shape"
   ]
  },
  {
   "cell_type": "code",
   "execution_count": 52,
   "id": "1c8b6f79",
   "metadata": {},
   "outputs": [
    {
     "data": {
      "text/plain": [
       "array([0, 1, 2])"
      ]
     },
     "execution_count": 52,
     "metadata": {},
     "output_type": "execute_result"
    }
   ],
   "source": [
    "# Verificando os rótulos do conjunto de entrada de teste de forma ordenada\n",
    "\n",
    "np.unique(y_treino)"
   ]
  },
  {
   "cell_type": "code",
   "execution_count": 53,
   "id": "28da2815",
   "metadata": {},
   "outputs": [
    {
     "data": {
      "text/plain": [
       "array([0, 1, 2])"
      ]
     },
     "execution_count": 53,
     "metadata": {},
     "output_type": "execute_result"
    }
   ],
   "source": [
    "# Verificando os rótulos do conjunto de saída de teste\n",
    "\n",
    "np.unique(y_teste)"
   ]
  },
  {
   "cell_type": "code",
   "execution_count": 54,
   "id": "7c434760",
   "metadata": {},
   "outputs": [],
   "source": [
    "# Definindo o classificador Logist Regression\n",
    "# max_iter número máximo de iterações para as soluções\n",
    "\n",
    "Logist_Regression_model = LogisticRegression(max_iter = 10000, random_state = 0)"
   ]
  },
  {
   "cell_type": "code",
   "execution_count": 60,
   "id": "ec4a59ee",
   "metadata": {},
   "outputs": [
    {
     "data": {
      "text/plain": [
       "LogisticRegression(max_iter=10000, random_state=0)"
      ]
     },
     "execution_count": 60,
     "metadata": {},
     "output_type": "execute_result"
    }
   ],
   "source": [
    "# Treinando o classificador Logist Regression\n",
    "\n",
    "Logist_Regression_model.fit(x_treino, y_treino)"
   ]
  },
  {
   "cell_type": "code",
   "execution_count": 56,
   "id": "e8122d3e",
   "metadata": {},
   "outputs": [],
   "source": [
    "# Realizando predições no conjunto de teste\n",
    "\n",
    "predicoes = Logist_Regression_model.predict(x_teste)"
   ]
  },
  {
   "cell_type": "code",
   "execution_count": 57,
   "id": "df30177c",
   "metadata": {},
   "outputs": [
    {
     "name": "stdout",
     "output_type": "stream",
     "text": [
      "\n",
      "Score do classificador: 0.9777777777777777\n"
     ]
    }
   ],
   "source": [
    "# Obtendo o acerto médio do classificador no conjunto de teste\n",
    "\n",
    "score = Logist_Regression_model.score(x_teste, y_teste)\n",
    "print(\"\\nScore do classificador:\", score)"
   ]
  },
  {
   "cell_type": "code",
   "execution_count": 58,
   "id": "b83a9ab9",
   "metadata": {},
   "outputs": [
    {
     "name": "stdout",
     "output_type": "stream",
     "text": [
      "\n",
      "Matriz de Confusão do classificador\n",
      " [[16  0  0]\n",
      " [ 0 17  1]\n",
      " [ 0  0 11]]\n"
     ]
    }
   ],
   "source": [
    "# Obtendo a matriz de confusão para o conjunto de teste\n",
    "\n",
    "matriz = metrics.confusion_matrix(y_teste, predicoes)\n",
    "print(\"\\nMatriz de Confusão do classificador\\n\", matriz)"
   ]
  },
  {
   "cell_type": "code",
   "execution_count": 59,
   "id": "fcbd5b2b",
   "metadata": {},
   "outputs": [
    {
     "data": {
      "text/plain": [
       "array([[-0.39777783,  0.83425933, -2.28938237, -0.9783523 ],\n",
       "       [ 0.54464555, -0.29058549, -0.23251808, -0.65856189],\n",
       "       [-0.14686772, -0.54367385,  2.52190044,  1.63691419]])"
      ]
     },
     "execution_count": 59,
     "metadata": {},
     "output_type": "execute_result"
    }
   ],
   "source": [
    "# Imprimindo os coeficientes aprendidos pelo classificador\n",
    "\n",
    "Logist_Regression_model.coef_"
   ]
  },
  {
   "cell_type": "code",
   "execution_count": null,
   "id": "e3245df2",
   "metadata": {},
   "outputs": [],
   "source": []
  }
 ],
 "metadata": {
  "kernelspec": {
   "display_name": "Python 3 (ipykernel)",
   "language": "python",
   "name": "python3"
  },
  "language_info": {
   "codemirror_mode": {
    "name": "ipython",
    "version": 3
   },
   "file_extension": ".py",
   "mimetype": "text/x-python",
   "name": "python",
   "nbconvert_exporter": "python",
   "pygments_lexer": "ipython3",
   "version": "3.9.7"
  }
 },
 "nbformat": 4,
 "nbformat_minor": 5
}
